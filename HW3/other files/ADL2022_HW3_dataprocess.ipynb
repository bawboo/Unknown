{
  "nbformat": 4,
  "nbformat_minor": 0,
  "metadata": {
    "colab": {
      "name": "ADL2022-HW3-dataprocess.ipynb",
      "provenance": [],
      "collapsed_sections": []
    },
    "kernelspec": {
      "name": "python3",
      "display_name": "Python 3"
    },
    "language_info": {
      "name": "python"
    },
    "accelerator": "GPU"
  },
  "cells": [
    {
      "cell_type": "code",
      "execution_count": 1,
      "metadata": {
        "colab": {
          "base_uri": "https://localhost:8080/"
        },
        "id": "IKg5_s1bmXX5",
        "outputId": "c8c00139-91cf-4dfc-e425-951235df7ea7"
      },
      "outputs": [
        {
          "output_type": "stream",
          "name": "stdout",
          "text": [
            "Sun May 15 00:55:51 2022       \n",
            "+-----------------------------------------------------------------------------+\n",
            "| NVIDIA-SMI 460.32.03    Driver Version: 460.32.03    CUDA Version: 11.2     |\n",
            "|-------------------------------+----------------------+----------------------+\n",
            "| GPU  Name        Persistence-M| Bus-Id        Disp.A | Volatile Uncorr. ECC |\n",
            "| Fan  Temp  Perf  Pwr:Usage/Cap|         Memory-Usage | GPU-Util  Compute M. |\n",
            "|                               |                      |               MIG M. |\n",
            "|===============================+======================+======================|\n",
            "|   0  Tesla P100-PCIE...  Off  | 00000000:00:04.0 Off |                    0 |\n",
            "| N/A   34C    P0    26W / 250W |      0MiB / 16280MiB |      0%      Default |\n",
            "|                               |                      |                  N/A |\n",
            "+-------------------------------+----------------------+----------------------+\n",
            "                                                                               \n",
            "+-----------------------------------------------------------------------------+\n",
            "| Processes:                                                                  |\n",
            "|  GPU   GI   CI        PID   Type   Process name                  GPU Memory |\n",
            "|        ID   ID                                                   Usage      |\n",
            "|=============================================================================|\n",
            "|  No running processes found                                                 |\n",
            "+-----------------------------------------------------------------------------+\n"
          ]
        }
      ],
      "source": [
        "!nvidia-smi"
      ]
    },
    {
      "cell_type": "code",
      "source": [
        "!pip install transformers==4.17.0 datasets ckiptagger rouge_score sentencepiece rouge"
      ],
      "metadata": {
        "colab": {
          "base_uri": "https://localhost:8080/"
        },
        "id": "UI3XAo7emvs8",
        "outputId": "e5090b73-d1b3-4a4d-999d-2ac0a0856db1"
      },
      "execution_count": 3,
      "outputs": [
        {
          "output_type": "stream",
          "name": "stdout",
          "text": [
            "Collecting transformers==4.17.0\n",
            "  Using cached transformers-4.17.0-py3-none-any.whl (3.8 MB)\n",
            "Collecting datasets\n",
            "  Using cached datasets-2.2.1-py3-none-any.whl (342 kB)\n",
            "Collecting ckiptagger\n",
            "  Using cached ckiptagger-0.2.1-py3-none-any.whl (34 kB)\n",
            "Collecting rouge_score\n",
            "  Using cached rouge_score-0.0.4-py2.py3-none-any.whl (22 kB)\n",
            "Collecting sentencepiece\n",
            "  Using cached sentencepiece-0.1.96-cp37-cp37m-manylinux_2_17_x86_64.manylinux2014_x86_64.whl (1.2 MB)\n",
            "Collecting rouge\n",
            "  Using cached rouge-1.0.1-py3-none-any.whl (13 kB)\n",
            "Collecting sacremoses\n",
            "  Downloading sacremoses-0.0.53.tar.gz (880 kB)\n",
            "\u001b[K     |████████████████████████████████| 880 kB 14.5 MB/s \n",
            "\u001b[?25hRequirement already satisfied: requests in /usr/local/lib/python3.7/dist-packages (from transformers==4.17.0) (2.23.0)\n",
            "Collecting huggingface-hub<1.0,>=0.1.0\n",
            "  Downloading huggingface_hub-0.6.0-py3-none-any.whl (84 kB)\n",
            "\u001b[K     |████████████████████████████████| 84 kB 4.2 MB/s \n",
            "\u001b[?25hCollecting pyyaml>=5.1\n",
            "  Downloading PyYAML-6.0-cp37-cp37m-manylinux_2_5_x86_64.manylinux1_x86_64.manylinux_2_12_x86_64.manylinux2010_x86_64.whl (596 kB)\n",
            "\u001b[K     |████████████████████████████████| 596 kB 71.0 MB/s \n",
            "\u001b[?25hCollecting tokenizers!=0.11.3,>=0.11.1\n",
            "  Downloading tokenizers-0.12.1-cp37-cp37m-manylinux_2_12_x86_64.manylinux2010_x86_64.whl (6.6 MB)\n",
            "\u001b[K     |████████████████████████████████| 6.6 MB 61.0 MB/s \n",
            "\u001b[?25hRequirement already satisfied: tqdm>=4.27 in /usr/local/lib/python3.7/dist-packages (from transformers==4.17.0) (4.64.0)\n",
            "Requirement already satisfied: regex!=2019.12.17 in /usr/local/lib/python3.7/dist-packages (from transformers==4.17.0) (2019.12.20)\n",
            "Requirement already satisfied: importlib-metadata in /usr/local/lib/python3.7/dist-packages (from transformers==4.17.0) (4.11.3)\n",
            "Requirement already satisfied: numpy>=1.17 in /usr/local/lib/python3.7/dist-packages (from transformers==4.17.0) (1.21.6)\n",
            "Requirement already satisfied: filelock in /usr/local/lib/python3.7/dist-packages (from transformers==4.17.0) (3.6.0)\n",
            "Requirement already satisfied: packaging>=20.0 in /usr/local/lib/python3.7/dist-packages (from transformers==4.17.0) (21.3)\n",
            "Requirement already satisfied: typing-extensions>=3.7.4.3 in /usr/local/lib/python3.7/dist-packages (from huggingface-hub<1.0,>=0.1.0->transformers==4.17.0) (4.2.0)\n",
            "Requirement already satisfied: pyparsing!=3.0.5,>=2.0.2 in /usr/local/lib/python3.7/dist-packages (from packaging>=20.0->transformers==4.17.0) (3.0.8)\n",
            "Requirement already satisfied: multiprocess in /usr/local/lib/python3.7/dist-packages (from datasets) (0.70.12.2)\n",
            "Collecting fsspec[http]>=2021.05.0\n",
            "  Downloading fsspec-2022.3.0-py3-none-any.whl (136 kB)\n",
            "\u001b[K     |████████████████████████████████| 136 kB 77.4 MB/s \n",
            "\u001b[?25hCollecting responses<0.19\n",
            "  Downloading responses-0.18.0-py3-none-any.whl (38 kB)\n",
            "Requirement already satisfied: pandas in /usr/local/lib/python3.7/dist-packages (from datasets) (1.3.5)\n",
            "Requirement already satisfied: pyarrow>=6.0.0 in /usr/local/lib/python3.7/dist-packages (from datasets) (6.0.1)\n",
            "Collecting xxhash\n",
            "  Downloading xxhash-3.0.0-cp37-cp37m-manylinux_2_17_x86_64.manylinux2014_x86_64.whl (212 kB)\n",
            "\u001b[K     |████████████████████████████████| 212 kB 77.1 MB/s \n",
            "\u001b[?25hRequirement already satisfied: dill in /usr/local/lib/python3.7/dist-packages (from datasets) (0.3.4)\n",
            "Collecting aiohttp\n",
            "  Downloading aiohttp-3.8.1-cp37-cp37m-manylinux_2_5_x86_64.manylinux1_x86_64.manylinux_2_12_x86_64.manylinux2010_x86_64.whl (1.1 MB)\n",
            "\u001b[K     |████████████████████████████████| 1.1 MB 63.8 MB/s \n",
            "\u001b[?25hRequirement already satisfied: chardet<4,>=3.0.2 in /usr/local/lib/python3.7/dist-packages (from requests->transformers==4.17.0) (3.0.4)\n",
            "Requirement already satisfied: urllib3!=1.25.0,!=1.25.1,<1.26,>=1.21.1 in /usr/local/lib/python3.7/dist-packages (from requests->transformers==4.17.0) (1.24.3)\n",
            "Requirement already satisfied: idna<3,>=2.5 in /usr/local/lib/python3.7/dist-packages (from requests->transformers==4.17.0) (2.10)\n",
            "Requirement already satisfied: certifi>=2017.4.17 in /usr/local/lib/python3.7/dist-packages (from requests->transformers==4.17.0) (2021.10.8)\n",
            "Collecting urllib3!=1.25.0,!=1.25.1,<1.26,>=1.21.1\n",
            "  Downloading urllib3-1.25.11-py2.py3-none-any.whl (127 kB)\n",
            "\u001b[K     |████████████████████████████████| 127 kB 74.7 MB/s \n",
            "\u001b[?25hRequirement already satisfied: six>=1.14.0 in /usr/local/lib/python3.7/dist-packages (from rouge_score) (1.15.0)\n",
            "Requirement already satisfied: absl-py in /usr/local/lib/python3.7/dist-packages (from rouge_score) (1.0.0)\n",
            "Requirement already satisfied: nltk in /usr/local/lib/python3.7/dist-packages (from rouge_score) (3.2.5)\n",
            "Collecting async-timeout<5.0,>=4.0.0a3\n",
            "  Downloading async_timeout-4.0.2-py3-none-any.whl (5.8 kB)\n",
            "Requirement already satisfied: attrs>=17.3.0 in /usr/local/lib/python3.7/dist-packages (from aiohttp->datasets) (21.4.0)\n",
            "Collecting aiosignal>=1.1.2\n",
            "  Downloading aiosignal-1.2.0-py3-none-any.whl (8.2 kB)\n",
            "Requirement already satisfied: charset-normalizer<3.0,>=2.0 in /usr/local/lib/python3.7/dist-packages (from aiohttp->datasets) (2.0.12)\n",
            "Collecting asynctest==0.13.0\n",
            "  Downloading asynctest-0.13.0-py3-none-any.whl (26 kB)\n",
            "Collecting yarl<2.0,>=1.0\n",
            "  Downloading yarl-1.7.2-cp37-cp37m-manylinux_2_5_x86_64.manylinux1_x86_64.manylinux_2_12_x86_64.manylinux2010_x86_64.whl (271 kB)\n",
            "\u001b[K     |████████████████████████████████| 271 kB 77.1 MB/s \n",
            "\u001b[?25hCollecting multidict<7.0,>=4.5\n",
            "  Downloading multidict-6.0.2-cp37-cp37m-manylinux_2_17_x86_64.manylinux2014_x86_64.whl (94 kB)\n",
            "\u001b[K     |████████████████████████████████| 94 kB 4.3 MB/s \n",
            "\u001b[?25hCollecting frozenlist>=1.1.1\n",
            "  Downloading frozenlist-1.3.0-cp37-cp37m-manylinux_2_5_x86_64.manylinux1_x86_64.manylinux_2_17_x86_64.manylinux2014_x86_64.whl (144 kB)\n",
            "\u001b[K     |████████████████████████████████| 144 kB 75.1 MB/s \n",
            "\u001b[?25hRequirement already satisfied: zipp>=0.5 in /usr/local/lib/python3.7/dist-packages (from importlib-metadata->transformers==4.17.0) (3.8.0)\n",
            "Requirement already satisfied: python-dateutil>=2.7.3 in /usr/local/lib/python3.7/dist-packages (from pandas->datasets) (2.8.2)\n",
            "Requirement already satisfied: pytz>=2017.3 in /usr/local/lib/python3.7/dist-packages (from pandas->datasets) (2022.1)\n",
            "Requirement already satisfied: click in /usr/local/lib/python3.7/dist-packages (from sacremoses->transformers==4.17.0) (7.1.2)\n",
            "Requirement already satisfied: joblib in /usr/local/lib/python3.7/dist-packages (from sacremoses->transformers==4.17.0) (1.1.0)\n",
            "Building wheels for collected packages: sacremoses\n",
            "  Building wheel for sacremoses (setup.py) ... \u001b[?25l\u001b[?25hdone\n",
            "  Created wheel for sacremoses: filename=sacremoses-0.0.53-py3-none-any.whl size=895260 sha256=a845c40db0ca9b2bd287d1d492b7e89ac1dd6d4ca993b9c4412563b4e7001661\n",
            "  Stored in directory: /root/.cache/pip/wheels/87/39/dd/a83eeef36d0bf98e7a4d1933a4ad2d660295a40613079bafc9\n",
            "Successfully built sacremoses\n",
            "Installing collected packages: multidict, frozenlist, yarl, urllib3, asynctest, async-timeout, aiosignal, pyyaml, fsspec, aiohttp, xxhash, tokenizers, sacremoses, responses, huggingface-hub, transformers, sentencepiece, rouge-score, rouge, datasets, ckiptagger\n",
            "  Attempting uninstall: urllib3\n",
            "    Found existing installation: urllib3 1.24.3\n",
            "    Uninstalling urllib3-1.24.3:\n",
            "      Successfully uninstalled urllib3-1.24.3\n",
            "  Attempting uninstall: pyyaml\n",
            "    Found existing installation: PyYAML 3.13\n",
            "    Uninstalling PyYAML-3.13:\n",
            "      Successfully uninstalled PyYAML-3.13\n",
            "\u001b[31mERROR: pip's dependency resolver does not currently take into account all the packages that are installed. This behaviour is the source of the following dependency conflicts.\n",
            "datascience 0.10.6 requires folium==0.2.1, but you have folium 0.8.3 which is incompatible.\u001b[0m\n",
            "Successfully installed aiohttp-3.8.1 aiosignal-1.2.0 async-timeout-4.0.2 asynctest-0.13.0 ckiptagger-0.2.1 datasets-2.2.1 frozenlist-1.3.0 fsspec-2022.3.0 huggingface-hub-0.6.0 multidict-6.0.2 pyyaml-6.0 responses-0.18.0 rouge-1.0.1 rouge-score-0.0.4 sacremoses-0.0.53 sentencepiece-0.1.96 tokenizers-0.12.1 transformers-4.17.0 urllib3-1.25.11 xxhash-3.0.0 yarl-1.7.2\n"
          ]
        }
      ]
    },
    {
      "cell_type": "code",
      "source": [
        "from google.colab import drive\n",
        "drive.mount('/content/drive')"
      ],
      "metadata": {
        "id": "spsutjzGnEAA",
        "colab": {
          "base_uri": "https://localhost:8080/"
        },
        "outputId": "d719d101-f4eb-4302-d316-9ade376a83b4"
      },
      "execution_count": 4,
      "outputs": [
        {
          "output_type": "stream",
          "name": "stdout",
          "text": [
            "Mounted at /content/drive\n"
          ]
        }
      ]
    },
    {
      "cell_type": "code",
      "source": [
        "import numpy as np\n",
        "import pandas as pd"
      ],
      "metadata": {
        "id": "5EOBV0z7m_cA"
      },
      "execution_count": 5,
      "outputs": []
    },
    {
      "cell_type": "code",
      "source": [
        "root = \"/content/drive/MyDrive/dataset/ADL2022/HW3/\""
      ],
      "metadata": {
        "id": "QV9TMzljoca_"
      },
      "execution_count": 6,
      "outputs": []
    },
    {
      "cell_type": "code",
      "source": [
        "df_train = pd.read_json(root+\"data/train.jsonl\", lines=True)\n",
        "df_test = pd.read_json(root+\"data/public.jsonl\", lines=True)\n",
        "df_sample_test = pd.read_json(root+\"data/sample_test.jsonl\", lines=True)\n",
        "df_submission = pd.read_json(root+\"data/sample_submission.jsonl\", lines=True)"
      ],
      "metadata": {
        "id": "H28ETt1foqoV"
      },
      "execution_count": null,
      "outputs": []
    },
    {
      "cell_type": "code",
      "source": [
        "df_train.head()"
      ],
      "metadata": {
        "colab": {
          "base_uri": "https://localhost:8080/",
          "height": 632
        },
        "id": "Wdj-PxKyqSAA",
        "outputId": "22a2dd29-45d7-4797-db38-466288a349ee"
      },
      "execution_count": null,
      "outputs": [
        {
          "output_type": "execute_result",
          "data": {
            "text/plain": [
              "          date_publish                                  title source_domain  \\\n",
              "0  2015-03-02 00:00:00  榜首進台大醫科卻休學 、27歲拿到法國天文博士 李悅寧跌破眾人眼鏡返台任教       udn.com   \n",
              "1  2015-10-20 00:00:00           「猩人」真有其事？人猿混種曾成功受孕 揭秘前蘇聯可怕實驗       udn.com   \n",
              "2  2015-12-10 00:00:00                跑步小品／謝謝三浦春馬 再次喚醒我對跑步的熱情       udn.com   \n",
              "3  2016-04-22 00:00:00       【身體不適特輯（下）】「拉肚子」、「想吐」、「嘔吐」英文怎麼說？       udn.com   \n",
              "4  2016-04-29 00:00:00                  中職／球彈、好球帶小 投手被打趴百害無一利       udn.com   \n",
              "\n",
              "                                            maintext  split  id  \n",
              "0  從小就很會念書的李悅寧， 在眾人殷殷期盼下，以榜首之姿進入臺大醫學院， 但始終忘不了對天文的...  train   0  \n",
              "1  人類與猩猩混種誕下後代，不一定僅限於科幻電影情節。前蘇聯科學家早在1920年代以人工授精技術...  train   1  \n",
              "2  從得知三浦春馬離世的消息那刻開始，心中頓時感到很鬱悶，那種很驚訝、很可惜、很無奈的感覺很重很...  train   2  \n",
              "3  嗨，歡迎回到【身體不適特輯】的下集，在這集裡，小編會繼續講自己食物中毒的故事，以及介紹各種症...  train   3  \n",
              "4  今年中華職棒官辦熱身賽眾家打者真的打瘋了！數據顯示，官辦熱身賽打了20場，竟然出現多達66轟...  train   4  "
            ],
            "text/html": [
              "\n",
              "  <div id=\"df-2c18db9e-7cb4-4aee-bd99-8c436f4aacb8\">\n",
              "    <div class=\"colab-df-container\">\n",
              "      <div>\n",
              "<style scoped>\n",
              "    .dataframe tbody tr th:only-of-type {\n",
              "        vertical-align: middle;\n",
              "    }\n",
              "\n",
              "    .dataframe tbody tr th {\n",
              "        vertical-align: top;\n",
              "    }\n",
              "\n",
              "    .dataframe thead th {\n",
              "        text-align: right;\n",
              "    }\n",
              "</style>\n",
              "<table border=\"1\" class=\"dataframe\">\n",
              "  <thead>\n",
              "    <tr style=\"text-align: right;\">\n",
              "      <th></th>\n",
              "      <th>date_publish</th>\n",
              "      <th>title</th>\n",
              "      <th>source_domain</th>\n",
              "      <th>maintext</th>\n",
              "      <th>split</th>\n",
              "      <th>id</th>\n",
              "    </tr>\n",
              "  </thead>\n",
              "  <tbody>\n",
              "    <tr>\n",
              "      <th>0</th>\n",
              "      <td>2015-03-02 00:00:00</td>\n",
              "      <td>榜首進台大醫科卻休學 、27歲拿到法國天文博士 李悅寧跌破眾人眼鏡返台任教</td>\n",
              "      <td>udn.com</td>\n",
              "      <td>從小就很會念書的李悅寧， 在眾人殷殷期盼下，以榜首之姿進入臺大醫學院， 但始終忘不了對天文的...</td>\n",
              "      <td>train</td>\n",
              "      <td>0</td>\n",
              "    </tr>\n",
              "    <tr>\n",
              "      <th>1</th>\n",
              "      <td>2015-10-20 00:00:00</td>\n",
              "      <td>「猩人」真有其事？人猿混種曾成功受孕 揭秘前蘇聯可怕實驗</td>\n",
              "      <td>udn.com</td>\n",
              "      <td>人類與猩猩混種誕下後代，不一定僅限於科幻電影情節。前蘇聯科學家早在1920年代以人工授精技術...</td>\n",
              "      <td>train</td>\n",
              "      <td>1</td>\n",
              "    </tr>\n",
              "    <tr>\n",
              "      <th>2</th>\n",
              "      <td>2015-12-10 00:00:00</td>\n",
              "      <td>跑步小品／謝謝三浦春馬 再次喚醒我對跑步的熱情</td>\n",
              "      <td>udn.com</td>\n",
              "      <td>從得知三浦春馬離世的消息那刻開始，心中頓時感到很鬱悶，那種很驚訝、很可惜、很無奈的感覺很重很...</td>\n",
              "      <td>train</td>\n",
              "      <td>2</td>\n",
              "    </tr>\n",
              "    <tr>\n",
              "      <th>3</th>\n",
              "      <td>2016-04-22 00:00:00</td>\n",
              "      <td>【身體不適特輯（下）】「拉肚子」、「想吐」、「嘔吐」英文怎麼說？</td>\n",
              "      <td>udn.com</td>\n",
              "      <td>嗨，歡迎回到【身體不適特輯】的下集，在這集裡，小編會繼續講自己食物中毒的故事，以及介紹各種症...</td>\n",
              "      <td>train</td>\n",
              "      <td>3</td>\n",
              "    </tr>\n",
              "    <tr>\n",
              "      <th>4</th>\n",
              "      <td>2016-04-29 00:00:00</td>\n",
              "      <td>中職／球彈、好球帶小 投手被打趴百害無一利</td>\n",
              "      <td>udn.com</td>\n",
              "      <td>今年中華職棒官辦熱身賽眾家打者真的打瘋了！數據顯示，官辦熱身賽打了20場，竟然出現多達66轟...</td>\n",
              "      <td>train</td>\n",
              "      <td>4</td>\n",
              "    </tr>\n",
              "  </tbody>\n",
              "</table>\n",
              "</div>\n",
              "      <button class=\"colab-df-convert\" onclick=\"convertToInteractive('df-2c18db9e-7cb4-4aee-bd99-8c436f4aacb8')\"\n",
              "              title=\"Convert this dataframe to an interactive table.\"\n",
              "              style=\"display:none;\">\n",
              "        \n",
              "  <svg xmlns=\"http://www.w3.org/2000/svg\" height=\"24px\"viewBox=\"0 0 24 24\"\n",
              "       width=\"24px\">\n",
              "    <path d=\"M0 0h24v24H0V0z\" fill=\"none\"/>\n",
              "    <path d=\"M18.56 5.44l.94 2.06.94-2.06 2.06-.94-2.06-.94-.94-2.06-.94 2.06-2.06.94zm-11 1L8.5 8.5l.94-2.06 2.06-.94-2.06-.94L8.5 2.5l-.94 2.06-2.06.94zm10 10l.94 2.06.94-2.06 2.06-.94-2.06-.94-.94-2.06-.94 2.06-2.06.94z\"/><path d=\"M17.41 7.96l-1.37-1.37c-.4-.4-.92-.59-1.43-.59-.52 0-1.04.2-1.43.59L10.3 9.45l-7.72 7.72c-.78.78-.78 2.05 0 2.83L4 21.41c.39.39.9.59 1.41.59.51 0 1.02-.2 1.41-.59l7.78-7.78 2.81-2.81c.8-.78.8-2.07 0-2.86zM5.41 20L4 18.59l7.72-7.72 1.47 1.35L5.41 20z\"/>\n",
              "  </svg>\n",
              "      </button>\n",
              "      \n",
              "  <style>\n",
              "    .colab-df-container {\n",
              "      display:flex;\n",
              "      flex-wrap:wrap;\n",
              "      gap: 12px;\n",
              "    }\n",
              "\n",
              "    .colab-df-convert {\n",
              "      background-color: #E8F0FE;\n",
              "      border: none;\n",
              "      border-radius: 50%;\n",
              "      cursor: pointer;\n",
              "      display: none;\n",
              "      fill: #1967D2;\n",
              "      height: 32px;\n",
              "      padding: 0 0 0 0;\n",
              "      width: 32px;\n",
              "    }\n",
              "\n",
              "    .colab-df-convert:hover {\n",
              "      background-color: #E2EBFA;\n",
              "      box-shadow: 0px 1px 2px rgba(60, 64, 67, 0.3), 0px 1px 3px 1px rgba(60, 64, 67, 0.15);\n",
              "      fill: #174EA6;\n",
              "    }\n",
              "\n",
              "    [theme=dark] .colab-df-convert {\n",
              "      background-color: #3B4455;\n",
              "      fill: #D2E3FC;\n",
              "    }\n",
              "\n",
              "    [theme=dark] .colab-df-convert:hover {\n",
              "      background-color: #434B5C;\n",
              "      box-shadow: 0px 1px 3px 1px rgba(0, 0, 0, 0.15);\n",
              "      filter: drop-shadow(0px 1px 2px rgba(0, 0, 0, 0.3));\n",
              "      fill: #FFFFFF;\n",
              "    }\n",
              "  </style>\n",
              "\n",
              "      <script>\n",
              "        const buttonEl =\n",
              "          document.querySelector('#df-2c18db9e-7cb4-4aee-bd99-8c436f4aacb8 button.colab-df-convert');\n",
              "        buttonEl.style.display =\n",
              "          google.colab.kernel.accessAllowed ? 'block' : 'none';\n",
              "\n",
              "        async function convertToInteractive(key) {\n",
              "          const element = document.querySelector('#df-2c18db9e-7cb4-4aee-bd99-8c436f4aacb8');\n",
              "          const dataTable =\n",
              "            await google.colab.kernel.invokeFunction('convertToInteractive',\n",
              "                                                     [key], {});\n",
              "          if (!dataTable) return;\n",
              "\n",
              "          const docLinkHtml = 'Like what you see? Visit the ' +\n",
              "            '<a target=\"_blank\" href=https://colab.research.google.com/notebooks/data_table.ipynb>data table notebook</a>'\n",
              "            + ' to learn more about interactive tables.';\n",
              "          element.innerHTML = '';\n",
              "          dataTable['output_type'] = 'display_data';\n",
              "          await google.colab.output.renderOutput(dataTable, element);\n",
              "          const docLink = document.createElement('div');\n",
              "          docLink.innerHTML = docLinkHtml;\n",
              "          element.appendChild(docLink);\n",
              "        }\n",
              "      </script>\n",
              "    </div>\n",
              "  </div>\n",
              "  "
            ]
          },
          "metadata": {},
          "execution_count": 9
        }
      ]
    },
    {
      "cell_type": "code",
      "source": [
        "df_test.head()"
      ],
      "metadata": {
        "colab": {
          "base_uri": "https://localhost:8080/",
          "height": 632
        },
        "id": "Nwlqw2DSq0i6",
        "outputId": "7c2fb4c6-3410-4d57-c690-6390e97673b1"
      },
      "execution_count": null,
      "outputs": [
        {
          "output_type": "execute_result",
          "data": {
            "text/plain": [
              "          date_publish                                   title source_domain  \\\n",
              "0  2021-01-14 00:00:00  Anker新款真無線藍牙耳機Liberty Air 2 Pro 引進台灣市場       udn.com   \n",
              "1  2021-01-14 00:00:00           藍染、客家美食、舊山線自行車 「苗栗一日遊」超人氣美食美景       udn.com   \n",
              "2  2021-01-14 00:00:00     華碩打造對應軍規防護與2 in 1設計的15.6吋Chromebook       udn.com   \n",
              "3  2021-01-14 00:00:00                         產業發展變革 台灣的優勢與機會       udn.com   \n",
              "4  2021-01-14 00:00:00     全球Windows 7裝置粗估至少還有1億台以上 市佔率穩穩卡在20％       udn.com   \n",
              "\n",
              "                                            maintext split     id  \n",
              "0  Anker在此次CES 2021中，宣布以旗下Soundcore品牌推出新款真無線藍牙耳機L...   dev  21710  \n",
              "1  來到了苗栗旅遊，除了有超人氣的舊山線鐵道自行車外，還有絕不能錯過的客家美食，讓我們跟著兩個女...   dev  21711  \n",
              "2  如同其他品牌選擇在CES 2021公布新款Chromebook產品，華碩也宣布推出換上Int...   dev  21712  \n",
              "3  文．洪寶山\\n疫情改變全球的生活型態，也改變產業的發展，有些產業受到嚴重波及、有些產業繼之興...   dev  21713  \n",
              "4  在 2020 年 1 月 14 日，Windows 7 已經正式退出消費市場，不再得到微軟任...   dev  21714  "
            ],
            "text/html": [
              "\n",
              "  <div id=\"df-d7d0c326-0afb-450f-a419-b23e478a4aae\">\n",
              "    <div class=\"colab-df-container\">\n",
              "      <div>\n",
              "<style scoped>\n",
              "    .dataframe tbody tr th:only-of-type {\n",
              "        vertical-align: middle;\n",
              "    }\n",
              "\n",
              "    .dataframe tbody tr th {\n",
              "        vertical-align: top;\n",
              "    }\n",
              "\n",
              "    .dataframe thead th {\n",
              "        text-align: right;\n",
              "    }\n",
              "</style>\n",
              "<table border=\"1\" class=\"dataframe\">\n",
              "  <thead>\n",
              "    <tr style=\"text-align: right;\">\n",
              "      <th></th>\n",
              "      <th>date_publish</th>\n",
              "      <th>title</th>\n",
              "      <th>source_domain</th>\n",
              "      <th>maintext</th>\n",
              "      <th>split</th>\n",
              "      <th>id</th>\n",
              "    </tr>\n",
              "  </thead>\n",
              "  <tbody>\n",
              "    <tr>\n",
              "      <th>0</th>\n",
              "      <td>2021-01-14 00:00:00</td>\n",
              "      <td>Anker新款真無線藍牙耳機Liberty Air 2 Pro 引進台灣市場</td>\n",
              "      <td>udn.com</td>\n",
              "      <td>Anker在此次CES 2021中，宣布以旗下Soundcore品牌推出新款真無線藍牙耳機L...</td>\n",
              "      <td>dev</td>\n",
              "      <td>21710</td>\n",
              "    </tr>\n",
              "    <tr>\n",
              "      <th>1</th>\n",
              "      <td>2021-01-14 00:00:00</td>\n",
              "      <td>藍染、客家美食、舊山線自行車 「苗栗一日遊」超人氣美食美景</td>\n",
              "      <td>udn.com</td>\n",
              "      <td>來到了苗栗旅遊，除了有超人氣的舊山線鐵道自行車外，還有絕不能錯過的客家美食，讓我們跟著兩個女...</td>\n",
              "      <td>dev</td>\n",
              "      <td>21711</td>\n",
              "    </tr>\n",
              "    <tr>\n",
              "      <th>2</th>\n",
              "      <td>2021-01-14 00:00:00</td>\n",
              "      <td>華碩打造對應軍規防護與2 in 1設計的15.6吋Chromebook</td>\n",
              "      <td>udn.com</td>\n",
              "      <td>如同其他品牌選擇在CES 2021公布新款Chromebook產品，華碩也宣布推出換上Int...</td>\n",
              "      <td>dev</td>\n",
              "      <td>21712</td>\n",
              "    </tr>\n",
              "    <tr>\n",
              "      <th>3</th>\n",
              "      <td>2021-01-14 00:00:00</td>\n",
              "      <td>產業發展變革 台灣的優勢與機會</td>\n",
              "      <td>udn.com</td>\n",
              "      <td>文．洪寶山\\n疫情改變全球的生活型態，也改變產業的發展，有些產業受到嚴重波及、有些產業繼之興...</td>\n",
              "      <td>dev</td>\n",
              "      <td>21713</td>\n",
              "    </tr>\n",
              "    <tr>\n",
              "      <th>4</th>\n",
              "      <td>2021-01-14 00:00:00</td>\n",
              "      <td>全球Windows 7裝置粗估至少還有1億台以上 市佔率穩穩卡在20％</td>\n",
              "      <td>udn.com</td>\n",
              "      <td>在 2020 年 1 月 14 日，Windows 7 已經正式退出消費市場，不再得到微軟任...</td>\n",
              "      <td>dev</td>\n",
              "      <td>21714</td>\n",
              "    </tr>\n",
              "  </tbody>\n",
              "</table>\n",
              "</div>\n",
              "      <button class=\"colab-df-convert\" onclick=\"convertToInteractive('df-d7d0c326-0afb-450f-a419-b23e478a4aae')\"\n",
              "              title=\"Convert this dataframe to an interactive table.\"\n",
              "              style=\"display:none;\">\n",
              "        \n",
              "  <svg xmlns=\"http://www.w3.org/2000/svg\" height=\"24px\"viewBox=\"0 0 24 24\"\n",
              "       width=\"24px\">\n",
              "    <path d=\"M0 0h24v24H0V0z\" fill=\"none\"/>\n",
              "    <path d=\"M18.56 5.44l.94 2.06.94-2.06 2.06-.94-2.06-.94-.94-2.06-.94 2.06-2.06.94zm-11 1L8.5 8.5l.94-2.06 2.06-.94-2.06-.94L8.5 2.5l-.94 2.06-2.06.94zm10 10l.94 2.06.94-2.06 2.06-.94-2.06-.94-.94-2.06-.94 2.06-2.06.94z\"/><path d=\"M17.41 7.96l-1.37-1.37c-.4-.4-.92-.59-1.43-.59-.52 0-1.04.2-1.43.59L10.3 9.45l-7.72 7.72c-.78.78-.78 2.05 0 2.83L4 21.41c.39.39.9.59 1.41.59.51 0 1.02-.2 1.41-.59l7.78-7.78 2.81-2.81c.8-.78.8-2.07 0-2.86zM5.41 20L4 18.59l7.72-7.72 1.47 1.35L5.41 20z\"/>\n",
              "  </svg>\n",
              "      </button>\n",
              "      \n",
              "  <style>\n",
              "    .colab-df-container {\n",
              "      display:flex;\n",
              "      flex-wrap:wrap;\n",
              "      gap: 12px;\n",
              "    }\n",
              "\n",
              "    .colab-df-convert {\n",
              "      background-color: #E8F0FE;\n",
              "      border: none;\n",
              "      border-radius: 50%;\n",
              "      cursor: pointer;\n",
              "      display: none;\n",
              "      fill: #1967D2;\n",
              "      height: 32px;\n",
              "      padding: 0 0 0 0;\n",
              "      width: 32px;\n",
              "    }\n",
              "\n",
              "    .colab-df-convert:hover {\n",
              "      background-color: #E2EBFA;\n",
              "      box-shadow: 0px 1px 2px rgba(60, 64, 67, 0.3), 0px 1px 3px 1px rgba(60, 64, 67, 0.15);\n",
              "      fill: #174EA6;\n",
              "    }\n",
              "\n",
              "    [theme=dark] .colab-df-convert {\n",
              "      background-color: #3B4455;\n",
              "      fill: #D2E3FC;\n",
              "    }\n",
              "\n",
              "    [theme=dark] .colab-df-convert:hover {\n",
              "      background-color: #434B5C;\n",
              "      box-shadow: 0px 1px 3px 1px rgba(0, 0, 0, 0.15);\n",
              "      filter: drop-shadow(0px 1px 2px rgba(0, 0, 0, 0.3));\n",
              "      fill: #FFFFFF;\n",
              "    }\n",
              "  </style>\n",
              "\n",
              "      <script>\n",
              "        const buttonEl =\n",
              "          document.querySelector('#df-d7d0c326-0afb-450f-a419-b23e478a4aae button.colab-df-convert');\n",
              "        buttonEl.style.display =\n",
              "          google.colab.kernel.accessAllowed ? 'block' : 'none';\n",
              "\n",
              "        async function convertToInteractive(key) {\n",
              "          const element = document.querySelector('#df-d7d0c326-0afb-450f-a419-b23e478a4aae');\n",
              "          const dataTable =\n",
              "            await google.colab.kernel.invokeFunction('convertToInteractive',\n",
              "                                                     [key], {});\n",
              "          if (!dataTable) return;\n",
              "\n",
              "          const docLinkHtml = 'Like what you see? Visit the ' +\n",
              "            '<a target=\"_blank\" href=https://colab.research.google.com/notebooks/data_table.ipynb>data table notebook</a>'\n",
              "            + ' to learn more about interactive tables.';\n",
              "          element.innerHTML = '';\n",
              "          dataTable['output_type'] = 'display_data';\n",
              "          await google.colab.output.renderOutput(dataTable, element);\n",
              "          const docLink = document.createElement('div');\n",
              "          docLink.innerHTML = docLinkHtml;\n",
              "          element.appendChild(docLink);\n",
              "        }\n",
              "      </script>\n",
              "    </div>\n",
              "  </div>\n",
              "  "
            ]
          },
          "metadata": {},
          "execution_count": 10
        }
      ]
    },
    {
      "cell_type": "code",
      "source": [
        "df_sample_test"
      ],
      "metadata": {
        "colab": {
          "base_uri": "https://localhost:8080/",
          "height": 754
        },
        "id": "K6A2_ZyErPvw",
        "outputId": "07ac95f1-1df8-4290-8c1c-0c98f9114305"
      },
      "execution_count": null,
      "outputs": [
        {
          "output_type": "execute_result",
          "data": {
            "text/plain": [
              "          date_publish source_domain  \\\n",
              "0  2021-01-14 00:00:00       udn.com   \n",
              "1  2021-01-14 00:00:00       udn.com   \n",
              "2  2021-01-14 00:00:00       udn.com   \n",
              "3  2021-01-14 00:00:00       udn.com   \n",
              "4  2021-01-14 00:00:00       udn.com   \n",
              "5  2021-01-14 00:00:00       udn.com   \n",
              "6  2021-01-14 00:00:00       udn.com   \n",
              "7  2021-01-14 00:00:00       udn.com   \n",
              "8  2021-01-14 00:00:00       udn.com   \n",
              "9  2021-01-14 00:00:00       udn.com   \n",
              "\n",
              "                                            maintext split     id  \n",
              "0  Anker在此次CES 2021中，宣布以旗下Soundcore品牌推出新款真無線藍牙耳機L...   dev  21710  \n",
              "1  來到了苗栗旅遊，除了有超人氣的舊山線鐵道自行車外，還有絕不能錯過的客家美食，讓我們跟著兩個女...   dev  21711  \n",
              "2  如同其他品牌選擇在CES 2021公布新款Chromebook產品，華碩也宣布推出換上Int...   dev  21712  \n",
              "3  文．洪寶山\\n疫情改變全球的生活型態，也改變產業的發展，有些產業受到嚴重波及、有些產業繼之興...   dev  21713  \n",
              "4  在 2020 年 1 月 14 日，Windows 7 已經正式退出消費市場，不再得到微軟任...   dev  21714  \n",
              "5  文．洪寶山\\n雖然川普即將交接美國總統大位，但是留給台灣的影響卻是長久的，尤其是2018年開...   dev  21715  \n",
              "6  新冠肺炎（COVID-19）在全球大流行，台灣因為良好的防疫政策被國際看見。最近有美國的設計...   dev  21716  \n",
              "7  在此次CES 2021期間，華碩宣布更新旗下雙螢幕筆電ZenBook Duo 14，以及Ze...   dev  21717  \n",
              "8  ※提醒您：禁止酒駕 飲酒過量有礙健康。\\n※飲酒過量，害人害己。\\n太想出國自助旅遊機加酒？...   dev  21718  \n",
              "9  哈登（James Harden）與火箭的鬧劇才剛落幕，他被交易至籃網，原本預期與杜蘭特（Ke...   dev  21719  "
            ],
            "text/html": [
              "\n",
              "  <div id=\"df-055ea94b-43a9-4275-bff0-892a7102832c\">\n",
              "    <div class=\"colab-df-container\">\n",
              "      <div>\n",
              "<style scoped>\n",
              "    .dataframe tbody tr th:only-of-type {\n",
              "        vertical-align: middle;\n",
              "    }\n",
              "\n",
              "    .dataframe tbody tr th {\n",
              "        vertical-align: top;\n",
              "    }\n",
              "\n",
              "    .dataframe thead th {\n",
              "        text-align: right;\n",
              "    }\n",
              "</style>\n",
              "<table border=\"1\" class=\"dataframe\">\n",
              "  <thead>\n",
              "    <tr style=\"text-align: right;\">\n",
              "      <th></th>\n",
              "      <th>date_publish</th>\n",
              "      <th>source_domain</th>\n",
              "      <th>maintext</th>\n",
              "      <th>split</th>\n",
              "      <th>id</th>\n",
              "    </tr>\n",
              "  </thead>\n",
              "  <tbody>\n",
              "    <tr>\n",
              "      <th>0</th>\n",
              "      <td>2021-01-14 00:00:00</td>\n",
              "      <td>udn.com</td>\n",
              "      <td>Anker在此次CES 2021中，宣布以旗下Soundcore品牌推出新款真無線藍牙耳機L...</td>\n",
              "      <td>dev</td>\n",
              "      <td>21710</td>\n",
              "    </tr>\n",
              "    <tr>\n",
              "      <th>1</th>\n",
              "      <td>2021-01-14 00:00:00</td>\n",
              "      <td>udn.com</td>\n",
              "      <td>來到了苗栗旅遊，除了有超人氣的舊山線鐵道自行車外，還有絕不能錯過的客家美食，讓我們跟著兩個女...</td>\n",
              "      <td>dev</td>\n",
              "      <td>21711</td>\n",
              "    </tr>\n",
              "    <tr>\n",
              "      <th>2</th>\n",
              "      <td>2021-01-14 00:00:00</td>\n",
              "      <td>udn.com</td>\n",
              "      <td>如同其他品牌選擇在CES 2021公布新款Chromebook產品，華碩也宣布推出換上Int...</td>\n",
              "      <td>dev</td>\n",
              "      <td>21712</td>\n",
              "    </tr>\n",
              "    <tr>\n",
              "      <th>3</th>\n",
              "      <td>2021-01-14 00:00:00</td>\n",
              "      <td>udn.com</td>\n",
              "      <td>文．洪寶山\\n疫情改變全球的生活型態，也改變產業的發展，有些產業受到嚴重波及、有些產業繼之興...</td>\n",
              "      <td>dev</td>\n",
              "      <td>21713</td>\n",
              "    </tr>\n",
              "    <tr>\n",
              "      <th>4</th>\n",
              "      <td>2021-01-14 00:00:00</td>\n",
              "      <td>udn.com</td>\n",
              "      <td>在 2020 年 1 月 14 日，Windows 7 已經正式退出消費市場，不再得到微軟任...</td>\n",
              "      <td>dev</td>\n",
              "      <td>21714</td>\n",
              "    </tr>\n",
              "    <tr>\n",
              "      <th>5</th>\n",
              "      <td>2021-01-14 00:00:00</td>\n",
              "      <td>udn.com</td>\n",
              "      <td>文．洪寶山\\n雖然川普即將交接美國總統大位，但是留給台灣的影響卻是長久的，尤其是2018年開...</td>\n",
              "      <td>dev</td>\n",
              "      <td>21715</td>\n",
              "    </tr>\n",
              "    <tr>\n",
              "      <th>6</th>\n",
              "      <td>2021-01-14 00:00:00</td>\n",
              "      <td>udn.com</td>\n",
              "      <td>新冠肺炎（COVID-19）在全球大流行，台灣因為良好的防疫政策被國際看見。最近有美國的設計...</td>\n",
              "      <td>dev</td>\n",
              "      <td>21716</td>\n",
              "    </tr>\n",
              "    <tr>\n",
              "      <th>7</th>\n",
              "      <td>2021-01-14 00:00:00</td>\n",
              "      <td>udn.com</td>\n",
              "      <td>在此次CES 2021期間，華碩宣布更新旗下雙螢幕筆電ZenBook Duo 14，以及Ze...</td>\n",
              "      <td>dev</td>\n",
              "      <td>21717</td>\n",
              "    </tr>\n",
              "    <tr>\n",
              "      <th>8</th>\n",
              "      <td>2021-01-14 00:00:00</td>\n",
              "      <td>udn.com</td>\n",
              "      <td>※提醒您：禁止酒駕 飲酒過量有礙健康。\\n※飲酒過量，害人害己。\\n太想出國自助旅遊機加酒？...</td>\n",
              "      <td>dev</td>\n",
              "      <td>21718</td>\n",
              "    </tr>\n",
              "    <tr>\n",
              "      <th>9</th>\n",
              "      <td>2021-01-14 00:00:00</td>\n",
              "      <td>udn.com</td>\n",
              "      <td>哈登（James Harden）與火箭的鬧劇才剛落幕，他被交易至籃網，原本預期與杜蘭特（Ke...</td>\n",
              "      <td>dev</td>\n",
              "      <td>21719</td>\n",
              "    </tr>\n",
              "  </tbody>\n",
              "</table>\n",
              "</div>\n",
              "      <button class=\"colab-df-convert\" onclick=\"convertToInteractive('df-055ea94b-43a9-4275-bff0-892a7102832c')\"\n",
              "              title=\"Convert this dataframe to an interactive table.\"\n",
              "              style=\"display:none;\">\n",
              "        \n",
              "  <svg xmlns=\"http://www.w3.org/2000/svg\" height=\"24px\"viewBox=\"0 0 24 24\"\n",
              "       width=\"24px\">\n",
              "    <path d=\"M0 0h24v24H0V0z\" fill=\"none\"/>\n",
              "    <path d=\"M18.56 5.44l.94 2.06.94-2.06 2.06-.94-2.06-.94-.94-2.06-.94 2.06-2.06.94zm-11 1L8.5 8.5l.94-2.06 2.06-.94-2.06-.94L8.5 2.5l-.94 2.06-2.06.94zm10 10l.94 2.06.94-2.06 2.06-.94-2.06-.94-.94-2.06-.94 2.06-2.06.94z\"/><path d=\"M17.41 7.96l-1.37-1.37c-.4-.4-.92-.59-1.43-.59-.52 0-1.04.2-1.43.59L10.3 9.45l-7.72 7.72c-.78.78-.78 2.05 0 2.83L4 21.41c.39.39.9.59 1.41.59.51 0 1.02-.2 1.41-.59l7.78-7.78 2.81-2.81c.8-.78.8-2.07 0-2.86zM5.41 20L4 18.59l7.72-7.72 1.47 1.35L5.41 20z\"/>\n",
              "  </svg>\n",
              "      </button>\n",
              "      \n",
              "  <style>\n",
              "    .colab-df-container {\n",
              "      display:flex;\n",
              "      flex-wrap:wrap;\n",
              "      gap: 12px;\n",
              "    }\n",
              "\n",
              "    .colab-df-convert {\n",
              "      background-color: #E8F0FE;\n",
              "      border: none;\n",
              "      border-radius: 50%;\n",
              "      cursor: pointer;\n",
              "      display: none;\n",
              "      fill: #1967D2;\n",
              "      height: 32px;\n",
              "      padding: 0 0 0 0;\n",
              "      width: 32px;\n",
              "    }\n",
              "\n",
              "    .colab-df-convert:hover {\n",
              "      background-color: #E2EBFA;\n",
              "      box-shadow: 0px 1px 2px rgba(60, 64, 67, 0.3), 0px 1px 3px 1px rgba(60, 64, 67, 0.15);\n",
              "      fill: #174EA6;\n",
              "    }\n",
              "\n",
              "    [theme=dark] .colab-df-convert {\n",
              "      background-color: #3B4455;\n",
              "      fill: #D2E3FC;\n",
              "    }\n",
              "\n",
              "    [theme=dark] .colab-df-convert:hover {\n",
              "      background-color: #434B5C;\n",
              "      box-shadow: 0px 1px 3px 1px rgba(0, 0, 0, 0.15);\n",
              "      filter: drop-shadow(0px 1px 2px rgba(0, 0, 0, 0.3));\n",
              "      fill: #FFFFFF;\n",
              "    }\n",
              "  </style>\n",
              "\n",
              "      <script>\n",
              "        const buttonEl =\n",
              "          document.querySelector('#df-055ea94b-43a9-4275-bff0-892a7102832c button.colab-df-convert');\n",
              "        buttonEl.style.display =\n",
              "          google.colab.kernel.accessAllowed ? 'block' : 'none';\n",
              "\n",
              "        async function convertToInteractive(key) {\n",
              "          const element = document.querySelector('#df-055ea94b-43a9-4275-bff0-892a7102832c');\n",
              "          const dataTable =\n",
              "            await google.colab.kernel.invokeFunction('convertToInteractive',\n",
              "                                                     [key], {});\n",
              "          if (!dataTable) return;\n",
              "\n",
              "          const docLinkHtml = 'Like what you see? Visit the ' +\n",
              "            '<a target=\"_blank\" href=https://colab.research.google.com/notebooks/data_table.ipynb>data table notebook</a>'\n",
              "            + ' to learn more about interactive tables.';\n",
              "          element.innerHTML = '';\n",
              "          dataTable['output_type'] = 'display_data';\n",
              "          await google.colab.output.renderOutput(dataTable, element);\n",
              "          const docLink = document.createElement('div');\n",
              "          docLink.innerHTML = docLinkHtml;\n",
              "          element.appendChild(docLink);\n",
              "        }\n",
              "      </script>\n",
              "    </div>\n",
              "  </div>\n",
              "  "
            ]
          },
          "metadata": {},
          "execution_count": 11
        }
      ]
    },
    {
      "cell_type": "code",
      "source": [
        "df_train.split.unique()"
      ],
      "metadata": {
        "colab": {
          "base_uri": "https://localhost:8080/"
        },
        "id": "0uaF-rW3rYy_",
        "outputId": "6efc56b2-c0c1-44d9-c44c-28b161ab5e55"
      },
      "execution_count": null,
      "outputs": [
        {
          "output_type": "execute_result",
          "data": {
            "text/plain": [
              "array(['train'], dtype=object)"
            ]
          },
          "metadata": {},
          "execution_count": 12
        }
      ]
    },
    {
      "cell_type": "code",
      "source": [
        "df_test.split.unique()"
      ],
      "metadata": {
        "colab": {
          "base_uri": "https://localhost:8080/"
        },
        "id": "zY4T2XE0rs4B",
        "outputId": "0052c000-77c3-43ea-8e10-94225e2e3341"
      },
      "execution_count": null,
      "outputs": [
        {
          "output_type": "execute_result",
          "data": {
            "text/plain": [
              "array(['dev'], dtype=object)"
            ]
          },
          "metadata": {},
          "execution_count": 13
        }
      ]
    },
    {
      "cell_type": "code",
      "source": [
        "def make_file(df):\n",
        "  new_df = pd.DataFrame()\n",
        "  new_df[\"text\"] = df.maintext\n",
        "  new_df[\"summary\"] = df.title\n",
        "  new_df[\"id\"] = df.id\n",
        "  return new_df"
      ],
      "metadata": {
        "id": "2gnytDSHrvaV"
      },
      "execution_count": null,
      "outputs": []
    },
    {
      "cell_type": "code",
      "source": [
        "train_csv = make_file(df_train)\n",
        "test_csv = make_file(df_test)"
      ],
      "metadata": {
        "id": "Z8QTFHY8sXwm"
      },
      "execution_count": null,
      "outputs": []
    },
    {
      "cell_type": "code",
      "source": [
        "train_csv.to_csv(root+\"data/train.csv\", index=False)\n",
        "test_csv.to_csv(root+\"data/test.csv\", index=False)"
      ],
      "metadata": {
        "id": "cl_r9v1ushFa"
      },
      "execution_count": null,
      "outputs": []
    },
    {
      "cell_type": "markdown",
      "source": [
        "draw"
      ],
      "metadata": {
        "id": "43T005Udy-_S"
      }
    },
    {
      "cell_type": "code",
      "source": [
        "trainer_state = pd.read_json(root+\"output/trainer_state.json\")"
      ],
      "metadata": {
        "id": "PHlAkzX9y-V6"
      },
      "execution_count": 22,
      "outputs": []
    },
    {
      "cell_type": "code",
      "source": [
        "rouge1, rouge2, rougeL, step = [], [], [], []"
      ],
      "metadata": {
        "id": "Cjib69AYzjID"
      },
      "execution_count": 37,
      "outputs": []
    },
    {
      "cell_type": "code",
      "source": [
        "for history in trainer_state[\"log_history\"]:\n",
        "  if \"eval_rouge1\" in history.keys():\n",
        "    rouge1.append(history[\"eval_rouge1\"])\n",
        "    rouge2.append(history[\"eval_rouge2\"])\n",
        "    rougeL.append(history[\"eval_rougeL\"])\n",
        "    step.append(history[\"step\"])"
      ],
      "metadata": {
        "id": "MYmuWHrGzvtv"
      },
      "execution_count": 38,
      "outputs": []
    },
    {
      "cell_type": "code",
      "source": [
        "import matplotlib.pyplot as plt"
      ],
      "metadata": {
        "id": "6GTpoN0q0em_"
      },
      "execution_count": 39,
      "outputs": []
    },
    {
      "cell_type": "code",
      "source": [
        "plt.plot(step, rouge1)\n",
        "plt.plot(step, rouge2)\n",
        "plt.plot(step, rougeL)\n",
        "plt.title(\"Rouge\")\n",
        "plt.legend([\"rouge1\", \"rouge2\", \"rougeL\"], loc=\"best\")\n",
        "plt.show()\n"
      ],
      "metadata": {
        "colab": {
          "base_uri": "https://localhost:8080/",
          "height": 281
        },
        "id": "NaQBc7KV0g7x",
        "outputId": "4c738cbb-28aa-4c32-d15d-692d24a60b94"
      },
      "execution_count": 42,
      "outputs": [
        {
          "output_type": "display_data",
          "data": {
            "text/plain": [
              "<Figure size 432x288 with 1 Axes>"
            ],
            "image/png": "[encoded data removed]"
          },
          "metadata": {
            "needs_background": "light"
          }
        }
      ]
    },
    {
      "cell_type": "code",
      "source": [
        "trainer_state[\"log_history\"][1]"
      ],
      "metadata": {
        "colab": {
          "base_uri": "https://localhost:8080/"
        },
        "id": "Crze2Ufdy-G-",
        "outputId": "29c0cc82-1472-4d28-e125-6faf21b91cf8"
      },
      "execution_count": 28,
      "outputs": [
        {
          "output_type": "execute_result",
          "data": {
            "text/plain": [
              "{'epoch': 1.47,\n",
              " 'eval_gen_len': 17.7424,\n",
              " 'eval_loss': 3.391766786575317,\n",
              " 'eval_rouge1': 15.353,\n",
              " 'eval_rouge2': 5.452,\n",
              " 'eval_rougeL': 15.1469,\n",
              " 'eval_rougeLsum': 15.1379,\n",
              " 'eval_runtime': 215.0288,\n",
              " 'eval_samples_per_second': 25.55,\n",
              " 'eval_steps_per_second': 0.8,\n",
              " 'step': 2000}"
            ]
          },
          "metadata": {},
          "execution_count": 28
        }
      ]
    },
    {
      "cell_type": "code",
      "source": [
        ""
      ],
      "metadata": {
        "id": "RtbTDm-ay93K"
      },
      "execution_count": null,
      "outputs": []
    },
    {
      "cell_type": "code",
      "source": [
        ""
      ],
      "metadata": {
        "id": "BQVg2DQ_y9cY"
      },
      "execution_count": null,
      "outputs": []
    },
    {
      "cell_type": "code",
      "source": [
        "export CUDA_VISIBLE_DEVICES=0\n",
        "python run_summarization.py \\\n",
        "  --do_train \\\n",
        "  --do_eval \\\n",
        "  --model_name_or_path google/mt5-small \\\n",
        "  --train_file ./data/train.jsonl \\\n",
        "  --validation_file ./data/public.jsonl \\\n",
        "  --output_dir ./output/ \\\n",
        "  --num_train_epochs 12 \\\n",
        "  --per_device_train_batch_size=4 \\\n",
        "  --gradient_accumulation_steps=4 \\\n",
        "  --per_device_eval_batch_size=32 \\\n",
        "  --eval_accumulation_steps=4 \\\n",
        "  --predict_with_generate \\\n",
        "  --text_column maintext \\\n",
        "  --summary_column title \\\n",
        "  --logging_steps 2000 \\\n",
        "  --evaluation_strategy steps \\\n",
        "  --eval_steps 2000 \\\n",
        "  --optim adafactor \\\n",
        "  --weight_decay 0.1 \\\n",
        "  --save_strategy epoch \\\n",
        "  --overwrite_output_dir \\\n",
        "  --learning_rate 1e-3 \\\n",
        "  --warmup_ratio 0.1 "
      ],
      "metadata": {
        "id": "qOKvE1FKs5Mh"
      },
      "execution_count": null,
      "outputs": []
    },
    {
      "cell_type": "code",
      "source": [
        "import time\n",
        "while True:\n",
        "  time.sleep(100000)\n",
        "  print(\"hi\")"
      ],
      "metadata": {
        "id": "-2vGWNWn7-R4",
        "colab": {
          "base_uri": "https://localhost:8080/",
          "height": 226
        },
        "outputId": "185b9ff4-dea0-4b34-de54-e0091c3d11ab"
      },
      "execution_count": 21,
      "outputs": [
        {
          "output_type": "error",
          "ename": "KeyboardInterrupt",
          "evalue": "ignored",
          "traceback": [
            "\u001b[0;31m---------------------------------------------------------------------------\u001b[0m",
            "\u001b[0;31mKeyboardInterrupt\u001b[0m                         Traceback (most recent call last)",
            "\u001b[0;32m<ipython-input-21-3b7ec542e7bf>\u001b[0m in \u001b[0;36m<module>\u001b[0;34m()\u001b[0m\n\u001b[1;32m      1\u001b[0m \u001b[0;32mimport\u001b[0m \u001b[0mtime\u001b[0m\u001b[0;34m\u001b[0m\u001b[0;34m\u001b[0m\u001b[0m\n\u001b[1;32m      2\u001b[0m \u001b[0;32mwhile\u001b[0m \u001b[0;32mTrue\u001b[0m\u001b[0;34m:\u001b[0m\u001b[0;34m\u001b[0m\u001b[0;34m\u001b[0m\u001b[0m\n\u001b[0;32m----> 3\u001b[0;31m   \u001b[0mtime\u001b[0m\u001b[0;34m.\u001b[0m\u001b[0msleep\u001b[0m\u001b[0;34m(\u001b[0m\u001b[0;36m100000\u001b[0m\u001b[0;34m)\u001b[0m\u001b[0;34m\u001b[0m\u001b[0;34m\u001b[0m\u001b[0m\n\u001b[0m\u001b[1;32m      4\u001b[0m   \u001b[0mprint\u001b[0m\u001b[0;34m(\u001b[0m\u001b[0;34m\"hi\"\u001b[0m\u001b[0;34m)\u001b[0m\u001b[0;34m\u001b[0m\u001b[0;34m\u001b[0m\u001b[0m\n",
            "\u001b[0;31mKeyboardInterrupt\u001b[0m: "
          ]
        }
      ]
    },
    {
      "cell_type": "markdown",
      "source": [
        "{\n",
        "    \"r\": 0.2875300586072527,\n",
        "    \"p\": 0.19138565286075426,\n",
        "    \"f\": 0.2237325745704551\n",
        "  },\n",
        "  \"rouge-2\": {\n",
        "    \"r\": 0.10163833307766648,\n",
        "    \"p\": 0.058804481864732618,\n",
        "    \"f\": 0.07254311019451284\n",
        "  },\n",
        "  \"rouge-l\": {\n",
        "    \"r\": 0.25117743390446995,\n",
        "    \"p\": 0.16614660827362754,\n",
        "    \"f\": 0.19462783251941687\n",
        "  }\n",
        "}"
      ],
      "metadata": {
        "id": "WA5kpHh-SeYa"
      }
    },
    {
      "cell_type": "code",
      "source": [
        "# python run_summarization.py \\\n",
        "#   --do_predict \\\n",
        "#   --model_name_or_path ./output/checkpoint-12213/pytorch_model.bin \\\n",
        "#   --config_name ./output/config.json \\\n",
        "#   --tokenizer_name ./output/ \\\n",
        "#   --test_file ./data/public.jsonl \\\n",
        "#   --output_file ./output/generation_prediction_greedy.jsonl \\\n",
        "#   --output_dir ./output/ \\\n",
        "#   --predict_with_generate \\\n",
        "#   --text_column maintext \\\n",
        "#   --summary_column title \\\n",
        "#   --overwrite_output_dir \\\n",
        "#   --ignore_pad_token_for_loss \\\n",
        "#   --max_target_length 40 \\\n",
        "#   --num_beams 1"
      ],
      "metadata": {
        "id": "bIlblR3JLbaI"
      },
      "execution_count": null,
      "outputs": []
    },
    {
      "cell_type": "markdown",
      "source": [
        "{\n",
        "  \"rouge-1\": {\n",
        "    \"r\": 0.3058880802514959,\n",
        "    \"p\": 0.2030681861987249,\n",
        "    \"f\": 0.2373590442585388\n",
        "  },\n",
        "  \"rouge-2\": {\n",
        "    \"r\": 0.11248540215532868,\n",
        "    \"p\": 0.066603899283203,\n",
        "    \"f\": 0.08136754768946071\n",
        "  },\n",
        "  \"rouge-l\": {\n",
        "    \"r\": 0.2670716640418056,\n",
        "    \"p\": 0.17625479991183934,\n",
        "    \"f\": 0.2064052527789534\n",
        "  }\n",
        "}1\n",
        "}"
      ],
      "metadata": {
        "id": "rCvZ9uwUXcBh"
      }
    },
    {
      "cell_type": "code",
      "source": [
        "# python run_summarization.py \\\n",
        "#   --do_predict \\\n",
        "#   --model_name_or_path ./output/checkpoint-12213/pytorch_model.bin \\\n",
        "#   --config_name ./output/config.json \\\n",
        "#   --tokenizer_name ./output/ \\\n",
        "#   --test_file ./data/public.jsonl \\\n",
        "#   --output_file ./output/generation_prediction_beam3.jsonl \\\n",
        "#   --output_dir ./output/ \\\n",
        "#   --predict_with_generate \\\n",
        "#   --text_column maintext \\\n",
        "#   --summary_column title \\\n",
        "#   --overwrite_output_dir \\\n",
        "#   --ignore_pad_token_for_loss \\\n",
        "#   --max_target_length 40 \\\n",
        "#   --num_beams 3"
      ],
      "metadata": {
        "id": "4kdDBGhexJ_D"
      },
      "execution_count": null,
      "outputs": []
    },
    {
      "cell_type": "markdown",
      "source": [
        "{\n",
        "  \"rouge-1\": {\n",
        "    \"r\": 0.3085551155935142,\n",
        "    \"p\": 0.20860024033998978,\n",
        "    \"f\": 0.24213503253037771\n",
        "  },\n",
        "  \"rouge-2\": {\n",
        "    \"r\": 0.1149539135395871,\n",
        "    \"p\": 0.06974863726995464,\n",
        "    \"f\": 0.08448743787633775\n",
        "  },\n",
        "  \"rouge-l\": {\n",
        "    \"r\": 0.26933009507521627,\n",
        "    \"p\": 0.1812613642262673,    \n",
        "    \"f\": 0.21068412698964598\n",
        "  },\n",
        "0}"
      ],
      "metadata": {
        "id": "V0tUINCwbpH1"
      }
    },
    {
      "cell_type": "code",
      "source": [
        "# python run_summarization.py \\\n",
        "#   --do_predict \\\n",
        "#   --model_name_or_path ./output/checkpoint-12213/pytorch_model.bin \\\n",
        "#   --config_name ./output/config.json \\\n",
        "#   --tokenizer_name ./output/ \\\n",
        "#   --test_file ./data/public.jsonl \\\n",
        "#   --output_file ./output/generation_prediction_beam5.jsonl \\\n",
        "#   --output_dir ./output/ \\\n",
        "#   --predict_with_generate \\\n",
        "#   --text_column maintext \\\n",
        "#   --summary_column title \\\n",
        "#   --overwrite_output_dir \\\n",
        "#   --ignore_pad_token_for_loss \\\n",
        "#   --max_target_length 40 \\\n",
        "#   --num_beams 5"
      ],
      "metadata": {
        "id": "Swom_5q7IwHE"
      },
      "execution_count": null,
      "outputs": []
    },
    {
      "cell_type": "markdown",
      "source": [
        "{\n",
        "  \"rouge-1\": {\n",
        "    \"r\": 0.2875300586072527,\n",
        "    \"p\": 0.19138565286075426,\n",
        "    \"f\": 0.2237325745704551\n",
        "  },\n",
        "  \"rouge-2\": {\n",
        "    \"r\": 0.10163833307766648,\n",
        "    \"p\": 0.05880448864732618,\n",
        "    \"f\": 0.07254311019451284\n",
        "  },\n",
        "  \"rouge-l\": {\n",
        "    \"r\": 0.25117743390446995,\n",
        "    \"p\": 0.16614660827362754,\n",
        "    \"f\": 0.19462783251941687\n",
        "  }\n",
        "}"
      ],
      "metadata": {
        "id": "o6KFPKk_D8Qa"
      }
    },
    {
      "cell_type": "code",
      "source": [
        "# python run_summarization.py \\\n",
        "#   --do_predict \\\n",
        "#   --model_name_or_path ./output/checkpoint-12213/pytorch_model.bin \\\n",
        "#   --config_name ./output/config.json \\\n",
        "#   --tokenizer_name ./output/ \\\n",
        "#   --test_file ./data/public.jsonl \\\n",
        "#   --output_file ./output/generation_prediction_top_p9.jsonl \\\n",
        "#   --output_dir ./output/ \\\n",
        "#   --predict_with_generate \\\n",
        "#   --text_column maintext \\\n",
        "#   --summary_column title \\\n",
        "#   --overwrite_output_dir \\\n",
        "#   --ignore_pad_token_for_loss \\\n",
        "#   --max_target_length 40 \\\n",
        "#   --top_p 0.9"
      ],
      "metadata": {
        "id": "1rixEtou8Cyu"
      },
      "execution_count": null,
      "outputs": []
    },
    {
      "cell_type": "markdown",
      "source": [
        "{\n",
        "  \"rouge-1\":{\n",
        "    \"r\": 0.2875300586072527,\n",
        "    \"p\": 0.19138565286075426,\n",
        "    \"f\": 0.2237325745704551\n",
        "  },\n",
        "  \"rouge-2\": {\n",
        "    \"r\": 0.10163833307766648,\n",
        "    \"p\": 0.05880448864732618,\n",
        "    \"f\": 0.07254311019451284\n",
        "  },\n",
        "  \"rouge-l\": {\n",
        "    \"r\": 0.25117743390446995,\n",
        "    \"p\": 0.16614660827362754,\n",
        "    \"f\": 0.19462783251941687\n",
        "  }\n",
        "}"
      ],
      "metadata": {
        "id": "J9OiSa-cWjJI"
      }
    },
    {
      "cell_type": "code",
      "source": [
        "# python run_summarization.py \\\n",
        "#   --do_predict \\\n",
        "#   --model_name_or_path ./output/checkpoint-12213/pytorch_model.bin \\\n",
        "#   --config_name ./output/config.json \\\n",
        "#   --tokenizer_name ./output/ \\\n",
        "#   --test_file ./data/public.jsonl \\\n",
        "#   --output_file ./output/generation_prediction_top_p5.jsonl \\\n",
        "#   --output_dir ./output/ \\\n",
        "#   --predict_with_generate \\\n",
        "#   --text_column maintext \\\n",
        "#   --summary_column title \\\n",
        "#   --overwrite_output_dir \\\n",
        "#   --ignore_pad_token_for_loss \\\n",
        "#   --max_target_length 40 \\\n",
        "#   --top_p 0.5"
      ],
      "metadata": {
        "id": "tL9uiv38IMIE"
      },
      "execution_count": null,
      "outputs": []
    },
    {
      "cell_type": "markdown",
      "source": [
        "{\n",
        "  \"rouge-1\":{\n",
        "    \"r\": 0.2875300586072527,\n",
        "    \"p\": 0.19138565286075426,\n",
        "    \"f\": 0.2237325745704551\n",
        "  },\n",
        "  \"rouge-2\": {\n",
        "    \"r\": 0.10163833307766648,\n",
        "    \"p\": 0.05880448864732618,\n",
        "    \"f\": 0.07254311019451284\n",
        "  },\n",
        "  \"rouge-l\": {\n",
        "    \"r\": 0.25117743390446995,\n",
        "    \"p\": 0.16614660827362754,\n",
        "    \"f\": 0.19462783251941687\n",
        "  }\n",
        "}"
      ],
      "metadata": {
        "id": "GMI39bkQYD65"
      }
    },
    {
      "cell_type": "code",
      "source": [
        "# python run_summarization.py \\\n",
        "#   --do_predict \\\n",
        "#   --model_name_or_path ./output/checkpoint-12213/pytorch_model.bin \\\n",
        "#   --config_name ./output/config.json \\\n",
        "#   --tokenizer_name ./output/ \\\n",
        "#   --test_file ./data/public.jsonl \\\n",
        "#   --output_file ./output/generation_prediction_top_k10.jsonl \\\n",
        "#   --output_dir ./output/ \\\n",
        "#   --predict_with_generate \\\n",
        "#   --text_column maintext \\\n",
        "#   --summary_column title \\\n",
        "#   --overwrite_output_dir \\\n",
        "#   --ignore_pad_token_for_loss \\\n",
        "#   --max_target_length 40 \\\n",
        "#   --top_k 10"
      ],
      "metadata": {
        "id": "b7LJdOjhIL-t"
      },
      "execution_count": null,
      "outputs": []
    },
    {
      "cell_type": "markdown",
      "source": [
        "  \n",
        "{\n",
        "  \"rouge-1\":{\n",
        "    \"r\": 0.2875300586072527,\n",
        "    \"p\": 0.19138565286075426,\n",
        "    \"f\": 0.2237325745704551\n",
        "  },\n",
        "  \"rouge-2\": {\n",
        "    \"r\": 0.10163833307766648,\n",
        "    \"p\": 0.05880448864732618,\n",
        "    \"f\": 0.07254311019451284\n",
        "  },\n",
        "  \"rouge-l\": {\n",
        "    \"r\": 0.25117743390446995,\n",
        "    \"p\": 0.16614660827362754,\n",
        "    \"f\": 0.19462783251941687\n",
        "  }\n",
        "}"
      ],
      "metadata": {
        "id": "eutC7RbjY0Mv"
      }
    },
    {
      "cell_type": "code",
      "source": [
        "# python run_summarization.py \\\n",
        "#   --do_predict \\\n",
        "#   --model_name_or_path ./output/checkpoint-12213/pytorch_model.bin \\\n",
        "#   --config_name ./output/config.json \\\n",
        "#   --tokenizer_name ./output/ \\\n",
        "#   --test_file ./data/public.jsonl \\\n",
        "#   --output_file ./output/generation_prediction_top_k100.jsonl \\\n",
        "#   --output_dir ./output/ \\\n",
        "#   --predict_with_generate \\\n",
        "#   --text_column maintext \\\n",
        "#   --summary_column title \\\n",
        "#   --overwrite_output_dir \\\n",
        "#   --ignore_pad_token_for_loss \\\n",
        "#   --max_target_length 40 \\\n",
        "#   --top_k 100"
      ],
      "metadata": {
        "id": "y7yBHBbuIL25"
      },
      "execution_count": null,
      "outputs": []
    },
    {
      "cell_type": "markdown",
      "source": [
        "{\n",
        "  \"rouge-1\":{\n",
        "    \"r\": 0.2875300586072527,\n",
        "    \"p\": 0.19138565286075426,\n",
        "    \"f\": 0.2237325745704551\n",
        "  },\n",
        "  \"rouge-2\": {\n",
        "    \"r\": 0.10163833307766648,\n",
        "    \"p\": 0.05880448864732618,\n",
        "    \"f\": 0.07254311019451284\n",
        "  },\n",
        "  \"rouge-l\": {\n",
        "    \"r\": 0.25117743390446995,\n",
        "    \"p\": 0.16614660827362754,\n",
        "    \"f\": 0.19462783251941687\n",
        "  }\n",
        "}"
      ],
      "metadata": {
        "id": "PLI_E2z7hJaJ"
      }
    },
    {
      "cell_type": "code",
      "source": [
        "# python run_summarization.py \\\n",
        "#   --do_predict \\\n",
        "#   --model_name_or_path ./output/checkpoint-12213/pytorch_model.bin \\\n",
        "#   --config_name ./output/config.json \\\n",
        "#   --tokenizer_name ./output/ \\\n",
        "#   --test_file ./data/public.jsonl \\\n",
        "#   --output_file ./output/generation_prediction_top_p5_temp05.jsonl \\\n",
        "#   --output_dir ./output/ \\\n",
        "#   --predict_with_generate \\\n",
        "#   --text_column maintext \\\n",
        "#   --summary_column title \\\n",
        "#   --overwrite_output_dir \\\n",
        "#   --ignore_pad_token_for_loss \\\n",
        "#   --top_p 0.5 \\\n",
        "#   --max_target_length 40 \\\n",
        "#   --temperature 0.5"
      ],
      "metadata": {
        "id": "ZGqluKEeILq7"
      },
      "execution_count": null,
      "outputs": []
    },
    {
      "cell_type": "markdown",
      "source": [
        "{\n",
        "  \"rouge_1\":{\n",
        "    \"r\": 0.2875300586072527,\n",
        "    \"p\": 0.19138565286075426,\n",
        "    \"f\": 0.2237325745704551\n",
        "  },\n",
        "  \"rouge-2\": {\n",
        "    \"r\": 0.10163833307766648,\n",
        "    \"p\": 0.05880448864732618,\n",
        "    \"f\": 0.07254311019451284\n",
        "  },\n",
        "  \"rouge-l\": {\n",
        "    \"r\": 0.25117743390446995,\n",
        "    \"p\": 0.16614660827362754,\n",
        "    \"f\": 0.19462783251941687\n",
        "  }\n",
        "}"
      ],
      "metadata": {
        "id": "0ZaN0Z2FjZWT"
      }
    },
    {
      "cell_type": "code",
      "source": [
        "# python run_summarization.py \\\n",
        "#   --do_predict \\\n",
        "#   --model_name_or_path ./output/checkpoint-12213/pytorch_model.bin \\\n",
        "#   --config_name ./output/config.json \\\n",
        "#   --tokenizer_name ./output/ \\\n",
        "#   --test_file ./data/public.jsonl \\\n",
        "#   --output_file ./output/generation_prediction_top_p5_temp2.jsonl \\\n",
        "#   --output_dir ./output/ \\\n",
        "#   --predict_with_generate \\\n",
        "#   --text_column maintext \\\n",
        "#   --summary_column title \\\n",
        "#   --overwrite_output_dir \\\n",
        "#   --ignore_pad_token_for_loss \\\n",
        "#   --max_target_length 40 \\\n",
        "#   --top_p 0.5 \\\n",
        "#   --temperature 2"
      ],
      "metadata": {
        "id": "9WV_G2amJnZD"
      },
      "execution_count": null,
      "outputs": []
    },
    {
      "cell_type": "code",
      "source": [
        ""
      ],
      "metadata": {
        "colab": {
          "base_uri": "https://localhost:8080/",
          "height": 137
        },
        "id": "2kzZWfYSq4Be",
        "outputId": "85d9e408-ba85-4ac5-c45c-64ccb1c8cfa3"
      },
      "execution_count": 48,
      "outputs": [
        {
          "output_type": "error",
          "ename": "SyntaxError",
          "evalue": "ignored",
          "traceback": [
            "\u001b[0;36m  File \u001b[0;32m\"<ipython-input-48-423a670240a1>\"\u001b[0;36m, line \u001b[0;32m1\u001b[0m\n\u001b[0;31m    \"p\": 0.21210891932244727,    \"f\": 0.24458587385646796  },\u001b[0m\n\u001b[0m                            ^\u001b[0m\n\u001b[0;31mSyntaxError\u001b[0m\u001b[0;31m:\u001b[0m invalid syntax\n"
          ]
        }
      ]
    },
    {
      "cell_type": "markdown",
      "source": [
        "    \"p\": 0.21210891932244727,    \"f\": 0.24458587385646796  },\n",
        "  \"rouge-2\": {\n",
        "    \"r\": 0.11553088656993483,\n",
        "    \"p\": 0.07121991676686378,\n",
        "    \"f\": 0.08581410748833951\n",
        "  },\n",
        "  \"rouge-l\": {\n",
        "    \"r\": 0.26891077322652984,\n",
        "    \"p\": 0.18414115345721407,\n",
        "    \"f\": 0.21257457624784287\n",
        "  }"
      ],
      "metadata": {
        "id": "x6zIID_Vq47P"
      }
    },
    {
      "cell_type": "code",
      "source": [
        "# python run_summarization.py \\\n",
        "#   --do_predict \\\n",
        "#   --model_name_or_path ./output/checkpoint-12213/pytorch_model.bin \\\n",
        "#   --config_name ./output/config.json \\\n",
        "#   --tokenizer_name ./output/ \\\n",
        "#   --test_file ./data/public.jsonl \\\n",
        "#   --output_file ./output/generation_prediction_beam10.jsonl \\\n",
        "#   --output_dir ./output/ \\\n",
        "#   --predict_with_generate \\\n",
        "#   --text_column maintext \\\n",
        "#   --summary_column title \\\n",
        "#   --overwrite_output_dir \\\n",
        "#   --ignore_pad_token_for_loss \\\n",
        "#   --max_target_length 40 \\\n",
        "#   --num_beams 10"
      ],
      "metadata": {
        "id": "A0-aPbp0JvjL"
      },
      "execution_count": null,
      "outputs": []
    },
    {
      "cell_type": "code",
      "source": [
        ""
      ],
      "metadata": {
        "id": "dL_1wvqu1yF4"
      },
      "execution_count": null,
      "outputs": []
    },
    {
      "cell_type": "markdown",
      "source": [
        "{\n",
        "  \"rouge-1\":{\n",
        "    \n",
        "    \"p\": 0.21415675165362755,\n",
        "    \"f\": 0.24622456383250416\n",
        "  },\n",
        "  \"rouge-2\": {\n",
        "    \"r\": 0.11632363064092047,\n",
        "    \"p\": 0.07248545392826969,\n",
        "    \"f\": 0.08691737476770794\n",
        "  },\n",
        "  \"rouge-l\": {\n",
        "    \"r\": 0.270502282227823,\n",
        "    \"p\": 0.1864105853122431,\n",
        "    \"f\": 0.21450737929654548  }\n",
        "}"
      ],
      "metadata": {
        "id": "LBkgRiKI1yvT"
      }
    },
    {
      "cell_type": "code",
      "source": [
        "# python run_summarization.py \\\n",
        "#   --do_predict \\\n",
        "#   --model_name_or_path ./output/checkpoint-12213/pytorch_model.bin \\\n",
        "#   --config_name ./output/config.json \\\n",
        "#   --tokenizer_name ./output/ \\\n",
        "#   --test_file ./data/public.jsonl \\\n",
        "#   --output_file ./output/generation_prediction_beam15.jsonl \\\n",
        "#   --output_dir ./output/ \\\n",
        "#   --predict_with_generate \\\n",
        "#   --text_column maintext \\\n",
        "#   --summary_column title \\\n",
        "#   --overwrite_output_dir \\\n",
        "#   --ignore_pad_token_for_loss \\\n",
        "#   --max_target_length 40 \\\n",
        "#   --num_beams 15"
      ],
      "metadata": {
        "id": "mFu5i5FrrC3X"
      },
      "execution_count": null,
      "outputs": []
    },
    {
      "cell_type": "code",
      "source": [
        "beam15 = pd.read_json(root+\"output/generation_prediction_beam15.jsonl\", lines=True)\n",
        "rouge1 = pd.read_json(root+\"output/RL_test_rouge1.jsonl\", lines=True)\n",
        "rougeL = pd.read_json(root+\"output/RL_test_rougeL.jsonl\", lines=True)"
      ],
      "metadata": {
        "id": "spPfEY79pqRY"
      },
      "execution_count": 51,
      "outputs": []
    },
    {
      "cell_type": "code",
      "source": [
        "beam15.head()"
      ],
      "metadata": {
        "colab": {
          "base_uri": "https://localhost:8080/",
          "height": 206
        },
        "id": "p5kLTgBxp71F",
        "outputId": "2428a9bb-2a42-4aec-b88d-d543c4ef25fe"
      },
      "execution_count": 53,
      "outputs": [
        {
          "output_type": "execute_result",
          "data": {
            "text/plain": [
              "      id                                              title\n",
              "0  21710  Anker推出真無線藍牙耳機Liberty Air 2 Pro 加入主動式降噪、收音、收音與...\n",
              "1  21711         彷彿置身鐵路藝術極品!苗栗「三義舊山線鐵道自行車」精選,客家美食+客家美食+客家美食\n",
              "2  21712  華碩推出換上Intel第11代Core處理器的Chromebook Flip C5 加入支援...\n",
              "3  21713    掌握疫後智慧商機/理財我最大 帶領讀者掌握疫後產業發展重點 產科國際所長帶領讀者掌握產業新重點\n",
              "4  21714  全球僅有15億台!Windows 7 已經退出消費市場 但仍有多少裝置仍有2億台上看2億台後..."
            ],
            "text/html": [
              "\n",
              "  <div id=\"df-2d804a01-4770-4715-a439-be8f2c7e1957\">\n",
              "    <div class=\"colab-df-container\">\n",
              "      <div>\n",
              "<style scoped>\n",
              "    .dataframe tbody tr th:only-of-type {\n",
              "        vertical-align: middle;\n",
              "    }\n",
              "\n",
              "    .dataframe tbody tr th {\n",
              "        vertical-align: top;\n",
              "    }\n",
              "\n",
              "    .dataframe thead th {\n",
              "        text-align: right;\n",
              "    }\n",
              "</style>\n",
              "<table border=\"1\" class=\"dataframe\">\n",
              "  <thead>\n",
              "    <tr style=\"text-align: right;\">\n",
              "      <th></th>\n",
              "      <th>id</th>\n",
              "      <th>title</th>\n",
              "    </tr>\n",
              "  </thead>\n",
              "  <tbody>\n",
              "    <tr>\n",
              "      <th>0</th>\n",
              "      <td>21710</td>\n",
              "      <td>Anker推出真無線藍牙耳機Liberty Air 2 Pro 加入主動式降噪、收音、收音與...</td>\n",
              "    </tr>\n",
              "    <tr>\n",
              "      <th>1</th>\n",
              "      <td>21711</td>\n",
              "      <td>彷彿置身鐵路藝術極品!苗栗「三義舊山線鐵道自行車」精選,客家美食+客家美食+客家美食</td>\n",
              "    </tr>\n",
              "    <tr>\n",
              "      <th>2</th>\n",
              "      <td>21712</td>\n",
              "      <td>華碩推出換上Intel第11代Core處理器的Chromebook Flip C5 加入支援...</td>\n",
              "    </tr>\n",
              "    <tr>\n",
              "      <th>3</th>\n",
              "      <td>21713</td>\n",
              "      <td>掌握疫後智慧商機/理財我最大 帶領讀者掌握疫後產業發展重點 產科國際所長帶領讀者掌握產業新重點</td>\n",
              "    </tr>\n",
              "    <tr>\n",
              "      <th>4</th>\n",
              "      <td>21714</td>\n",
              "      <td>全球僅有15億台!Windows 7 已經退出消費市場 但仍有多少裝置仍有2億台上看2億台後...</td>\n",
              "    </tr>\n",
              "  </tbody>\n",
              "</table>\n",
              "</div>\n",
              "      <button class=\"colab-df-convert\" onclick=\"convertToInteractive('df-2d804a01-4770-4715-a439-be8f2c7e1957')\"\n",
              "              title=\"Convert this dataframe to an interactive table.\"\n",
              "              style=\"display:none;\">\n",
              "        \n",
              "  <svg xmlns=\"http://www.w3.org/2000/svg\" height=\"24px\"viewBox=\"0 0 24 24\"\n",
              "       width=\"24px\">\n",
              "    <path d=\"M0 0h24v24H0V0z\" fill=\"none\"/>\n",
              "    <path d=\"M18.56 5.44l.94 2.06.94-2.06 2.06-.94-2.06-.94-.94-2.06-.94 2.06-2.06.94zm-11 1L8.5 8.5l.94-2.06 2.06-.94-2.06-.94L8.5 2.5l-.94 2.06-2.06.94zm10 10l.94 2.06.94-2.06 2.06-.94-2.06-.94-.94-2.06-.94 2.06-2.06.94z\"/><path d=\"M17.41 7.96l-1.37-1.37c-.4-.4-.92-.59-1.43-.59-.52 0-1.04.2-1.43.59L10.3 9.45l-7.72 7.72c-.78.78-.78 2.05 0 2.83L4 21.41c.39.39.9.59 1.41.59.51 0 1.02-.2 1.41-.59l7.78-7.78 2.81-2.81c.8-.78.8-2.07 0-2.86zM5.41 20L4 18.59l7.72-7.72 1.47 1.35L5.41 20z\"/>\n",
              "  </svg>\n",
              "      </button>\n",
              "      \n",
              "  <style>\n",
              "    .colab-df-container {\n",
              "      display:flex;\n",
              "      flex-wrap:wrap;\n",
              "      gap: 12px;\n",
              "    }\n",
              "\n",
              "    .colab-df-convert {\n",
              "      background-color: #E8F0FE;\n",
              "      border: none;\n",
              "      border-radius: 50%;\n",
              "      cursor: pointer;\n",
              "      display: none;\n",
              "      fill: #1967D2;\n",
              "      height: 32px;\n",
              "      padding: 0 0 0 0;\n",
              "      width: 32px;\n",
              "    }\n",
              "\n",
              "    .colab-df-convert:hover {\n",
              "      background-color: #E2EBFA;\n",
              "      box-shadow: 0px 1px 2px rgba(60, 64, 67, 0.3), 0px 1px 3px 1px rgba(60, 64, 67, 0.15);\n",
              "      fill: #174EA6;\n",
              "    }\n",
              "\n",
              "    [theme=dark] .colab-df-convert {\n",
              "      background-color: #3B4455;\n",
              "      fill: #D2E3FC;\n",
              "    }\n",
              "\n",
              "    [theme=dark] .colab-df-convert:hover {\n",
              "      background-color: #434B5C;\n",
              "      box-shadow: 0px 1px 3px 1px rgba(0, 0, 0, 0.15);\n",
              "      filter: drop-shadow(0px 1px 2px rgba(0, 0, 0, 0.3));\n",
              "      fill: #FFFFFF;\n",
              "    }\n",
              "  </style>\n",
              "\n",
              "      <script>\n",
              "        const buttonEl =\n",
              "          document.querySelector('#df-2d804a01-4770-4715-a439-be8f2c7e1957 button.colab-df-convert');\n",
              "        buttonEl.style.display =\n",
              "          google.colab.kernel.accessAllowed ? 'block' : 'none';\n",
              "\n",
              "        async function convertToInteractive(key) {\n",
              "          const element = document.querySelector('#df-2d804a01-4770-4715-a439-be8f2c7e1957');\n",
              "          const dataTable =\n",
              "            await google.colab.kernel.invokeFunction('convertToInteractive',\n",
              "                                                     [key], {});\n",
              "          if (!dataTable) return;\n",
              "\n",
              "          const docLinkHtml = 'Like what you see? Visit the ' +\n",
              "            '<a target=\"_blank\" href=https://colab.research.google.com/notebooks/data_table.ipynb>data table notebook</a>'\n",
              "            + ' to learn more about interactive tables.';\n",
              "          element.innerHTML = '';\n",
              "          dataTable['output_type'] = 'display_data';\n",
              "          await google.colab.output.renderOutput(dataTable, element);\n",
              "          const docLink = document.createElement('div');\n",
              "          docLink.innerHTML = docLinkHtml;\n",
              "          element.appendChild(docLink);\n",
              "        }\n",
              "      </script>\n",
              "    </div>\n",
              "  </div>\n",
              "  "
            ]
          },
          "metadata": {},
          "execution_count": 53
        }
      ]
    },
    {
      "cell_type": "code",
      "source": [
        "rouge1.head()"
      ],
      "metadata": {
        "colab": {
          "base_uri": "https://localhost:8080/",
          "height": 206
        },
        "id": "hgVlRNWrAkKV",
        "outputId": "ed8af155-3bc0-42f1-9b25-e39e6689b11e"
      },
      "execution_count": 54,
      "outputs": [
        {
          "output_type": "execute_result",
          "data": {
            "text/plain": [
              "      id                                   title\n",
              "0  21710      Anker新款真無線藍牙耳機LibertyAir2Pro預進台灣市場\n",
              "1  21711                 鐵綠鐵綠家美食!美食山線鐵車!三栗鐵遊」氣鐵景\n",
              "2  21712  華碩推出換應15.6規安全護認安全in1使用Chrome吋機bookFlip\n",
              "3  21713                         疫情發展重革蘇產業產業勢產業會\n",
              "4  21714                      微僅7置的暴超過15億台但佔率達定這"
            ],
            "text/html": [
              "\n",
              "  <div id=\"df-cf6e5898-3ca5-483f-93e4-c1a4c52fe4f0\">\n",
              "    <div class=\"colab-df-container\">\n",
              "      <div>\n",
              "<style scoped>\n",
              "    .dataframe tbody tr th:only-of-type {\n",
              "        vertical-align: middle;\n",
              "    }\n",
              "\n",
              "    .dataframe tbody tr th {\n",
              "        vertical-align: top;\n",
              "    }\n",
              "\n",
              "    .dataframe thead th {\n",
              "        text-align: right;\n",
              "    }\n",
              "</style>\n",
              "<table border=\"1\" class=\"dataframe\">\n",
              "  <thead>\n",
              "    <tr style=\"text-align: right;\">\n",
              "      <th></th>\n",
              "      <th>id</th>\n",
              "      <th>title</th>\n",
              "    </tr>\n",
              "  </thead>\n",
              "  <tbody>\n",
              "    <tr>\n",
              "      <th>0</th>\n",
              "      <td>21710</td>\n",
              "      <td>Anker新款真無線藍牙耳機LibertyAir2Pro預進台灣市場</td>\n",
              "    </tr>\n",
              "    <tr>\n",
              "      <th>1</th>\n",
              "      <td>21711</td>\n",
              "      <td>鐵綠鐵綠家美食!美食山線鐵車!三栗鐵遊」氣鐵景</td>\n",
              "    </tr>\n",
              "    <tr>\n",
              "      <th>2</th>\n",
              "      <td>21712</td>\n",
              "      <td>華碩推出換應15.6規安全護認安全in1使用Chrome吋機bookFlip</td>\n",
              "    </tr>\n",
              "    <tr>\n",
              "      <th>3</th>\n",
              "      <td>21713</td>\n",
              "      <td>疫情發展重革蘇產業產業勢產業會</td>\n",
              "    </tr>\n",
              "    <tr>\n",
              "      <th>4</th>\n",
              "      <td>21714</td>\n",
              "      <td>微僅7置的暴超過15億台但佔率達定這</td>\n",
              "    </tr>\n",
              "  </tbody>\n",
              "</table>\n",
              "</div>\n",
              "      <button class=\"colab-df-convert\" onclick=\"convertToInteractive('df-cf6e5898-3ca5-483f-93e4-c1a4c52fe4f0')\"\n",
              "              title=\"Convert this dataframe to an interactive table.\"\n",
              "              style=\"display:none;\">\n",
              "        \n",
              "  <svg xmlns=\"http://www.w3.org/2000/svg\" height=\"24px\"viewBox=\"0 0 24 24\"\n",
              "       width=\"24px\">\n",
              "    <path d=\"M0 0h24v24H0V0z\" fill=\"none\"/>\n",
              "    <path d=\"M18.56 5.44l.94 2.06.94-2.06 2.06-.94-2.06-.94-.94-2.06-.94 2.06-2.06.94zm-11 1L8.5 8.5l.94-2.06 2.06-.94-2.06-.94L8.5 2.5l-.94 2.06-2.06.94zm10 10l.94 2.06.94-2.06 2.06-.94-2.06-.94-.94-2.06-.94 2.06-2.06.94z\"/><path d=\"M17.41 7.96l-1.37-1.37c-.4-.4-.92-.59-1.43-.59-.52 0-1.04.2-1.43.59L10.3 9.45l-7.72 7.72c-.78.78-.78 2.05 0 2.83L4 21.41c.39.39.9.59 1.41.59.51 0 1.02-.2 1.41-.59l7.78-7.78 2.81-2.81c.8-.78.8-2.07 0-2.86zM5.41 20L4 18.59l7.72-7.72 1.47 1.35L5.41 20z\"/>\n",
              "  </svg>\n",
              "      </button>\n",
              "      \n",
              "  <style>\n",
              "    .colab-df-container {\n",
              "      display:flex;\n",
              "      flex-wrap:wrap;\n",
              "      gap: 12px;\n",
              "    }\n",
              "\n",
              "    .colab-df-convert {\n",
              "      background-color: #E8F0FE;\n",
              "      border: none;\n",
              "      border-radius: 50%;\n",
              "      cursor: pointer;\n",
              "      display: none;\n",
              "      fill: #1967D2;\n",
              "      height: 32px;\n",
              "      padding: 0 0 0 0;\n",
              "      width: 32px;\n",
              "    }\n",
              "\n",
              "    .colab-df-convert:hover {\n",
              "      background-color: #E2EBFA;\n",
              "      box-shadow: 0px 1px 2px rgba(60, 64, 67, 0.3), 0px 1px 3px 1px rgba(60, 64, 67, 0.15);\n",
              "      fill: #174EA6;\n",
              "    }\n",
              "\n",
              "    [theme=dark] .colab-df-convert {\n",
              "      background-color: #3B4455;\n",
              "      fill: #D2E3FC;\n",
              "    }\n",
              "\n",
              "    [theme=dark] .colab-df-convert:hover {\n",
              "      background-color: #434B5C;\n",
              "      box-shadow: 0px 1px 3px 1px rgba(0, 0, 0, 0.15);\n",
              "      filter: drop-shadow(0px 1px 2px rgba(0, 0, 0, 0.3));\n",
              "      fill: #FFFFFF;\n",
              "    }\n",
              "  </style>\n",
              "\n",
              "      <script>\n",
              "        const buttonEl =\n",
              "          document.querySelector('#df-cf6e5898-3ca5-483f-93e4-c1a4c52fe4f0 button.colab-df-convert');\n",
              "        buttonEl.style.display =\n",
              "          google.colab.kernel.accessAllowed ? 'block' : 'none';\n",
              "\n",
              "        async function convertToInteractive(key) {\n",
              "          const element = document.querySelector('#df-cf6e5898-3ca5-483f-93e4-c1a4c52fe4f0');\n",
              "          const dataTable =\n",
              "            await google.colab.kernel.invokeFunction('convertToInteractive',\n",
              "                                                     [key], {});\n",
              "          if (!dataTable) return;\n",
              "\n",
              "          const docLinkHtml = 'Like what you see? Visit the ' +\n",
              "            '<a target=\"_blank\" href=https://colab.research.google.com/notebooks/data_table.ipynb>data table notebook</a>'\n",
              "            + ' to learn more about interactive tables.';\n",
              "          element.innerHTML = '';\n",
              "          dataTable['output_type'] = 'display_data';\n",
              "          await google.colab.output.renderOutput(dataTable, element);\n",
              "          const docLink = document.createElement('div');\n",
              "          docLink.innerHTML = docLinkHtml;\n",
              "          element.appendChild(docLink);\n",
              "        }\n",
              "      </script>\n",
              "    </div>\n",
              "  </div>\n",
              "  "
            ]
          },
          "metadata": {},
          "execution_count": 54
        }
      ]
    },
    {
      "cell_type": "code",
      "source": [
        "rougeL.head()"
      ],
      "metadata": {
        "colab": {
          "base_uri": "https://localhost:8080/",
          "height": 206
        },
        "id": "LzIxuhrMAoYJ",
        "outputId": "00e02696-fcab-4fd7-dab7-490383947202"
      },
      "execution_count": 55,
      "outputs": [
        {
          "output_type": "execute_result",
          "data": {
            "text/plain": [
              "      id                             title\n",
              "0  21710       Anker新款真無線藍牙耳機Air2Pro預進台灣市場\n",
              "1  21711         苗綠鐵綠家必推薦景山線鐵車!舊栗鐵遊」氣路線推薦景\n",
              "2  21712  華碩換Chrome應16規護防in1使用Chrome吋機book\n",
              "3  21713                    疫情發展大革二產業產業勢挑會\n",
              "4  21714                微僅7置的暴1115億台但佔率恐定這"
            ],
            "text/html": [
              "\n",
              "  <div id=\"df-121ca049-aa0a-44e7-8625-839519d4c359\">\n",
              "    <div class=\"colab-df-container\">\n",
              "      <div>\n",
              "<style scoped>\n",
              "    .dataframe tbody tr th:only-of-type {\n",
              "        vertical-align: middle;\n",
              "    }\n",
              "\n",
              "    .dataframe tbody tr th {\n",
              "        vertical-align: top;\n",
              "    }\n",
              "\n",
              "    .dataframe thead th {\n",
              "        text-align: right;\n",
              "    }\n",
              "</style>\n",
              "<table border=\"1\" class=\"dataframe\">\n",
              "  <thead>\n",
              "    <tr style=\"text-align: right;\">\n",
              "      <th></th>\n",
              "      <th>id</th>\n",
              "      <th>title</th>\n",
              "    </tr>\n",
              "  </thead>\n",
              "  <tbody>\n",
              "    <tr>\n",
              "      <th>0</th>\n",
              "      <td>21710</td>\n",
              "      <td>Anker新款真無線藍牙耳機Air2Pro預進台灣市場</td>\n",
              "    </tr>\n",
              "    <tr>\n",
              "      <th>1</th>\n",
              "      <td>21711</td>\n",
              "      <td>苗綠鐵綠家必推薦景山線鐵車!舊栗鐵遊」氣路線推薦景</td>\n",
              "    </tr>\n",
              "    <tr>\n",
              "      <th>2</th>\n",
              "      <td>21712</td>\n",
              "      <td>華碩換Chrome應16規護防in1使用Chrome吋機book</td>\n",
              "    </tr>\n",
              "    <tr>\n",
              "      <th>3</th>\n",
              "      <td>21713</td>\n",
              "      <td>疫情發展大革二產業產業勢挑會</td>\n",
              "    </tr>\n",
              "    <tr>\n",
              "      <th>4</th>\n",
              "      <td>21714</td>\n",
              "      <td>微僅7置的暴1115億台但佔率恐定這</td>\n",
              "    </tr>\n",
              "  </tbody>\n",
              "</table>\n",
              "</div>\n",
              "      <button class=\"colab-df-convert\" onclick=\"convertToInteractive('df-121ca049-aa0a-44e7-8625-839519d4c359')\"\n",
              "              title=\"Convert this dataframe to an interactive table.\"\n",
              "              style=\"display:none;\">\n",
              "        \n",
              "  <svg xmlns=\"http://www.w3.org/2000/svg\" height=\"24px\"viewBox=\"0 0 24 24\"\n",
              "       width=\"24px\">\n",
              "    <path d=\"M0 0h24v24H0V0z\" fill=\"none\"/>\n",
              "    <path d=\"M18.56 5.44l.94 2.06.94-2.06 2.06-.94-2.06-.94-.94-2.06-.94 2.06-2.06.94zm-11 1L8.5 8.5l.94-2.06 2.06-.94-2.06-.94L8.5 2.5l-.94 2.06-2.06.94zm10 10l.94 2.06.94-2.06 2.06-.94-2.06-.94-.94-2.06-.94 2.06-2.06.94z\"/><path d=\"M17.41 7.96l-1.37-1.37c-.4-.4-.92-.59-1.43-.59-.52 0-1.04.2-1.43.59L10.3 9.45l-7.72 7.72c-.78.78-.78 2.05 0 2.83L4 21.41c.39.39.9.59 1.41.59.51 0 1.02-.2 1.41-.59l7.78-7.78 2.81-2.81c.8-.78.8-2.07 0-2.86zM5.41 20L4 18.59l7.72-7.72 1.47 1.35L5.41 20z\"/>\n",
              "  </svg>\n",
              "      </button>\n",
              "      \n",
              "  <style>\n",
              "    .colab-df-container {\n",
              "      display:flex;\n",
              "      flex-wrap:wrap;\n",
              "      gap: 12px;\n",
              "    }\n",
              "\n",
              "    .colab-df-convert {\n",
              "      background-color: #E8F0FE;\n",
              "      border: none;\n",
              "      border-radius: 50%;\n",
              "      cursor: pointer;\n",
              "      display: none;\n",
              "      fill: #1967D2;\n",
              "      height: 32px;\n",
              "      padding: 0 0 0 0;\n",
              "      width: 32px;\n",
              "    }\n",
              "\n",
              "    .colab-df-convert:hover {\n",
              "      background-color: #E2EBFA;\n",
              "      box-shadow: 0px 1px 2px rgba(60, 64, 67, 0.3), 0px 1px 3px 1px rgba(60, 64, 67, 0.15);\n",
              "      fill: #174EA6;\n",
              "    }\n",
              "\n",
              "    [theme=dark] .colab-df-convert {\n",
              "      background-color: #3B4455;\n",
              "      fill: #D2E3FC;\n",
              "    }\n",
              "\n",
              "    [theme=dark] .colab-df-convert:hover {\n",
              "      background-color: #434B5C;\n",
              "      box-shadow: 0px 1px 3px 1px rgba(0, 0, 0, 0.15);\n",
              "      filter: drop-shadow(0px 1px 2px rgba(0, 0, 0, 0.3));\n",
              "      fill: #FFFFFF;\n",
              "    }\n",
              "  </style>\n",
              "\n",
              "      <script>\n",
              "        const buttonEl =\n",
              "          document.querySelector('#df-121ca049-aa0a-44e7-8625-839519d4c359 button.colab-df-convert');\n",
              "        buttonEl.style.display =\n",
              "          google.colab.kernel.accessAllowed ? 'block' : 'none';\n",
              "\n",
              "        async function convertToInteractive(key) {\n",
              "          const element = document.querySelector('#df-121ca049-aa0a-44e7-8625-839519d4c359');\n",
              "          const dataTable =\n",
              "            await google.colab.kernel.invokeFunction('convertToInteractive',\n",
              "                                                     [key], {});\n",
              "          if (!dataTable) return;\n",
              "\n",
              "          const docLinkHtml = 'Like what you see? Visit the ' +\n",
              "            '<a target=\"_blank\" href=https://colab.research.google.com/notebooks/data_table.ipynb>data table notebook</a>'\n",
              "            + ' to learn more about interactive tables.';\n",
              "          element.innerHTML = '';\n",
              "          dataTable['output_type'] = 'display_data';\n",
              "          await google.colab.output.renderOutput(dataTable, element);\n",
              "          const docLink = document.createElement('div');\n",
              "          docLink.innerHTML = docLinkHtml;\n",
              "          element.appendChild(docLink);\n",
              "        }\n",
              "      </script>\n",
              "    </div>\n",
              "  </div>\n",
              "  "
            ]
          },
          "metadata": {},
          "execution_count": 55
        }
      ]
    },
    {
      "cell_type": "code",
      "source": [
        ""
      ],
      "metadata": {
        "id": "i0ctMoilAqGt"
      },
      "execution_count": null,
      "outputs": []
    }
  ]
}