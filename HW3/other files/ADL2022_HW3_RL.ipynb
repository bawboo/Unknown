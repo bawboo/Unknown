{
  "nbformat": 4,
  "nbformat_minor": 0,
  "metadata": {
    "colab": {
      "name": "ADL2022-HW3-RL.ipynb",
      "provenance": [],
      "collapsed_sections": []
    },
    "kernelspec": {
      "name": "python3",
      "display_name": "Python 3"
    },
    "language_info": {
      "name": "python"
    },
    "accelerator": "GPU",
    "widgets": {
      "application/vnd.jupyter.widget-state+json": {
        "3f46ec38473f402ba6061b109a57a97f": {
          "model_module": "@jupyter-widgets/controls",
          "model_name": "HBoxModel",
          "model_module_version": "1.5.0",
          "state": {
            "_dom_classes": [],
            "_model_module": "@jupyter-widgets/controls",
            "_model_module_version": "1.5.0",
            "_model_name": "HBoxModel",
            "_view_count": null,
            "_view_module": "@jupyter-widgets/controls",
            "_view_module_version": "1.5.0",
            "_view_name": "HBoxView",
            "box_style": "",
            "children": [
              "IPY_MODEL_4b1c77eeaf5741f3b58d1e53a481afc5",
              "IPY_MODEL_674a519bfde44809a807f94150e39551",
              "IPY_MODEL_d2ee1842ce734b639418cebd7a77719a"
            ],
            "layout": "IPY_MODEL_b21e459f901f4383bac18e02ff737430"
          }
        },
        "4b1c77eeaf5741f3b58d1e53a481afc5": {
          "model_module": "@jupyter-widgets/controls",
          "model_name": "HTMLModel",
          "model_module_version": "1.5.0",
          "state": {
            "_dom_classes": [],
            "_model_module": "@jupyter-widgets/controls",
            "_model_module_version": "1.5.0",
            "_model_name": "HTMLModel",
            "_view_count": null,
            "_view_module": "@jupyter-widgets/controls",
            "_view_module_version": "1.5.0",
            "_view_name": "HTMLView",
            "description": "",
            "description_tooltip": null,
            "layout": "IPY_MODEL_408a2254954e48dab5e7623f14f682d0",
            "placeholder": "​",
            "style": "IPY_MODEL_b4e10fcfc9d84c3daaa2e8618a9f3cb3",
            "value": "  0%"
          }
        },
        "674a519bfde44809a807f94150e39551": {
          "model_module": "@jupyter-widgets/controls",
          "model_name": "FloatProgressModel",
          "model_module_version": "1.5.0",
          "state": {
            "_dom_classes": [],
            "_model_module": "@jupyter-widgets/controls",
            "_model_module_version": "1.5.0",
            "_model_name": "FloatProgressModel",
            "_view_count": null,
            "_view_module": "@jupyter-widgets/controls",
            "_view_module_version": "1.5.0",
            "_view_name": "ProgressView",
            "bar_style": "danger",
            "description": "",
            "description_tooltip": null,
            "layout": "IPY_MODEL_cb8476473ff841c4ba0707c4640dd76c",
            "max": 1374,
            "min": 0,
            "orientation": "horizontal",
            "style": "IPY_MODEL_9ec63015e90d4535aa2fecc8d46adf3d",
            "value": 6
          }
        },
        "d2ee1842ce734b639418cebd7a77719a": {
          "model_module": "@jupyter-widgets/controls",
          "model_name": "HTMLModel",
          "model_module_version": "1.5.0",
          "state": {
            "_dom_classes": [],
            "_model_module": "@jupyter-widgets/controls",
            "_model_module_version": "1.5.0",
            "_model_name": "HTMLModel",
            "_view_count": null,
            "_view_module": "@jupyter-widgets/controls",
            "_view_module_version": "1.5.0",
            "_view_name": "HTMLView",
            "description": "",
            "description_tooltip": null,
            "layout": "IPY_MODEL_8028864ca1e4406c883fb329ef029e86",
            "placeholder": "​",
            "style": "IPY_MODEL_88bcab58bec14d19b1cf521c475622ef",
            "value": " 6/1374 [00:03&lt;11:00,  2.07it/s]"
          }
        },
        "b21e459f901f4383bac18e02ff737430": {
          "model_module": "@jupyter-widgets/base",
          "model_name": "LayoutModel",
          "model_module_version": "1.2.0",
          "state": {
            "_model_module": "@jupyter-widgets/base",
            "_model_module_version": "1.2.0",
            "_model_name": "LayoutModel",
            "_view_count": null,
            "_view_module": "@jupyter-widgets/base",
            "_view_module_version": "1.2.0",
            "_view_name": "LayoutView",
            "align_content": null,
            "align_items": null,
            "align_self": null,
            "border": null,
            "bottom": null,
            "display": null,
            "flex": null,
            "flex_flow": null,
            "grid_area": null,
            "grid_auto_columns": null,
            "grid_auto_flow": null,
            "grid_auto_rows": null,
            "grid_column": null,
            "grid_gap": null,
            "grid_row": null,
            "grid_template_areas": null,
            "grid_template_columns": null,
            "grid_template_rows": null,
            "height": null,
            "justify_content": null,
            "justify_items": null,
            "left": null,
            "margin": null,
            "max_height": null,
            "max_width": null,
            "min_height": null,
            "min_width": null,
            "object_fit": null,
            "object_position": null,
            "order": null,
            "overflow": null,
            "overflow_x": null,
            "overflow_y": null,
            "padding": null,
            "right": null,
            "top": null,
            "visibility": null,
            "width": null
          }
        },
        "408a2254954e48dab5e7623f14f682d0": {
          "model_module": "@jupyter-widgets/base",
          "model_name": "LayoutModel",
          "model_module_version": "1.2.0",
          "state": {
            "_model_module": "@jupyter-widgets/base",
            "_model_module_version": "1.2.0",
            "_model_name": "LayoutModel",
            "_view_count": null,
            "_view_module": "@jupyter-widgets/base",
            "_view_module_version": "1.2.0",
            "_view_name": "LayoutView",
            "align_content": null,
            "align_items": null,
            "align_self": null,
            "border": null,
            "bottom": null,
            "display": null,
            "flex": null,
            "flex_flow": null,
            "grid_area": null,
            "grid_auto_columns": null,
            "grid_auto_flow": null,
            "grid_auto_rows": null,
            "grid_column": null,
            "grid_gap": null,
            "grid_row": null,
            "grid_template_areas": null,
            "grid_template_columns": null,
            "grid_template_rows": null,
            "height": null,
            "justify_content": null,
            "justify_items": null,
            "left": null,
            "margin": null,
            "max_height": null,
            "max_width": null,
            "min_height": null,
            "min_width": null,
            "object_fit": null,
            "object_position": null,
            "order": null,
            "overflow": null,
            "overflow_x": null,
            "overflow_y": null,
            "padding": null,
            "right": null,
            "top": null,
            "visibility": null,
            "width": null
          }
        },
        "b4e10fcfc9d84c3daaa2e8618a9f3cb3": {
          "model_module": "@jupyter-widgets/controls",
          "model_name": "DescriptionStyleModel",
          "model_module_version": "1.5.0",
          "state": {
            "_model_module": "@jupyter-widgets/controls",
            "_model_module_version": "1.5.0",
            "_model_name": "DescriptionStyleModel",
            "_view_count": null,
            "_view_module": "@jupyter-widgets/base",
            "_view_module_version": "1.2.0",
            "_view_name": "StyleView",
            "description_width": ""
          }
        },
        "cb8476473ff841c4ba0707c4640dd76c": {
          "model_module": "@jupyter-widgets/base",
          "model_name": "LayoutModel",
          "model_module_version": "1.2.0",
          "state": {
            "_model_module": "@jupyter-widgets/base",
            "_model_module_version": "1.2.0",
            "_model_name": "LayoutModel",
            "_view_count": null,
            "_view_module": "@jupyter-widgets/base",
            "_view_module_version": "1.2.0",
            "_view_name": "LayoutView",
            "align_content": null,
            "align_items": null,
            "align_self": null,
            "border": null,
            "bottom": null,
            "display": null,
            "flex": null,
            "flex_flow": null,
            "grid_area": null,
            "grid_auto_columns": null,
            "grid_auto_flow": null,
            "grid_auto_rows": null,
            "grid_column": null,
            "grid_gap": null,
            "grid_row": null,
            "grid_template_areas": null,
            "grid_template_columns": null,
            "grid_template_rows": null,
            "height": null,
            "justify_content": null,
            "justify_items": null,
            "left": null,
            "margin": null,
            "max_height": null,
            "max_width": null,
            "min_height": null,
            "min_width": null,
            "object_fit": null,
            "object_position": null,
            "order": null,
            "overflow": null,
            "overflow_x": null,
            "overflow_y": null,
            "padding": null,
            "right": null,
            "top": null,
            "visibility": null,
            "width": null
          }
        },
        "9ec63015e90d4535aa2fecc8d46adf3d": {
          "model_module": "@jupyter-widgets/controls",
          "model_name": "ProgressStyleModel",
          "model_module_version": "1.5.0",
          "state": {
            "_model_module": "@jupyter-widgets/controls",
            "_model_module_version": "1.5.0",
            "_model_name": "ProgressStyleModel",
            "_view_count": null,
            "_view_module": "@jupyter-widgets/base",
            "_view_module_version": "1.2.0",
            "_view_name": "StyleView",
            "bar_color": null,
            "description_width": ""
          }
        },
        "8028864ca1e4406c883fb329ef029e86": {
          "model_module": "@jupyter-widgets/base",
          "model_name": "LayoutModel",
          "model_module_version": "1.2.0",
          "state": {
            "_model_module": "@jupyter-widgets/base",
            "_model_module_version": "1.2.0",
            "_model_name": "LayoutModel",
            "_view_count": null,
            "_view_module": "@jupyter-widgets/base",
            "_view_module_version": "1.2.0",
            "_view_name": "LayoutView",
            "align_content": null,
            "align_items": null,
            "align_self": null,
            "border": null,
            "bottom": null,
            "display": null,
            "flex": null,
            "flex_flow": null,
            "grid_area": null,
            "grid_auto_columns": null,
            "grid_auto_flow": null,
            "grid_auto_rows": null,
            "grid_column": null,
            "grid_gap": null,
            "grid_row": null,
            "grid_template_areas": null,
            "grid_template_columns": null,
            "grid_template_rows": null,
            "height": null,
            "justify_content": null,
            "justify_items": null,
            "left": null,
            "margin": null,
            "max_height": null,
            "max_width": null,
            "min_height": null,
            "min_width": null,
            "object_fit": null,
            "object_position": null,
            "order": null,
            "overflow": null,
            "overflow_x": null,
            "overflow_y": null,
            "padding": null,
            "right": null,
            "top": null,
            "visibility": null,
            "width": null
          }
        },
        "88bcab58bec14d19b1cf521c475622ef": {
          "model_module": "@jupyter-widgets/controls",
          "model_name": "DescriptionStyleModel",
          "model_module_version": "1.5.0",
          "state": {
            "_model_module": "@jupyter-widgets/controls",
            "_model_module_version": "1.5.0",
            "_model_name": "DescriptionStyleModel",
            "_view_count": null,
            "_view_module": "@jupyter-widgets/base",
            "_view_module_version": "1.2.0",
            "_view_name": "StyleView",
            "description_width": ""
          }
        },
        "c27be8bacedd4133b13621c670609550": {
          "model_module": "@jupyter-widgets/controls",
          "model_name": "HBoxModel",
          "model_module_version": "1.5.0",
          "state": {
            "_dom_classes": [],
            "_model_module": "@jupyter-widgets/controls",
            "_model_module_version": "1.5.0",
            "_model_name": "HBoxModel",
            "_view_count": null,
            "_view_module": "@jupyter-widgets/controls",
            "_view_module_version": "1.5.0",
            "_view_name": "HBoxView",
            "box_style": "",
            "children": [
              "IPY_MODEL_dff6ccb24ce342bb89a7d142bccbc1cf",
              "IPY_MODEL_79ccb567c35d4ee0aff141c5bcf62d5e",
              "IPY_MODEL_9554840265914a849830b5e875f089c2"
            ],
            "layout": "IPY_MODEL_8a237370fdb04958a8b972f219fd3e97"
          }
        },
        "dff6ccb24ce342bb89a7d142bccbc1cf": {
          "model_module": "@jupyter-widgets/controls",
          "model_name": "HTMLModel",
          "model_module_version": "1.5.0",
          "state": {
            "_dom_classes": [],
            "_model_module": "@jupyter-widgets/controls",
            "_model_module_version": "1.5.0",
            "_model_name": "HTMLModel",
            "_view_count": null,
            "_view_module": "@jupyter-widgets/controls",
            "_view_module_version": "1.5.0",
            "_view_name": "HTMLView",
            "description": "",
            "description_tooltip": null,
            "layout": "IPY_MODEL_de18bb7d2507480ea54cc33140ecbbc5",
            "placeholder": "​",
            "style": "IPY_MODEL_44efb14a3a0f4c70bedf63e8638945b8",
            "value": "100%"
          }
        },
        "79ccb567c35d4ee0aff141c5bcf62d5e": {
          "model_module": "@jupyter-widgets/controls",
          "model_name": "FloatProgressModel",
          "model_module_version": "1.5.0",
          "state": {
            "_dom_classes": [],
            "_model_module": "@jupyter-widgets/controls",
            "_model_module_version": "1.5.0",
            "_model_name": "FloatProgressModel",
            "_view_count": null,
            "_view_module": "@jupyter-widgets/controls",
            "_view_module_version": "1.5.0",
            "_view_name": "ProgressView",
            "bar_style": "success",
            "description": "",
            "description_tooltip": null,
            "layout": "IPY_MODEL_2af07eb9542847bf9ccfcd741eb9deda",
            "max": 2,
            "min": 0,
            "orientation": "horizontal",
            "style": "IPY_MODEL_9a978ee99d31460a9ffa17c2d0e56b8f",
            "value": 2
          }
        },
        "9554840265914a849830b5e875f089c2": {
          "model_module": "@jupyter-widgets/controls",
          "model_name": "HTMLModel",
          "model_module_version": "1.5.0",
          "state": {
            "_dom_classes": [],
            "_model_module": "@jupyter-widgets/controls",
            "_model_module_version": "1.5.0",
            "_model_name": "HTMLModel",
            "_view_count": null,
            "_view_module": "@jupyter-widgets/controls",
            "_view_module_version": "1.5.0",
            "_view_name": "HTMLView",
            "description": "",
            "description_tooltip": null,
            "layout": "IPY_MODEL_35935c86b27141f194b59681a517f7fb",
            "placeholder": "​",
            "style": "IPY_MODEL_f540793dbab94e2ab5defae0b023250b",
            "value": " 2/2 [00:00&lt;00:00,  2.64it/s]"
          }
        },
        "8a237370fdb04958a8b972f219fd3e97": {
          "model_module": "@jupyter-widgets/base",
          "model_name": "LayoutModel",
          "model_module_version": "1.2.0",
          "state": {
            "_model_module": "@jupyter-widgets/base",
            "_model_module_version": "1.2.0",
            "_model_name": "LayoutModel",
            "_view_count": null,
            "_view_module": "@jupyter-widgets/base",
            "_view_module_version": "1.2.0",
            "_view_name": "LayoutView",
            "align_content": null,
            "align_items": null,
            "align_self": null,
            "border": null,
            "bottom": null,
            "display": null,
            "flex": null,
            "flex_flow": null,
            "grid_area": null,
            "grid_auto_columns": null,
            "grid_auto_flow": null,
            "grid_auto_rows": null,
            "grid_column": null,
            "grid_gap": null,
            "grid_row": null,
            "grid_template_areas": null,
            "grid_template_columns": null,
            "grid_template_rows": null,
            "height": null,
            "justify_content": null,
            "justify_items": null,
            "left": null,
            "margin": null,
            "max_height": null,
            "max_width": null,
            "min_height": null,
            "min_width": null,
            "object_fit": null,
            "object_position": null,
            "order": null,
            "overflow": null,
            "overflow_x": null,
            "overflow_y": null,
            "padding": null,
            "right": null,
            "top": null,
            "visibility": null,
            "width": null
          }
        },
        "de18bb7d2507480ea54cc33140ecbbc5": {
          "model_module": "@jupyter-widgets/base",
          "model_name": "LayoutModel",
          "model_module_version": "1.2.0",
          "state": {
            "_model_module": "@jupyter-widgets/base",
            "_model_module_version": "1.2.0",
            "_model_name": "LayoutModel",
            "_view_count": null,
            "_view_module": "@jupyter-widgets/base",
            "_view_module_version": "1.2.0",
            "_view_name": "LayoutView",
            "align_content": null,
            "align_items": null,
            "align_self": null,
            "border": null,
            "bottom": null,
            "display": null,
            "flex": null,
            "flex_flow": null,
            "grid_area": null,
            "grid_auto_columns": null,
            "grid_auto_flow": null,
            "grid_auto_rows": null,
            "grid_column": null,
            "grid_gap": null,
            "grid_row": null,
            "grid_template_areas": null,
            "grid_template_columns": null,
            "grid_template_rows": null,
            "height": null,
            "justify_content": null,
            "justify_items": null,
            "left": null,
            "margin": null,
            "max_height": null,
            "max_width": null,
            "min_height": null,
            "min_width": null,
            "object_fit": null,
            "object_position": null,
            "order": null,
            "overflow": null,
            "overflow_x": null,
            "overflow_y": null,
            "padding": null,
            "right": null,
            "top": null,
            "visibility": null,
            "width": null
          }
        },
        "44efb14a3a0f4c70bedf63e8638945b8": {
          "model_module": "@jupyter-widgets/controls",
          "model_name": "DescriptionStyleModel",
          "model_module_version": "1.5.0",
          "state": {
            "_model_module": "@jupyter-widgets/controls",
            "_model_module_version": "1.5.0",
            "_model_name": "DescriptionStyleModel",
            "_view_count": null,
            "_view_module": "@jupyter-widgets/base",
            "_view_module_version": "1.2.0",
            "_view_name": "StyleView",
            "description_width": ""
          }
        },
        "2af07eb9542847bf9ccfcd741eb9deda": {
          "model_module": "@jupyter-widgets/base",
          "model_name": "LayoutModel",
          "model_module_version": "1.2.0",
          "state": {
            "_model_module": "@jupyter-widgets/base",
            "_model_module_version": "1.2.0",
            "_model_name": "LayoutModel",
            "_view_count": null,
            "_view_module": "@jupyter-widgets/base",
            "_view_module_version": "1.2.0",
            "_view_name": "LayoutView",
            "align_content": null,
            "align_items": null,
            "align_self": null,
            "border": null,
            "bottom": null,
            "display": null,
            "flex": null,
            "flex_flow": null,
            "grid_area": null,
            "grid_auto_columns": null,
            "grid_auto_flow": null,
            "grid_auto_rows": null,
            "grid_column": null,
            "grid_gap": null,
            "grid_row": null,
            "grid_template_areas": null,
            "grid_template_columns": null,
            "grid_template_rows": null,
            "height": null,
            "justify_content": null,
            "justify_items": null,
            "left": null,
            "margin": null,
            "max_height": null,
            "max_width": null,
            "min_height": null,
            "min_width": null,
            "object_fit": null,
            "object_position": null,
            "order": null,
            "overflow": null,
            "overflow_x": null,
            "overflow_y": null,
            "padding": null,
            "right": null,
            "top": null,
            "visibility": null,
            "width": null
          }
        },
        "9a978ee99d31460a9ffa17c2d0e56b8f": {
          "model_module": "@jupyter-widgets/controls",
          "model_name": "ProgressStyleModel",
          "model_module_version": "1.5.0",
          "state": {
            "_model_module": "@jupyter-widgets/controls",
            "_model_module_version": "1.5.0",
            "_model_name": "ProgressStyleModel",
            "_view_count": null,
            "_view_module": "@jupyter-widgets/base",
            "_view_module_version": "1.2.0",
            "_view_name": "StyleView",
            "bar_color": null,
            "description_width": ""
          }
        },
        "35935c86b27141f194b59681a517f7fb": {
          "model_module": "@jupyter-widgets/base",
          "model_name": "LayoutModel",
          "model_module_version": "1.2.0",
          "state": {
            "_model_module": "@jupyter-widgets/base",
            "_model_module_version": "1.2.0",
            "_model_name": "LayoutModel",
            "_view_count": null,
            "_view_module": "@jupyter-widgets/base",
            "_view_module_version": "1.2.0",
            "_view_name": "LayoutView",
            "align_content": null,
            "align_items": null,
            "align_self": null,
            "border": null,
            "bottom": null,
            "display": null,
            "flex": null,
            "flex_flow": null,
            "grid_area": null,
            "grid_auto_columns": null,
            "grid_auto_flow": null,
            "grid_auto_rows": null,
            "grid_column": null,
            "grid_gap": null,
            "grid_row": null,
            "grid_template_areas": null,
            "grid_template_columns": null,
            "grid_template_rows": null,
            "height": null,
            "justify_content": null,
            "justify_items": null,
            "left": null,
            "margin": null,
            "max_height": null,
            "max_width": null,
            "min_height": null,
            "min_width": null,
            "object_fit": null,
            "object_position": null,
            "order": null,
            "overflow": null,
            "overflow_x": null,
            "overflow_y": null,
            "padding": null,
            "right": null,
            "top": null,
            "visibility": null,
            "width": null
          }
        },
        "f540793dbab94e2ab5defae0b023250b": {
          "model_module": "@jupyter-widgets/controls",
          "model_name": "DescriptionStyleModel",
          "model_module_version": "1.5.0",
          "state": {
            "_model_module": "@jupyter-widgets/controls",
            "_model_module_version": "1.5.0",
            "_model_name": "DescriptionStyleModel",
            "_view_count": null,
            "_view_module": "@jupyter-widgets/base",
            "_view_module_version": "1.2.0",
            "_view_name": "StyleView",
            "description_width": ""
          }
        },
        "091c7c97035c4c6cb011e2ef7f43dc0a": {
          "model_module": "@jupyter-widgets/controls",
          "model_name": "HBoxModel",
          "model_module_version": "1.5.0",
          "state": {
            "_dom_classes": [],
            "_model_module": "@jupyter-widgets/controls",
            "_model_module_version": "1.5.0",
            "_model_name": "HBoxModel",
            "_view_count": null,
            "_view_module": "@jupyter-widgets/controls",
            "_view_module_version": "1.5.0",
            "_view_name": "HBoxView",
            "box_style": "",
            "children": [
              "IPY_MODEL_3c267cf2de6a412f9a0c03d54516dbb1",
              "IPY_MODEL_5b34283a1e3d4e68bf7d9eb236c6c274",
              "IPY_MODEL_824813ca52de43ff9435df0c4dc7483d"
            ],
            "layout": "IPY_MODEL_f7fcf147f7d34d8581eefbe16f986db5"
          }
        },
        "3c267cf2de6a412f9a0c03d54516dbb1": {
          "model_module": "@jupyter-widgets/controls",
          "model_name": "HTMLModel",
          "model_module_version": "1.5.0",
          "state": {
            "_dom_classes": [],
            "_model_module": "@jupyter-widgets/controls",
            "_model_module_version": "1.5.0",
            "_model_name": "HTMLModel",
            "_view_count": null,
            "_view_module": "@jupyter-widgets/controls",
            "_view_module_version": "1.5.0",
            "_view_name": "HTMLView",
            "description": "",
            "description_tooltip": null,
            "layout": "IPY_MODEL_1de36cae28fe4df9b45fca9e01bae512",
            "placeholder": "​",
            "style": "IPY_MODEL_1a5dbbaa7aa541a281b3ce88157a0987",
            "value": "100%"
          }
        },
        "5b34283a1e3d4e68bf7d9eb236c6c274": {
          "model_module": "@jupyter-widgets/controls",
          "model_name": "FloatProgressModel",
          "model_module_version": "1.5.0",
          "state": {
            "_dom_classes": [],
            "_model_module": "@jupyter-widgets/controls",
            "_model_module_version": "1.5.0",
            "_model_name": "FloatProgressModel",
            "_view_count": null,
            "_view_module": "@jupyter-widgets/controls",
            "_view_module_version": "1.5.0",
            "_view_name": "ProgressView",
            "bar_style": "success",
            "description": "",
            "description_tooltip": null,
            "layout": "IPY_MODEL_9074b15c3a7d42f3b74e8231b85147d2",
            "max": 6,
            "min": 0,
            "orientation": "horizontal",
            "style": "IPY_MODEL_65d3eed5d32a4dcda449301b21e5633d",
            "value": 6
          }
        },
        "824813ca52de43ff9435df0c4dc7483d": {
          "model_module": "@jupyter-widgets/controls",
          "model_name": "HTMLModel",
          "model_module_version": "1.5.0",
          "state": {
            "_dom_classes": [],
            "_model_module": "@jupyter-widgets/controls",
            "_model_module_version": "1.5.0",
            "_model_name": "HTMLModel",
            "_view_count": null,
            "_view_module": "@jupyter-widgets/controls",
            "_view_module_version": "1.5.0",
            "_view_name": "HTMLView",
            "description": "",
            "description_tooltip": null,
            "layout": "IPY_MODEL_93ee989fdccc49a8b1481e52abfa5259",
            "placeholder": "​",
            "style": "IPY_MODEL_562fbea37a864a1696391de0906a8ef4",
            "value": " 6/6 [00:10&lt;00:00,  1.43s/ba]"
          }
        },
        "f7fcf147f7d34d8581eefbe16f986db5": {
          "model_module": "@jupyter-widgets/base",
          "model_name": "LayoutModel",
          "model_module_version": "1.2.0",
          "state": {
            "_model_module": "@jupyter-widgets/base",
            "_model_module_version": "1.2.0",
            "_model_name": "LayoutModel",
            "_view_count": null,
            "_view_module": "@jupyter-widgets/base",
            "_view_module_version": "1.2.0",
            "_view_name": "LayoutView",
            "align_content": null,
            "align_items": null,
            "align_self": null,
            "border": null,
            "bottom": null,
            "display": null,
            "flex": null,
            "flex_flow": null,
            "grid_area": null,
            "grid_auto_columns": null,
            "grid_auto_flow": null,
            "grid_auto_rows": null,
            "grid_column": null,
            "grid_gap": null,
            "grid_row": null,
            "grid_template_areas": null,
            "grid_template_columns": null,
            "grid_template_rows": null,
            "height": null,
            "justify_content": null,
            "justify_items": null,
            "left": null,
            "margin": null,
            "max_height": null,
            "max_width": null,
            "min_height": null,
            "min_width": null,
            "object_fit": null,
            "object_position": null,
            "order": null,
            "overflow": null,
            "overflow_x": null,
            "overflow_y": null,
            "padding": null,
            "right": null,
            "top": null,
            "visibility": null,
            "width": null
          }
        },
        "1de36cae28fe4df9b45fca9e01bae512": {
          "model_module": "@jupyter-widgets/base",
          "model_name": "LayoutModel",
          "model_module_version": "1.2.0",
          "state": {
            "_model_module": "@jupyter-widgets/base",
            "_model_module_version": "1.2.0",
            "_model_name": "LayoutModel",
            "_view_count": null,
            "_view_module": "@jupyter-widgets/base",
            "_view_module_version": "1.2.0",
            "_view_name": "LayoutView",
            "align_content": null,
            "align_items": null,
            "align_self": null,
            "border": null,
            "bottom": null,
            "display": null,
            "flex": null,
            "flex_flow": null,
            "grid_area": null,
            "grid_auto_columns": null,
            "grid_auto_flow": null,
            "grid_auto_rows": null,
            "grid_column": null,
            "grid_gap": null,
            "grid_row": null,
            "grid_template_areas": null,
            "grid_template_columns": null,
            "grid_template_rows": null,
            "height": null,
            "justify_content": null,
            "justify_items": null,
            "left": null,
            "margin": null,
            "max_height": null,
            "max_width": null,
            "min_height": null,
            "min_width": null,
            "object_fit": null,
            "object_position": null,
            "order": null,
            "overflow": null,
            "overflow_x": null,
            "overflow_y": null,
            "padding": null,
            "right": null,
            "top": null,
            "visibility": null,
            "width": null
          }
        },
        "1a5dbbaa7aa541a281b3ce88157a0987": {
          "model_module": "@jupyter-widgets/controls",
          "model_name": "DescriptionStyleModel",
          "model_module_version": "1.5.0",
          "state": {
            "_model_module": "@jupyter-widgets/controls",
            "_model_module_version": "1.5.0",
            "_model_name": "DescriptionStyleModel",
            "_view_count": null,
            "_view_module": "@jupyter-widgets/base",
            "_view_module_version": "1.2.0",
            "_view_name": "StyleView",
            "description_width": ""
          }
        },
        "9074b15c3a7d42f3b74e8231b85147d2": {
          "model_module": "@jupyter-widgets/base",
          "model_name": "LayoutModel",
          "model_module_version": "1.2.0",
          "state": {
            "_model_module": "@jupyter-widgets/base",
            "_model_module_version": "1.2.0",
            "_model_name": "LayoutModel",
            "_view_count": null,
            "_view_module": "@jupyter-widgets/base",
            "_view_module_version": "1.2.0",
            "_view_name": "LayoutView",
            "align_content": null,
            "align_items": null,
            "align_self": null,
            "border": null,
            "bottom": null,
            "display": null,
            "flex": null,
            "flex_flow": null,
            "grid_area": null,
            "grid_auto_columns": null,
            "grid_auto_flow": null,
            "grid_auto_rows": null,
            "grid_column": null,
            "grid_gap": null,
            "grid_row": null,
            "grid_template_areas": null,
            "grid_template_columns": null,
            "grid_template_rows": null,
            "height": null,
            "justify_content": null,
            "justify_items": null,
            "left": null,
            "margin": null,
            "max_height": null,
            "max_width": null,
            "min_height": null,
            "min_width": null,
            "object_fit": null,
            "object_position": null,
            "order": null,
            "overflow": null,
            "overflow_x": null,
            "overflow_y": null,
            "padding": null,
            "right": null,
            "top": null,
            "visibility": null,
            "width": null
          }
        },
        "65d3eed5d32a4dcda449301b21e5633d": {
          "model_module": "@jupyter-widgets/controls",
          "model_name": "ProgressStyleModel",
          "model_module_version": "1.5.0",
          "state": {
            "_model_module": "@jupyter-widgets/controls",
            "_model_module_version": "1.5.0",
            "_model_name": "ProgressStyleModel",
            "_view_count": null,
            "_view_module": "@jupyter-widgets/base",
            "_view_module_version": "1.2.0",
            "_view_name": "StyleView",
            "bar_color": null,
            "description_width": ""
          }
        },
        "93ee989fdccc49a8b1481e52abfa5259": {
          "model_module": "@jupyter-widgets/base",
          "model_name": "LayoutModel",
          "model_module_version": "1.2.0",
          "state": {
            "_model_module": "@jupyter-widgets/base",
            "_model_module_version": "1.2.0",
            "_model_name": "LayoutModel",
            "_view_count": null,
            "_view_module": "@jupyter-widgets/base",
            "_view_module_version": "1.2.0",
            "_view_name": "LayoutView",
            "align_content": null,
            "align_items": null,
            "align_self": null,
            "border": null,
            "bottom": null,
            "display": null,
            "flex": null,
            "flex_flow": null,
            "grid_area": null,
            "grid_auto_columns": null,
            "grid_auto_flow": null,
            "grid_auto_rows": null,
            "grid_column": null,
            "grid_gap": null,
            "grid_row": null,
            "grid_template_areas": null,
            "grid_template_columns": null,
            "grid_template_rows": null,
            "height": null,
            "justify_content": null,
            "justify_items": null,
            "left": null,
            "margin": null,
            "max_height": null,
            "max_width": null,
            "min_height": null,
            "min_width": null,
            "object_fit": null,
            "object_position": null,
            "order": null,
            "overflow": null,
            "overflow_x": null,
            "overflow_y": null,
            "padding": null,
            "right": null,
            "top": null,
            "visibility": null,
            "width": null
          }
        },
        "562fbea37a864a1696391de0906a8ef4": {
          "model_module": "@jupyter-widgets/controls",
          "model_name": "DescriptionStyleModel",
          "model_module_version": "1.5.0",
          "state": {
            "_model_module": "@jupyter-widgets/controls",
            "_model_module_version": "1.5.0",
            "_model_name": "DescriptionStyleModel",
            "_view_count": null,
            "_view_module": "@jupyter-widgets/base",
            "_view_module_version": "1.2.0",
            "_view_name": "StyleView",
            "description_width": ""
          }
        },
        "8169c7dffc114c2f899c5c5e1a114ea1": {
          "model_module": "@jupyter-widgets/controls",
          "model_name": "HBoxModel",
          "model_module_version": "1.5.0",
          "state": {
            "_dom_classes": [],
            "_model_module": "@jupyter-widgets/controls",
            "_model_module_version": "1.5.0",
            "_model_name": "HBoxModel",
            "_view_count": null,
            "_view_module": "@jupyter-widgets/controls",
            "_view_module_version": "1.5.0",
            "_view_name": "HBoxView",
            "box_style": "",
            "children": [
              "IPY_MODEL_6e4769be0b8f457a9b48df224ef83b29",
              "IPY_MODEL_db9b859b4986424aa01a62ba8155f3c9",
              "IPY_MODEL_2a0746685fba464384aa923a5a2bec83"
            ],
            "layout": "IPY_MODEL_2f438d6803cc4fcba77d1366102f8868"
          }
        },
        "6e4769be0b8f457a9b48df224ef83b29": {
          "model_module": "@jupyter-widgets/controls",
          "model_name": "HTMLModel",
          "model_module_version": "1.5.0",
          "state": {
            "_dom_classes": [],
            "_model_module": "@jupyter-widgets/controls",
            "_model_module_version": "1.5.0",
            "_model_name": "HTMLModel",
            "_view_count": null,
            "_view_module": "@jupyter-widgets/controls",
            "_view_module_version": "1.5.0",
            "_view_name": "HTMLView",
            "description": "",
            "description_tooltip": null,
            "layout": "IPY_MODEL_5d9f78ec55b3474e9c0c6202e25b4633",
            "placeholder": "​",
            "style": "IPY_MODEL_70bc373f7b5e4078bf9fd5d5370374a2",
            "value": "  0%"
          }
        },
        "db9b859b4986424aa01a62ba8155f3c9": {
          "model_module": "@jupyter-widgets/controls",
          "model_name": "FloatProgressModel",
          "model_module_version": "1.5.0",
          "state": {
            "_dom_classes": [],
            "_model_module": "@jupyter-widgets/controls",
            "_model_module_version": "1.5.0",
            "_model_name": "FloatProgressModel",
            "_view_count": null,
            "_view_module": "@jupyter-widgets/controls",
            "_view_module_version": "1.5.0",
            "_view_name": "ProgressView",
            "bar_style": "danger",
            "description": "",
            "description_tooltip": null,
            "layout": "IPY_MODEL_db671e4717924991a9b878d36ccf4ad8",
            "max": 2713,
            "min": 0,
            "orientation": "horizontal",
            "style": "IPY_MODEL_66572e55f0214ecba9595140e188b14c",
            "value": 5
          }
        },
        "2a0746685fba464384aa923a5a2bec83": {
          "model_module": "@jupyter-widgets/controls",
          "model_name": "HTMLModel",
          "model_module_version": "1.5.0",
          "state": {
            "_dom_classes": [],
            "_model_module": "@jupyter-widgets/controls",
            "_model_module_version": "1.5.0",
            "_model_name": "HTMLModel",
            "_view_count": null,
            "_view_module": "@jupyter-widgets/controls",
            "_view_module_version": "1.5.0",
            "_view_name": "HTMLView",
            "description": "",
            "description_tooltip": null,
            "layout": "IPY_MODEL_19ee70521ca34921ae5e7093e9e16c06",
            "placeholder": "​",
            "style": "IPY_MODEL_12313574e5874232a1c300df03ea1079",
            "value": " 5/2713 [02:05&lt;2:54:12,  3.86s/it]"
          }
        },
        "2f438d6803cc4fcba77d1366102f8868": {
          "model_module": "@jupyter-widgets/base",
          "model_name": "LayoutModel",
          "model_module_version": "1.2.0",
          "state": {
            "_model_module": "@jupyter-widgets/base",
            "_model_module_version": "1.2.0",
            "_model_name": "LayoutModel",
            "_view_count": null,
            "_view_module": "@jupyter-widgets/base",
            "_view_module_version": "1.2.0",
            "_view_name": "LayoutView",
            "align_content": null,
            "align_items": null,
            "align_self": null,
            "border": null,
            "bottom": null,
            "display": null,
            "flex": null,
            "flex_flow": null,
            "grid_area": null,
            "grid_auto_columns": null,
            "grid_auto_flow": null,
            "grid_auto_rows": null,
            "grid_column": null,
            "grid_gap": null,
            "grid_row": null,
            "grid_template_areas": null,
            "grid_template_columns": null,
            "grid_template_rows": null,
            "height": null,
            "justify_content": null,
            "justify_items": null,
            "left": null,
            "margin": null,
            "max_height": null,
            "max_width": null,
            "min_height": null,
            "min_width": null,
            "object_fit": null,
            "object_position": null,
            "order": null,
            "overflow": null,
            "overflow_x": null,
            "overflow_y": null,
            "padding": null,
            "right": null,
            "top": null,
            "visibility": null,
            "width": null
          }
        },
        "5d9f78ec55b3474e9c0c6202e25b4633": {
          "model_module": "@jupyter-widgets/base",
          "model_name": "LayoutModel",
          "model_module_version": "1.2.0",
          "state": {
            "_model_module": "@jupyter-widgets/base",
            "_model_module_version": "1.2.0",
            "_model_name": "LayoutModel",
            "_view_count": null,
            "_view_module": "@jupyter-widgets/base",
            "_view_module_version": "1.2.0",
            "_view_name": "LayoutView",
            "align_content": null,
            "align_items": null,
            "align_self": null,
            "border": null,
            "bottom": null,
            "display": null,
            "flex": null,
            "flex_flow": null,
            "grid_area": null,
            "grid_auto_columns": null,
            "grid_auto_flow": null,
            "grid_auto_rows": null,
            "grid_column": null,
            "grid_gap": null,
            "grid_row": null,
            "grid_template_areas": null,
            "grid_template_columns": null,
            "grid_template_rows": null,
            "height": null,
            "justify_content": null,
            "justify_items": null,
            "left": null,
            "margin": null,
            "max_height": null,
            "max_width": null,
            "min_height": null,
            "min_width": null,
            "object_fit": null,
            "object_position": null,
            "order": null,
            "overflow": null,
            "overflow_x": null,
            "overflow_y": null,
            "padding": null,
            "right": null,
            "top": null,
            "visibility": null,
            "width": null
          }
        },
        "70bc373f7b5e4078bf9fd5d5370374a2": {
          "model_module": "@jupyter-widgets/controls",
          "model_name": "DescriptionStyleModel",
          "model_module_version": "1.5.0",
          "state": {
            "_model_module": "@jupyter-widgets/controls",
            "_model_module_version": "1.5.0",
            "_model_name": "DescriptionStyleModel",
            "_view_count": null,
            "_view_module": "@jupyter-widgets/base",
            "_view_module_version": "1.2.0",
            "_view_name": "StyleView",
            "description_width": ""
          }
        },
        "db671e4717924991a9b878d36ccf4ad8": {
          "model_module": "@jupyter-widgets/base",
          "model_name": "LayoutModel",
          "model_module_version": "1.2.0",
          "state": {
            "_model_module": "@jupyter-widgets/base",
            "_model_module_version": "1.2.0",
            "_model_name": "LayoutModel",
            "_view_count": null,
            "_view_module": "@jupyter-widgets/base",
            "_view_module_version": "1.2.0",
            "_view_name": "LayoutView",
            "align_content": null,
            "align_items": null,
            "align_self": null,
            "border": null,
            "bottom": null,
            "display": null,
            "flex": null,
            "flex_flow": null,
            "grid_area": null,
            "grid_auto_columns": null,
            "grid_auto_flow": null,
            "grid_auto_rows": null,
            "grid_column": null,
            "grid_gap": null,
            "grid_row": null,
            "grid_template_areas": null,
            "grid_template_columns": null,
            "grid_template_rows": null,
            "height": null,
            "justify_content": null,
            "justify_items": null,
            "left": null,
            "margin": null,
            "max_height": null,
            "max_width": null,
            "min_height": null,
            "min_width": null,
            "object_fit": null,
            "object_position": null,
            "order": null,
            "overflow": null,
            "overflow_x": null,
            "overflow_y": null,
            "padding": null,
            "right": null,
            "top": null,
            "visibility": null,
            "width": null
          }
        },
        "66572e55f0214ecba9595140e188b14c": {
          "model_module": "@jupyter-widgets/controls",
          "model_name": "ProgressStyleModel",
          "model_module_version": "1.5.0",
          "state": {
            "_model_module": "@jupyter-widgets/controls",
            "_model_module_version": "1.5.0",
            "_model_name": "ProgressStyleModel",
            "_view_count": null,
            "_view_module": "@jupyter-widgets/base",
            "_view_module_version": "1.2.0",
            "_view_name": "StyleView",
            "bar_color": null,
            "description_width": ""
          }
        },
        "19ee70521ca34921ae5e7093e9e16c06": {
          "model_module": "@jupyter-widgets/base",
          "model_name": "LayoutModel",
          "model_module_version": "1.2.0",
          "state": {
            "_model_module": "@jupyter-widgets/base",
            "_model_module_version": "1.2.0",
            "_model_name": "LayoutModel",
            "_view_count": null,
            "_view_module": "@jupyter-widgets/base",
            "_view_module_version": "1.2.0",
            "_view_name": "LayoutView",
            "align_content": null,
            "align_items": null,
            "align_self": null,
            "border": null,
            "bottom": null,
            "display": null,
            "flex": null,
            "flex_flow": null,
            "grid_area": null,
            "grid_auto_columns": null,
            "grid_auto_flow": null,
            "grid_auto_rows": null,
            "grid_column": null,
            "grid_gap": null,
            "grid_row": null,
            "grid_template_areas": null,
            "grid_template_columns": null,
            "grid_template_rows": null,
            "height": null,
            "justify_content": null,
            "justify_items": null,
            "left": null,
            "margin": null,
            "max_height": null,
            "max_width": null,
            "min_height": null,
            "min_width": null,
            "object_fit": null,
            "object_position": null,
            "order": null,
            "overflow": null,
            "overflow_x": null,
            "overflow_y": null,
            "padding": null,
            "right": null,
            "top": null,
            "visibility": null,
            "width": null
          }
        },
        "12313574e5874232a1c300df03ea1079": {
          "model_module": "@jupyter-widgets/controls",
          "model_name": "DescriptionStyleModel",
          "model_module_version": "1.5.0",
          "state": {
            "_model_module": "@jupyter-widgets/controls",
            "_model_module_version": "1.5.0",
            "_model_name": "DescriptionStyleModel",
            "_view_count": null,
            "_view_module": "@jupyter-widgets/base",
            "_view_module_version": "1.2.0",
            "_view_name": "StyleView",
            "description_width": ""
          }
        }
      }
    }
  },
  "cells": [
    {
      "cell_type": "code",
      "execution_count": null,
      "metadata": {
        "colab": {
          "base_uri": "https://localhost:8080/"
        },
        "id": "2lFURuhQoU6I",
        "outputId": "2878f14a-1a4d-49f7-87f9-d09444785ef3"
      },
      "outputs": [
        {
          "output_type": "stream",
          "name": "stdout",
          "text": [
            "Sun May 15 17:22:00 2022       \n",
            "+-----------------------------------------------------------------------------+\n",
            "| NVIDIA-SMI 460.32.03    Driver Version: 460.32.03    CUDA Version: 11.2     |\n",
            "|-------------------------------+----------------------+----------------------+\n",
            "| GPU  Name        Persistence-M| Bus-Id        Disp.A | Volatile Uncorr. ECC |\n",
            "| Fan  Temp  Perf  Pwr:Usage/Cap|         Memory-Usage | GPU-Util  Compute M. |\n",
            "|                               |                      |               MIG M. |\n",
            "|===============================+======================+======================|\n",
            "|   0  Tesla P100-PCIE...  Off  | 00000000:00:04.0 Off |                    0 |\n",
            "| N/A   47C    P0    28W / 250W |      0MiB / 16280MiB |      0%      Default |\n",
            "|                               |                      |                  N/A |\n",
            "+-------------------------------+----------------------+----------------------+\n",
            "                                                                               \n",
            "+-----------------------------------------------------------------------------+\n",
            "| Processes:                                                                  |\n",
            "|  GPU   GI   CI        PID   Type   Process name                  GPU Memory |\n",
            "|        ID   ID                                                   Usage      |\n",
            "|=============================================================================|\n",
            "|  No running processes found                                                 |\n",
            "+-----------------------------------------------------------------------------+\n"
          ]
        }
      ],
      "source": [
        "!nvidia-smi"
      ]
    },
    {
      "cell_type": "code",
      "source": [
        "!pip install transformers datasets rouge_score sentencepiece"
      ],
      "metadata": {
        "colab": {
          "base_uri": "https://localhost:8080/"
        },
        "id": "0HF4QDN8279c",
        "outputId": "1cbf1f5e-febe-4747-8a28-a392976dfbdd"
      },
      "execution_count": null,
      "outputs": [
        {
          "output_type": "stream",
          "name": "stdout",
          "text": [
            "Requirement already satisfied: transformers in /usr/local/lib/python3.7/dist-packages (4.19.1)\n",
            "Requirement already satisfied: datasets in /usr/local/lib/python3.7/dist-packages (2.2.1)\n",
            "Requirement already satisfied: rouge_score in /usr/local/lib/python3.7/dist-packages (0.0.4)\n",
            "Requirement already satisfied: sentencepiece in /usr/local/lib/python3.7/dist-packages (0.1.96)\n",
            "Requirement already satisfied: huggingface-hub<1.0,>=0.1.0 in /usr/local/lib/python3.7/dist-packages (from transformers) (0.6.0)\n",
            "Requirement already satisfied: regex!=2019.12.17 in /usr/local/lib/python3.7/dist-packages (from transformers) (2019.12.20)\n",
            "Requirement already satisfied: filelock in /usr/local/lib/python3.7/dist-packages (from transformers) (3.6.0)\n",
            "Requirement already satisfied: requests in /usr/local/lib/python3.7/dist-packages (from transformers) (2.23.0)\n",
            "Requirement already satisfied: tokenizers!=0.11.3,<0.13,>=0.11.1 in /usr/local/lib/python3.7/dist-packages (from transformers) (0.12.1)\n",
            "Requirement already satisfied: packaging>=20.0 in /usr/local/lib/python3.7/dist-packages (from transformers) (21.3)\n",
            "Requirement already satisfied: importlib-metadata in /usr/local/lib/python3.7/dist-packages (from transformers) (4.11.3)\n",
            "Requirement already satisfied: tqdm>=4.27 in /usr/local/lib/python3.7/dist-packages (from transformers) (4.64.0)\n",
            "Requirement already satisfied: numpy>=1.17 in /usr/local/lib/python3.7/dist-packages (from transformers) (1.21.6)\n",
            "Requirement already satisfied: pyyaml>=5.1 in /usr/local/lib/python3.7/dist-packages (from transformers) (6.0)\n",
            "Requirement already satisfied: typing-extensions>=3.7.4.3 in /usr/local/lib/python3.7/dist-packages (from huggingface-hub<1.0,>=0.1.0->transformers) (4.2.0)\n",
            "Requirement already satisfied: pyparsing!=3.0.5,>=2.0.2 in /usr/local/lib/python3.7/dist-packages (from packaging>=20.0->transformers) (3.0.8)\n",
            "Requirement already satisfied: pandas in /usr/local/lib/python3.7/dist-packages (from datasets) (1.3.5)\n",
            "Requirement already satisfied: pyarrow>=6.0.0 in /usr/local/lib/python3.7/dist-packages (from datasets) (6.0.1)\n",
            "Requirement already satisfied: multiprocess in /usr/local/lib/python3.7/dist-packages (from datasets) (0.70.12.2)\n",
            "Requirement already satisfied: fsspec[http]>=2021.05.0 in /usr/local/lib/python3.7/dist-packages (from datasets) (2022.3.0)\n",
            "Requirement already satisfied: xxhash in /usr/local/lib/python3.7/dist-packages (from datasets) (3.0.0)\n",
            "Requirement already satisfied: dill in /usr/local/lib/python3.7/dist-packages (from datasets) (0.3.4)\n",
            "Requirement already satisfied: responses<0.19 in /usr/local/lib/python3.7/dist-packages (from datasets) (0.18.0)\n",
            "Requirement already satisfied: aiohttp in /usr/local/lib/python3.7/dist-packages (from datasets) (3.8.1)\n",
            "Requirement already satisfied: idna<3,>=2.5 in /usr/local/lib/python3.7/dist-packages (from requests->transformers) (2.10)\n",
            "Requirement already satisfied: urllib3!=1.25.0,!=1.25.1,<1.26,>=1.21.1 in /usr/local/lib/python3.7/dist-packages (from requests->transformers) (1.25.11)\n",
            "Requirement already satisfied: chardet<4,>=3.0.2 in /usr/local/lib/python3.7/dist-packages (from requests->transformers) (3.0.4)\n",
            "Requirement already satisfied: certifi>=2017.4.17 in /usr/local/lib/python3.7/dist-packages (from requests->transformers) (2021.10.8)\n",
            "Requirement already satisfied: nltk in /usr/local/lib/python3.7/dist-packages (from rouge_score) (3.2.5)\n",
            "Requirement already satisfied: six>=1.14.0 in /usr/local/lib/python3.7/dist-packages (from rouge_score) (1.15.0)\n",
            "Requirement already satisfied: absl-py in /usr/local/lib/python3.7/dist-packages (from rouge_score) (1.0.0)\n",
            "Requirement already satisfied: async-timeout<5.0,>=4.0.0a3 in /usr/local/lib/python3.7/dist-packages (from aiohttp->datasets) (4.0.2)\n",
            "Requirement already satisfied: multidict<7.0,>=4.5 in /usr/local/lib/python3.7/dist-packages (from aiohttp->datasets) (6.0.2)\n",
            "Requirement already satisfied: asynctest==0.13.0 in /usr/local/lib/python3.7/dist-packages (from aiohttp->datasets) (0.13.0)\n",
            "Requirement already satisfied: aiosignal>=1.1.2 in /usr/local/lib/python3.7/dist-packages (from aiohttp->datasets) (1.2.0)\n",
            "Requirement already satisfied: attrs>=17.3.0 in /usr/local/lib/python3.7/dist-packages (from aiohttp->datasets) (21.4.0)\n",
            "Requirement already satisfied: yarl<2.0,>=1.0 in /usr/local/lib/python3.7/dist-packages (from aiohttp->datasets) (1.7.2)\n",
            "Requirement already satisfied: charset-normalizer<3.0,>=2.0 in /usr/local/lib/python3.7/dist-packages (from aiohttp->datasets) (2.0.12)\n",
            "Requirement already satisfied: frozenlist>=1.1.1 in /usr/local/lib/python3.7/dist-packages (from aiohttp->datasets) (1.3.0)\n",
            "Requirement already satisfied: zipp>=0.5 in /usr/local/lib/python3.7/dist-packages (from importlib-metadata->transformers) (3.8.0)\n",
            "Requirement already satisfied: python-dateutil>=2.7.3 in /usr/local/lib/python3.7/dist-packages (from pandas->datasets) (2.8.2)\n",
            "Requirement already satisfied: pytz>=2017.3 in /usr/local/lib/python3.7/dist-packages (from pandas->datasets) (2022.1)\n"
          ]
        }
      ]
    },
    {
      "cell_type": "code",
      "source": [
        "from google.colab import drive\n",
        "drive.mount('/content/drive')"
      ],
      "metadata": {
        "colab": {
          "base_uri": "https://localhost:8080/"
        },
        "id": "n3qOdcrW3TbQ",
        "outputId": "f8c39e15-a119-4b86-b5cb-575260fc3771"
      },
      "execution_count": null,
      "outputs": [
        {
          "output_type": "stream",
          "name": "stdout",
          "text": [
            "Drive already mounted at /content/drive; to attempt to forcibly remount, call drive.mount(\"/content/drive\", force_remount=True).\n"
          ]
        }
      ]
    },
    {
      "cell_type": "code",
      "source": [
        "import numpy as np\n",
        "import pandas as pd\n",
        "from datasets import load_dataset\n",
        "from tqdm.notebook import tqdm\n",
        "import tensorflow as tf\n",
        "physical_devices = tf.config.experimental.list_physical_devices('GPU')\n",
        "if len(physical_devices) > 0:\n",
        "    tf.config.experimental.set_memory_growth(physical_devices[0], True)"
      ],
      "metadata": {
        "id": "SbmbwU962jgw"
      },
      "execution_count": null,
      "outputs": []
    },
    {
      "cell_type": "code",
      "source": [
        "root = \"/content/drive/MyDrive/dataset/ADL2022/HW3/\""
      ],
      "metadata": {
        "id": "eO3r7O8L2qB6"
      },
      "execution_count": null,
      "outputs": []
    },
    {
      "cell_type": "code",
      "source": [
        "data_files = {\"train\": root+\"data/train.jsonl\",\n",
        "              \"test\": root+\"data/public.jsonl\"}\n",
        "dataset = load_dataset(\"json\", data_files=data_files)"
      ],
      "metadata": {
        "colab": {
          "base_uri": "https://localhost:8080/",
          "height": 105,
          "referenced_widgets": [
            "c27be8bacedd4133b13621c670609550",
            "dff6ccb24ce342bb89a7d142bccbc1cf",
            "79ccb567c35d4ee0aff141c5bcf62d5e",
            "9554840265914a849830b5e875f089c2",
            "8a237370fdb04958a8b972f219fd3e97",
            "de18bb7d2507480ea54cc33140ecbbc5",
            "44efb14a3a0f4c70bedf63e8638945b8",
            "2af07eb9542847bf9ccfcd741eb9deda",
            "9a978ee99d31460a9ffa17c2d0e56b8f",
            "35935c86b27141f194b59681a517f7fb",
            "f540793dbab94e2ab5defae0b023250b"
          ]
        },
        "id": "zqdKvDoW3tMQ",
        "outputId": "3c1329a1-1ed9-4c08-c987-eee8090fe722"
      },
      "execution_count": null,
      "outputs": [
        {
          "output_type": "stream",
          "name": "stderr",
          "text": [
            "Using custom data configuration default-aa920f60a05dd52d\n",
            "Reusing dataset json (/root/.cache/huggingface/datasets/json/default-aa920f60a05dd52d/0.0.0/ac0ca5f5289a6cf108e706efcf040422dbbfa8e658dee6a819f20d76bb84d26b)\n"
          ]
        },
        {
          "output_type": "display_data",
          "data": {
            "text/plain": [
              "  0%|          | 0/2 [00:00<?, ?it/s]"
            ],
            "application/vnd.jupyter.widget-view+json": {
              "version_major": 2,
              "version_minor": 0,
              "model_id": "c27be8bacedd4133b13621c670609550"
            }
          },
          "metadata": {}
        }
      ]
    },
    {
      "cell_type": "code",
      "source": [
        "dataset"
      ],
      "metadata": {
        "colab": {
          "base_uri": "https://localhost:8080/"
        },
        "id": "MNh8uuP_44wX",
        "outputId": "009866cf-79ff-4f89-8be3-180df0238e25"
      },
      "execution_count": null,
      "outputs": [
        {
          "output_type": "execute_result",
          "data": {
            "text/plain": [
              "DatasetDict({\n",
              "    train: Dataset({\n",
              "        features: ['date_publish', 'title', 'source_domain', 'maintext', 'split', 'id'],\n",
              "        num_rows: 21710\n",
              "    })\n",
              "    test: Dataset({\n",
              "        features: ['date_publish', 'title', 'source_domain', 'maintext', 'split', 'id'],\n",
              "        num_rows: 5494\n",
              "    })\n",
              "})"
            ]
          },
          "metadata": {},
          "execution_count": 8
        }
      ]
    },
    {
      "cell_type": "code",
      "source": [
        "def show_samples(dataset, num_samples=3, seed=42):\n",
        "    sample = dataset[\"train\"].shuffle(seed=seed).select(range(num_samples))\n",
        "    for example in sample:\n",
        "        print(f\"\\n'>> text: {example['maintext']}'\")\n",
        "        print(f\"'>> summary: {example['title']}'\")\n",
        "\n",
        "\n",
        "show_samples(dataset)"
      ],
      "metadata": {
        "colab": {
          "base_uri": "https://localhost:8080/"
        },
        "id": "IKgnPiFT5RMw",
        "outputId": "a029558a-4f88-40fe-e02e-5f4cfca3419d"
      },
      "execution_count": null,
      "outputs": [
        {
          "output_type": "stream",
          "name": "stderr",
          "text": [
            "Loading cached shuffled indices for dataset at /root/.cache/huggingface/datasets/json/default-aa920f60a05dd52d/0.0.0/ac0ca5f5289a6cf108e706efcf040422dbbfa8e658dee6a819f20d76bb84d26b/cache-dccff5f6408a15e6.arrow\n"
          ]
        },
        {
          "output_type": "stream",
          "name": "stdout",
          "text": [
            "\n",
            "'>> text: 【圖／文：行遍天下．空拍圖片由讀者提供】\n",
            "每到東海岸，耳裡總是哼唱著胡德夫《太平洋的風》，彷彿太平洋的風真的就會徐徐吹來、就會吹過臉頰，與最親愛的閨蜜相約一起，走一趟吹吹風的小旅行。\n",
            "遇見最迷你部落的感動瞬間\n",
            "車行東海岸，總忍不住想搖下車窗吹風，悠悠晃晃穿梭山海之間，來到花蓮最南端的豐濱鄉，首先印入眼簾的是「高山森林基地」。\n",
            "在高山森林基地的獵人導引之下，終於跟閨蜜登上勇氣石。\n",
            "「高山」是部落的名字，祖先翻山越嶺從高海拔遷徙到海邊，是全台灣唯一一支靠海的布農族，也是全台最迷你的部落。陽光穿透基地正中央大樹，射出彷彿耶穌光的光芒，部落青年小馬馬中原就在大樹光束、炊煙裊裊中吟唱起部落的歌曲。他們為體驗者吟唱祝福的部落歌曲、說部落遷移的故事；接著在小馬帶領下，體驗攀樹「找老鷹」用鷹的視野俯瞰部落；或感受「找獵人」進入森林獵場，登上高點勇氣石，眺望綿延的綠林和海洋。聽文化的故事也了解大自然傳達給人類的訊息。\n",
            "找老鷹的體驗，可以感受與自然相親感。\n",
            "延續著海岸線，不遠處豐富部落的「海岸咖啡莊園」同樣也迷人，以部落共好為前提，頭目許永哲以友善農法栽種咖啡，揉合出一種帶著太平洋風微鹹滋味的咖啡。跟著族人往山裡走在半山腰的咖啡林間一起手烘咖啡，搖晃間仔細聆聽咖啡第一爆出淺焙的訊息，餐點當然就要吃部落媽媽親手做的產地料理，聽自在的吟唱聲，感受最純粹的食物原味。\n",
            "海岸咖啡莊園的手烘咖啡體驗，感動於手烘的真實感。\n",
            "有意義的旅行挑戰\n",
            "吃一次地產地銷食物\n",
            "這趟旅行的意義，在於地產地銷的食物選擇，高山森林基地與海岸咖啡莊園的餐廳都提供了來自部落、村落的農產品，把食物運送里程降到最低，只選當季、當地食材，也是一種愛地球的旅行方式！\n",
            "去吹太平洋的風\n",
            "海岸咖啡莊園\n",
            "地址：花蓮縣豐濱鄉豐富部落122號\n",
            "電話：0936-302-719\n",
            "網址：costal-coffee.com\n",
            "價位：敬請預約豐富部落咖啡莊園半日遊1人1,880元（10人成行，含部落導覽、午或晚餐、烘豆體驗，需2週前預約）\n",
            "高山森林基地\n",
            "地址：花蓮縣豐濱鄉磯崎村高山一鄰2號（往山上）\n",
            "電話：0933-991-926（敬請預約）\n",
            "網址：www.gs-forest.com\n",
            "價位：找獵人體驗1人1,480元（10-20人成行，約半日時間，含講解、射箭文化體驗、獵人餐）、找老鷹體驗1人1,480元（10-20人成行，約半日時間，含講解認識基地大樹、森林攀樹、獵人餐）'\n",
            "'>> summary: 花蓮最迷你部落！穿梭山海間 體驗攀樹找老鷹'\n",
            "\n",
            "'>> text: 天氣好熱，避暑三大法寶「太陽眼鏡、寬邊帽及陽傘」，現在可以再加一樣，那就是防疫酒精。三軍總醫院中暑防治中心主任朱柏齡經常實測，他發現，在皮膚噴水或防疫酒精，也是降溫的好方法。\n",
            "這是朱柏齡在今年六月底的新發現，他在體感溫度38度的上午九時跑步，跑40分鐘體溫直逼38.6度，躲到陰涼處用防疫酒精噴頸部、腹部與四肢，利用對流原理加速散熱，短短10分鐘體溫就回到37.6度，比自然降溫快半小時。他表示，透過蒸發、對流法幫助身體降溫，多點喝水也有降溫效果。\n",
            "預防熱傷害，朱柏齡及台北醫學大學急診醫學科教授高偉峰都認為，「多喝白開水」最重要。朱柏齡提醒，千萬不能等到口渴再喝，建議跑步時，每15至20分、走路時每30分鐘，就應補充250至300毫升的水分。\n",
            "另外，最近日日動輒攝氏35度以上高溫，七月一日到十日，短短十天，熱傷害至急診就診人次創四年新高，男性就診人次是女性的2.65倍。女生怕曬黑，夏季防曬全副武裝，男生不怕曬黑，卻可能因此忽略防止熱傷害的重要性，朱柏齡鼓勵男性撐傘避暑，別擔心撐傘有損男子氣概，暗色傘遮陽有型又能防中暑。\n",
            "大熱天不想中暑，也要選對外出時間。朱柏齡建議，減少上午十點至下午四點在外逗留，若必須白天外出，可準備避暑三大法寶「太陽眼鏡、寬邊帽及陽傘」。朱柏齡尤其推薦撐傘，可降體感溫度5度，他近日嘗試撐傘在大太陽下走路，同樣走半小時，感覺涼快多了。\n",
            "不少男性擔心撐傘遮陽，會被投以異樣眼光，朱柏齡說，如果不敢拿亮色的傘，「其實暗色傘遮陽效果更好」。朱柏齡曾親自測試，撐著塗有銀色面料的黑傘，才短短兩分多鐘，四周溫度瞬降5.5℃，他推測，可能是全黑的傘隔絕紫外線的量最多，淡色傘隔絕紫外線的量反而較少。\n",
            "許多以為撐陽傘是女性專利，但朱柏齡認為，「傘只是一種工具，並沒有性別區分。」日本兩年前因應極端氣候，政府已著手推行男性撐傘運動，希望政府跟進，推動夏天男性撐傘運動。\n",
            "另外，穿著寬鬆及透氣的衣服也有助於散熱，人體內的熱能是通過輻射、傳導、對流和蒸發向外擴散，寬鬆的衣服可以形成對流，將人體部分熱能帶走消散。\n",
            "除了在大太陽下過度運動，室內也可能發生熱傷害。室內因空氣不流動，環境溫度不斷升高，或在室內忘記喝水，都是導致室內熱傷害發生的原因，尤其老人和兒童對溫度調節能力相對比較差，更是高風險族群。\n",
            "高偉峰表示，家住頂樓或僅一層樓的平房，容易在太陽直射下產生溫室效應；下雨前濕度高，也容易使散熱速度降低，此時保持空氣對流，是最好的解決方法。若在室內想省電費不開冷氣，也應該保持室內良好通風，避免悶熱。\n",
            "熱傷害徵兆包括體溫升高、皮膚乾熱變紅、心跳加速，甚至無法流汗、頭痛、嘔吐抽筋、昏迷等，高偉峰提醒，此時務必迅速離開高溫環境、設法降低體溫，如鬆脫衣物、用水擦拭身體或搧風等，也可喝加上少許鹽的冷開水或稀釋的電解質飲料，並以最快速度就醫。\n",
            "預防熱傷害五招：\n",
            "1.上午十時至下午四時別在戶外太久\n",
            "2.撐暗色傘\n",
            "3.戴帽，最好是寬邊帽\n",
            "4.噴水或防疫酒精在皮膚\n",
            "5.跑步時每15至20分鐘、走路時每30分鐘，喝水250至300 cc'\n",
            "'>> summary: 酒精不只防疫還能降溫防中暑 醫師5招預防熱傷害'\n",
            "\n",
            "'>> text: 上週，台灣投資人迎來強強滾的一週，台股站上1萬1900點、週線連三紅。昨（6）一開盤仍舊氣勢如虹、漲破200點，重新站上久違的1萬2000點行情，收在1萬2116.70點。而新台幣買盤也強勢、上週就攻破「楊金龍防線」，持續測試一美元兌新台幣29.4元新防線。究竟「股匯雙漲」的好行情，還會「牛」多久？\n",
            "台股延續上星期多頭走勢，6日開高走高，盤中突破1萬2000點、漲約207點，收在1萬2116.70點。睽違五個多月的「萬二」（1萬2000點）行情回來了。\n",
            "這波攻勢延續自上週五，當天台股強強滾，一口氣大漲百點。指數站上1萬1900點，來到五個多月來新高，週線連三紅。若從今年3月19日、全球疫情最嚴峻的時刻算起，當時台股指數探至8681低點，至今漲幅已破四成。\n",
            "這波多頭，本週還能延續嗎？法人答案偏多。原因在於，台股本週進入「超級財報週」，包括今日手機晶片大廠聯發科除息，每股配息10.5元，6日股價以587元開出，幾乎一秒填息，收在589元。\n",
            "其他指標股還包括股王大立光，即將在週四（7／9）舉辦線上法說，分析師推估大立光的Q3展望、蘋果新機拉貨動能將是觀察指標，有機會將台股推向1萬2682的歷史高點。\n",
            "台股行情重新站上1萬2000點，明年行情上看2萬點？\n",
            "台股距離歷史高點只差一步之遙。問題是，這一步要走多久？其實，今年元月3日，台股就來到1萬2197點的波段新高，眼見只差485點就攻上歷史高點，沒想到新冠疫情來搗蛋，一度在3月中旬摔破9000點、慘跌至8681點。\n",
            "然而，在法人眼裡，台股一直是資優生。\n",
            "「台股有三大優勢，拉回即買點，明年上看2萬點都可能！」投信投顧公會理事長、國泰投信董事長張錫在3日指出，台股具有三大優勢：基本面好、殖利率高，且匯率強勢。基本面主要是因為台灣防疫佳，是少數國家中仍有機會在今年維持正成長者，且產業發展緊跟5G、AI等趨勢，預計今年蘋果5G新機將為台灣供應鏈帶來利多。\n",
            "張錫觀察，目前台股是由螞蟻雄兵（指散戶）抬轎，但預估上半年撤出6000億元的外資將認錯、回補台股，加上「港版國安法」逼出香港資金、可能轉至台股。因此，豐沛資金在超低利環境下有助於推升台股本益比，很可能從原本15倍的水準，上看至30～40倍。\n",
            "安聯台灣科技基金經理人廖哲宏也表示，加權指數挑戰前高、櫃買指數也創下十年新高，是因為近期資金充沛，足以支撐台股走勢，讓台股股價淨值比（P／B）回到相對高點。\n",
            "台股下半年主要看蘋果臉色，有三大撐盤利多\n",
            "儘管有全球目前上演二次疫情、美中摩擦等風險，但受惠於新供應鏈的崛起以及各國貨幣與財政政策等推升，台股表現可期。\n",
            "美股一向是台股的風向球，近來表現也強勢。\n",
            "上週，美股漲勢凌厲，雖然上週五因為獨立紀念日而休市一天。但截至上週四包括道瓊、那斯達克與S&P 500等三大指數齊揚，包括道瓊單週漲811點、漲幅3.2％，那斯達克再創新高、收1萬207.63點；S&P 500漲幅也達4％、收3130.01點。\n",
            "安聯台灣智慧基金經理人鍾安綾觀察，美股漲幅歸因於總經與就業數據持續好轉，失業率從4月14.7％的高峰，持續降至6月的11.1％。加上，市場預期7月下旬將有新一輪刺激法案，基本面帶動、且有豐沛資金助攻，因此美股偏多格局不變。\n",
            "專盯台灣智慧科技的鍾安綾表示，建議台股後市也可偏多看待。而下半年的資金主軸仍會持續關注科技族群，主要是三個原因。首先、時序上步入第三季開始的傳統拉貨旺季；第二、iPhone開始啟動新一代產品的拉貨潮；第三、中美關係持續緊張，台灣供應鏈的「去美化」效應將持續發酵，包括IC設計晶圓代工等族群可望受惠。\n",
            "【本週財經掃描重點】\n",
            "一、台股：是否站穩1萬2000點的「萬二」行情？超級財報週的表現？\n",
            "二、新台幣：上週已衝破央行總裁「楊金龍防線」，攻破央行力守的29.5元價位，改寫2年多的新高紀錄。本週觀察是否持續走高、攻破一美元兌新台幣29.4的新關卡？\n",
            "三、黃金：上週黃金期貨收盤價衝破每盎司1800.5美元，創下2011年9月以來新高紀錄，投行大咖「高盛」預期未來一年金價可走升至2000美元。專家建議，黃金雖為多頭格局，但仍建議評估自身風險屬性、拉回再分批進場。\n",
            "（文 / 林讓均 本文出自2020.07.06《遠見》網站，未經同意禁止轉載。）'\n",
            "'>> summary: 三大利多燒旺台股 久違的「萬二」行情將攀上「二萬」？'\n"
          ]
        }
      ]
    },
    {
      "cell_type": "code",
      "source": [
        "from transformers import AutoTokenizer, AutoModelForSeq2SeqLM"
      ],
      "metadata": {
        "id": "etEsfcKnuXF9"
      },
      "execution_count": null,
      "outputs": []
    },
    {
      "cell_type": "code",
      "source": [
        "from transformers import AutoTokenizer, AutoModelForSeq2SeqLM\n",
        "\n",
        "model_checkpoint = \"google/mt5-small\"\n",
        "tokenizer_checkpoint = model_checkpoint#\"ckiplab/bert-base-chinese\"\n",
        "tokenizer = AutoTokenizer.from_pretrained(tokenizer_checkpoint)"
      ],
      "metadata": {
        "id": "NWr4JISc5nsn",
        "colab": {
          "base_uri": "https://localhost:8080/"
        },
        "outputId": "37df56a4-32b8-4cde-bd7f-a48cbbac0f0b"
      },
      "execution_count": null,
      "outputs": [
        {
          "output_type": "stream",
          "name": "stderr",
          "text": [
            "/usr/local/lib/python3.7/dist-packages/transformers/convert_slow_tokenizer.py:435: UserWarning: The sentencepiece tokenizer that you are converting to a fast tokenizer uses the byte fallback option which is not implemented in the fast tokenizers. In practice this means that the fast version of the tokenizer can produce unknown tokens whereas the sentencepiece version would have converted these unknown tokens into a sequence of byte tokens matching the original piece of text.\n",
            "  \"The sentencepiece tokenizer that you are converting to a fast tokenizer uses the byte fallback option\"\n"
          ]
        }
      ]
    },
    {
      "cell_type": "code",
      "source": [
        "inputs = tokenizer(\"我家門前有小河，後面有山坡。\")\n",
        "inputs"
      ],
      "metadata": {
        "colab": {
          "base_uri": "https://localhost:8080/"
        },
        "id": "O7QhaAHlobRO",
        "outputId": "d7a1a386-8311-49e2-9284-420c4a2f5246"
      },
      "execution_count": null,
      "outputs": [
        {
          "output_type": "execute_result",
          "data": {
            "text/plain": [
              "{'input_ids': [259, 221108, 27304, 2884, 1637, 2144, 8805, 261, 7605, 4874, 1637, 2619, 105511, 306, 1], 'attention_mask': [1, 1, 1, 1, 1, 1, 1, 1, 1, 1, 1, 1, 1, 1, 1]}"
            ]
          },
          "metadata": {},
          "execution_count": 12
        }
      ]
    },
    {
      "cell_type": "code",
      "source": [
        "tokenizer.convert_ids_to_tokens(inputs.input_ids)"
      ],
      "metadata": {
        "colab": {
          "base_uri": "https://localhost:8080/"
        },
        "id": "7p1c9znLo1hp",
        "outputId": "4533ef0a-02e8-4a49-f3d9-7534595ad502"
      },
      "execution_count": null,
      "outputs": [
        {
          "output_type": "execute_result",
          "data": {
            "text/plain": [
              "['▁', '我家', '門', '前', '有', '小', '河', ',', '後', '面', '有', '山', '坡', '。', '</s>']"
            ]
          },
          "metadata": {},
          "execution_count": 13
        }
      ]
    },
    {
      "cell_type": "code",
      "source": [
        "max_input_length = 512\n",
        "max_target_length = 30\n",
        "\n",
        "def preprocess_function(examples):\n",
        "    model_inputs = tokenizer(\n",
        "        examples[\"maintext\"], max_length=max_input_length, truncation=True\n",
        "    )\n",
        "    # Set up the tokenizer for targets\n",
        "    with tokenizer.as_target_tokenizer():\n",
        "        labels = tokenizer(\n",
        "            examples[\"title\"], max_length=max_target_length, truncation=True\n",
        "        )\n",
        "\n",
        "    model_inputs[\"labels\"] = labels[\"input_ids\"]\n",
        "    return model_inputs"
      ],
      "metadata": {
        "id": "X-KD5_13poEc"
      },
      "execution_count": null,
      "outputs": []
    },
    {
      "cell_type": "code",
      "source": [
        "tokenized_datasets = dataset.map(preprocess_function, batched=True)"
      ],
      "metadata": {
        "colab": {
          "base_uri": "https://localhost:8080/",
          "height": 87,
          "referenced_widgets": [
            "091c7c97035c4c6cb011e2ef7f43dc0a",
            "3c267cf2de6a412f9a0c03d54516dbb1",
            "5b34283a1e3d4e68bf7d9eb236c6c274",
            "824813ca52de43ff9435df0c4dc7483d",
            "f7fcf147f7d34d8581eefbe16f986db5",
            "1de36cae28fe4df9b45fca9e01bae512",
            "1a5dbbaa7aa541a281b3ce88157a0987",
            "9074b15c3a7d42f3b74e8231b85147d2",
            "65d3eed5d32a4dcda449301b21e5633d",
            "93ee989fdccc49a8b1481e52abfa5259",
            "562fbea37a864a1696391de0906a8ef4"
          ]
        },
        "id": "2Cj8f2YAqRSF",
        "outputId": "3b291979-5ecc-4df0-dab6-d97fb728e3c8"
      },
      "execution_count": null,
      "outputs": [
        {
          "output_type": "stream",
          "name": "stderr",
          "text": [
            "Loading cached processed dataset at /root/.cache/huggingface/datasets/json/default-aa920f60a05dd52d/0.0.0/ac0ca5f5289a6cf108e706efcf040422dbbfa8e658dee6a819f20d76bb84d26b/cache-02bad7c8796195b1.arrow\n"
          ]
        },
        {
          "output_type": "display_data",
          "data": {
            "text/plain": [
              "  0%|          | 0/6 [00:00<?, ?ba/s]"
            ],
            "application/vnd.jupyter.widget-view+json": {
              "version_major": 2,
              "version_minor": 0,
              "model_id": "091c7c97035c4c6cb011e2ef7f43dc0a"
            }
          },
          "metadata": {}
        }
      ]
    },
    {
      "cell_type": "code",
      "source": [
        "\n",
        "tokenizer(\"你好\")"
      ],
      "metadata": {
        "colab": {
          "base_uri": "https://localhost:8080/"
        },
        "id": "EHMjo9sxvD_K",
        "outputId": "8256149b-1dd9-4863-b16c-26a9fa06d729"
      },
      "execution_count": null,
      "outputs": [
        {
          "output_type": "execute_result",
          "data": {
            "text/plain": [
              "{'input_ids': [259, 4235, 3586, 1], 'attention_mask': [1, 1, 1, 1]}"
            ]
          },
          "metadata": {},
          "execution_count": 16
        }
      ]
    },
    {
      "cell_type": "code",
      "source": [
        "generated_summary = [\"我超級愛飢餓遊戲\", \"我非常想上廁所\"]\n",
        "reference_summary = [\"我愛飢餓遊戲\",\"我想上廁所\"]\n",
        "\n",
        "from datasets import load_metric\n",
        "\n",
        "rouge_score = load_metric(\"rouge\")\n",
        "\n",
        "scores = rouge_score.compute(\n",
        "    predictions=[tokenizer(generated_summary).input_ids], references=[tokenizer(reference_summary).input_ids]\n",
        ")\n",
        "scores"
      ],
      "metadata": {
        "colab": {
          "base_uri": "https://localhost:8080/"
        },
        "id": "nia_rQq3qW0j",
        "outputId": "0a2ea57b-f691-4f58-d129-6ad6d48be55d"
      },
      "execution_count": null,
      "outputs": [
        {
          "output_type": "execute_result",
          "data": {
            "text/plain": [
              "{'rouge1': AggregateScore(low=Score(precision=0.7058823529411765, recall=0.9230769230769231, fmeasure=0.8000000000000002), mid=Score(precision=0.7058823529411765, recall=0.9230769230769231, fmeasure=0.8000000000000002), high=Score(precision=0.7058823529411765, recall=0.9230769230769231, fmeasure=0.8000000000000002)),\n",
              " 'rouge2': AggregateScore(low=Score(precision=0.5625, recall=0.75, fmeasure=0.6428571428571429), mid=Score(precision=0.5625, recall=0.75, fmeasure=0.6428571428571429), high=Score(precision=0.5625, recall=0.75, fmeasure=0.6428571428571429)),\n",
              " 'rougeL': AggregateScore(low=Score(precision=0.7058823529411765, recall=0.9230769230769231, fmeasure=0.8000000000000002), mid=Score(precision=0.7058823529411765, recall=0.9230769230769231, fmeasure=0.8000000000000002), high=Score(precision=0.7058823529411765, recall=0.9230769230769231, fmeasure=0.8000000000000002)),\n",
              " 'rougeLsum': AggregateScore(low=Score(precision=0.7058823529411765, recall=0.9230769230769231, fmeasure=0.8000000000000002), mid=Score(precision=0.7058823529411765, recall=0.9230769230769231, fmeasure=0.8000000000000002), high=Score(precision=0.7058823529411765, recall=0.9230769230769231, fmeasure=0.8000000000000002))}"
            ]
          },
          "metadata": {},
          "execution_count": 17
        }
      ]
    },
    {
      "cell_type": "code",
      "source": [
        "scores[\"rougeL\"].mid.fmeasure"
      ],
      "metadata": {
        "colab": {
          "base_uri": "https://localhost:8080/"
        },
        "id": "uVONA7lUveoS",
        "outputId": "f9ed63ee-bf19-429c-e5a2-c6ed7b798e66"
      },
      "execution_count": null,
      "outputs": [
        {
          "output_type": "execute_result",
          "data": {
            "text/plain": [
              "0.8000000000000002"
            ]
          },
          "metadata": {},
          "execution_count": 18
        }
      ]
    },
    {
      "cell_type": "code",
      "source": [
        "from transformers import TFAutoModelForSeq2SeqLM\n",
        "\n",
        "model = TFAutoModelForSeq2SeqLM.from_pretrained(model_checkpoint)"
      ],
      "metadata": {
        "colab": {
          "base_uri": "https://localhost:8080/"
        },
        "id": "krTeuKjurtPM",
        "outputId": "64d6dccc-6774-4b55-d6e7-647b01368f48"
      },
      "execution_count": null,
      "outputs": [
        {
          "output_type": "stream",
          "name": "stderr",
          "text": [
            "All model checkpoint layers were used when initializing TFMT5ForConditionalGeneration.\n",
            "\n",
            "All the layers of TFMT5ForConditionalGeneration were initialized from the model checkpoint at google/mt5-small.\n",
            "If your task is similar to the task the model of the checkpoint was trained on, you can already use TFMT5ForConditionalGeneration for predictions without further training.\n"
          ]
        }
      ]
    },
    {
      "cell_type": "code",
      "source": [
        "\n",
        "from transformers import DataCollatorForSeq2Seq\n",
        "\n",
        "data_collator = DataCollatorForSeq2Seq(tokenizer, model=model, return_tensors=\"tf\")"
      ],
      "metadata": {
        "id": "Zr4b40uur3d4"
      },
      "execution_count": null,
      "outputs": []
    },
    {
      "cell_type": "code",
      "source": [
        "tokenized_datasets = tokenized_datasets.remove_columns(\n",
        "    dataset[\"train\"].column_names\n",
        ")"
      ],
      "metadata": {
        "id": "OHW2LjMIr-08"
      },
      "execution_count": null,
      "outputs": []
    },
    {
      "cell_type": "code",
      "source": [
        "dataset"
      ],
      "metadata": {
        "colab": {
          "base_uri": "https://localhost:8080/"
        },
        "id": "hBk_oaNtsiKE",
        "outputId": "c2bfabdd-aaa0-4e9e-f563-f1e97753189b"
      },
      "execution_count": null,
      "outputs": [
        {
          "output_type": "execute_result",
          "data": {
            "text/plain": [
              "DatasetDict({\n",
              "    train: Dataset({\n",
              "        features: ['date_publish', 'title', 'source_domain', 'maintext', 'split', 'id'],\n",
              "        num_rows: 21710\n",
              "    })\n",
              "    test: Dataset({\n",
              "        features: ['date_publish', 'title', 'source_domain', 'maintext', 'split', 'id'],\n",
              "        num_rows: 5494\n",
              "    })\n",
              "})"
            ]
          },
          "metadata": {},
          "execution_count": 22
        }
      ]
    },
    {
      "cell_type": "code",
      "source": [
        "\n",
        "tokenized_datasets"
      ],
      "metadata": {
        "colab": {
          "base_uri": "https://localhost:8080/"
        },
        "id": "msIro2nmsInH",
        "outputId": "60124405-388d-4de0-832f-6c419812e837"
      },
      "execution_count": null,
      "outputs": [
        {
          "output_type": "execute_result",
          "data": {
            "text/plain": [
              "DatasetDict({\n",
              "    train: Dataset({\n",
              "        features: ['input_ids', 'attention_mask', 'labels'],\n",
              "        num_rows: 21710\n",
              "    })\n",
              "    test: Dataset({\n",
              "        features: ['input_ids', 'attention_mask', 'labels'],\n",
              "        num_rows: 5494\n",
              "    })\n",
              "})"
            ]
          },
          "metadata": {},
          "execution_count": 23
        }
      ]
    },
    {
      "cell_type": "code",
      "source": [
        "features = [tokenized_datasets[\"train\"][i] for i in range(2)]\n",
        "data_collator(features)"
      ],
      "metadata": {
        "colab": {
          "base_uri": "https://localhost:8080/"
        },
        "id": "IKNfNZuxsNyK",
        "outputId": "ddaee084-15dd-4a46-bd5a-288396de946c"
      },
      "execution_count": null,
      "outputs": [
        {
          "output_type": "execute_result",
          "data": {
            "text/plain": [
              "{'input_ids': <tf.Tensor: shape=(2, 512), dtype=int32, numpy=\n",
              "array([[   259,  71934,   2144, ...,  24134,  54333,      1],\n",
              "       [   259, 170885,  29419, ..., 179975,  19495,      1]], dtype=int32)>, 'attention_mask': <tf.Tensor: shape=(2, 512), dtype=int32, numpy=\n",
              "array([[1, 1, 1, ..., 1, 1, 1],\n",
              "       [1, 1, 1, ..., 1, 1, 1]], dtype=int32)>, 'labels': <tf.Tensor: shape=(2, 30), dtype=int32, numpy=\n",
              "array([[   259,  74378,   9734,  22399,   4457,   1146,  91653,   9139,\n",
              "        171388,  26473,  31225,    259,    292,   2230, 200229, 192250,\n",
              "          4066,  23281,   2910,   4565,  86305,  95289, 241245, 178273,\n",
              "         63687,  18540, 137179,   1193, 175062,      1],\n",
              "       [  6874, 240277,   1193,    879,   7274,   1637,   8043,   4417,\n",
              "           291,   1193, 196420,  44654,  20726,  23392,  20794,  11022,\n",
              "        100430,    259,  74387,  39240,   2884, 141783,  82813,   3801,\n",
              "         50301,  44932, 103102,      1,   -100,   -100]], dtype=int32)>, 'decoder_input_ids': <tf.Tensor: shape=(2, 30), dtype=int32, numpy=\n",
              "array([[     0,    259,  74378,   9734,  22399,   4457,   1146,  91653,\n",
              "          9139, 171388,  26473,  31225,    259,    292,   2230, 200229,\n",
              "        192250,   4066,  23281,   2910,   4565,  86305,  95289, 241245,\n",
              "        178273,  63687,  18540, 137179,   1193, 175062],\n",
              "       [     0,   6874, 240277,   1193,    879,   7274,   1637,   8043,\n",
              "          4417,    291,   1193, 196420,  44654,  20726,  23392,  20794,\n",
              "         11022, 100430,    259,  74387,  39240,   2884, 141783,  82813,\n",
              "          3801,  50301,  44932, 103102,      1,      0]], dtype=int32)>}"
            ]
          },
          "metadata": {},
          "execution_count": 24
        }
      ]
    },
    {
      "cell_type": "code",
      "source": [
        "pt_model.save_pretrained(\"path/to/awesome-name-you-picked\")"
      ],
      "metadata": {
        "id": "oKpAJh0rzTsE"
      },
      "execution_count": null,
      "outputs": []
    },
    {
      "cell_type": "code",
      "source": [
        "tf_train_dataset = tokenized_datasets[\"train\"].to_tf_dataset(\n",
        "    columns=[\"input_ids\", \"attention_mask\", \"labels\"],\n",
        "    collate_fn=data_collator,\n",
        "    shuffle=True,\n",
        "    batch_size=8\n",
        "    ,\n",
        ")\n",
        "tf_eval_dataset = tokenized_datasets[\"test\"].to_tf_dataset(\n",
        "    columns=[\"input_ids\", \"attention_mask\", \"labels\"],\n",
        "    collate_fn=data_collator,\n",
        "    shuffle=False,\n",
        "    batch_size=4,\n",
        ")"
      ],
      "metadata": {
        "id": "W1P33ZKwsWep"
      },
      "execution_count": null,
      "outputs": []
    },
    {
      "cell_type": "code",
      "source": [
        "from transformers import create_optimizer\n",
        "import tensorflow as tf\n",
        "\n",
        "# The number of training steps is the number of samples in the dataset, divided by the batch size then multiplied\n",
        "# by the total number of epochs. Note that the tf_train_dataset here is a batched tf.data.Dataset,\n",
        "# not the original Hugging Face Dataset, so its len() is already num_samples // batch_size.\n",
        "num_train_epochs = 1\n",
        "num_train_steps = len(tf_train_dataset) * num_train_epochs\n",
        "model_name = model_checkpoint.split(\"/\")[-1]\n",
        "\n",
        "optimizer, schedule = create_optimizer(\n",
        "    init_lr=1e-3,\n",
        "    num_warmup_steps=10,\n",
        "    num_train_steps=num_train_steps,\n",
        "    weight_decay_rate=0,\n",
        ")\n",
        "\n",
        "model.compile(optimizer=optimizer)\n",
        "\n",
        "# Train in mixed-precision float16\n",
        "# tf.keras.mixed_precision.set_global_policy(\"mixed_float16\")"
      ],
      "metadata": {
        "colab": {
          "base_uri": "https://localhost:8080/"
        },
        "id": "aZy43iBFsmNr",
        "outputId": "d2e9db97-ee5f-4946-d331-27a3a55917f9"
      },
      "execution_count": null,
      "outputs": [
        {
          "output_type": "stream",
          "name": "stderr",
          "text": [
            "No loss specified in compile() - the model's internal loss computation will be used as the loss. Don't panic - this is a common way to train TensorFlow models in Transformers! To disable this behaviour, please pass a loss argument, or explicitly pass `loss=None` if you do not want your model to compute a loss.\n"
          ]
        }
      ]
    },
    {
      "cell_type": "code",
      "source": [
        "\n",
        "# from transformers.keras_callbacks import PushToHubCallback\n",
        "\n",
        "# callback = PushToHubCallback(\n",
        "#     output_dir=f\"{model_name}-finetuned-amazon-en-es\", tokenizer=tokenizer\n",
        "# )\n",
        "\n",
        "# model.fit(\n",
        "#     tf_train_dataset, validation_data=tf_eval_dataset, epochs=8\n",
        "# )"
      ],
      "metadata": {
        "id": "9_EIuFLWsvdB"
      },
      "execution_count": null,
      "outputs": []
    },
    {
      "cell_type": "code",
      "source": [
        "def rouge_scores(labels, logits):\n",
        "  # get labels from probability\n",
        "  pred_labels = np.argmax(logits, axis=-1)\n",
        "  rouge_result = rouge_score.compute(predictions=[pred_labels], references=[labels])\n",
        "  rouge1, rouge2, rougeL, rougeLsum= \\\n",
        "  rouge_result[\"rouge1\"].mid.fmeasure, rouge_result[\"rouge2\"].mid.fmeasure, rouge_result[\"rougeL\"].mid.fmeasure, \\\n",
        "  rouge_result[\"rougeLsum\"].mid.fmeasure\n",
        "  return {\"rouge1\":rouge1, \"rouge2\":rouge2, \"rougeL\":rougeL, \"rougeLsum\":rougeLsum}\n",
        "\n",
        "def rougeL_loss(labels, logits, rouge_type=\"rougeL\"):\n",
        "  # get labels from probability\n",
        "  pred_labels = tf.math.argmax(logits, axis=-1)\n",
        "  rouges = []\n",
        "  for p, l in zip(pred_labels, labels):\n",
        "    rouge_result = rouge_score.compute(predictions=[pred_labels], references=[labels])\n",
        "    rouge = rouge_result[rouge_type].mid.fmeasure\n",
        "    rouges.append(rouge)\n",
        "  rouges = np.array(rouges, dtype=float).reshape(-1,1,1)\n",
        "\n",
        "  return -tf.reduce_mean(tf.math.multiply(tf.math.log_softmax(logits), rouges)) # 16 * 16*30*vocab_size = 16*30*vocab_size"
      ],
      "metadata": {
        "id": "3_eg3bcOs_Vp"
      },
      "execution_count": null,
      "outputs": []
    },
    {
      "cell_type": "code",
      "source": [
        "# @tf.function\n",
        "def train_step(input_ids, labels, rouge_type):\n",
        "  with tf.GradientTape() as tape:\n",
        "    # Run the forward pass of the layer.\n",
        "    # The operations that the layer applies\n",
        "    # to its inputs are going to be recorded\n",
        "    # on the GradientTape.\n",
        "    outputs = model(input_ids=input_ids, labels=labels)\n",
        "    celoss, logits = tf.reduce_mean(outputs[\"loss\"]), outputs[\"logits\"] #model(x_batch_train, training=True)  # Logits for this minibatch\n",
        "    # print(model.predict(input_ids))\n",
        "    rloss = rougeL_loss(labels, logits, rouge_type)\n",
        "    loss_value = celoss + rloss\n",
        "\n",
        "  grads = tape.gradient(loss_value, model.trainable_weights)\n",
        "\n",
        "  # Run one step of gradient descent by updating\n",
        "  # the value of the variables to minimize the loss.\n",
        "  optimizer.apply_gradients(zip(grads, model.trainable_weights))\n",
        "  return loss_value, celoss"
      ],
      "metadata": {
        "id": "oeTwl_jvV1A5"
      },
      "execution_count": null,
      "outputs": []
    },
    {
      "cell_type": "code",
      "source": [
        "def update_rouges(original, new):\n",
        "  objs = [\"rouge1\",\"rouge2\",\"rougeL\",\"rougeLsum\"]\n",
        "  for o in objs:\n",
        "    original[o].append(new[o])\n",
        "  return"
      ],
      "metadata": {
        "id": "8UdyjKqZuuKC"
      },
      "execution_count": null,
      "outputs": []
    },
    {
      "cell_type": "code",
      "source": [
        "rouge_type =\"rouge2\""
      ],
      "metadata": {
        "id": "W83pP7P2tZnc"
      },
      "execution_count": null,
      "outputs": []
    },
    {
      "cell_type": "code",
      "source": [
        "step = 0\n",
        "logging_steps = 200 # 6000/8\n",
        "\n",
        "all_loss = []\n",
        "ce_loss = []\n",
        "test_rouges = {\"epoch\":[],\"rouge1\":[], \"rouge2\":[], \"rougeL\":[], \"rougeLsum\":[]}\n",
        "\n",
        "for epoch in range(num_train_epochs):\n",
        "    print(\"\\nStart of epoch %d\" % (epoch,))\n",
        "\n",
        "    # Iterate over the batches of the dataset.\n",
        "    for train in tqdm(tf_train_dataset, total=len(tf_train_dataset)):\n",
        "        input_ids, labels = train[\"input_ids\"], train[\"labels\"]\n",
        "        # Open a GradientTape to record the operations run\n",
        "        # during the forward pass, which enables auto-differentiation.\n",
        "        loss_value, celoss = train_step(input_ids, labels, rouge_type)\n",
        "        # loss_value = loss_fn(y_batch_train, logits)\n",
        "        # Use the gradient tape to automatically retrieve\n",
        "        # the gradients of the trainable variables with respect to the loss.\n",
        "        \n",
        "\n",
        "        # Log every logging_steps batches.\n",
        "        if step % logging_steps == 0 or step==0 or step==num_train_steps:\n",
        "            all_loss.append(float(loss_value))\n",
        "            ce_loss.append(float(celoss))\n",
        "            print(\n",
        "                f\"Training loss (for one batch) at step {step}: {loss_value}\"\n",
        "            )\n",
        "            print(\n",
        "                f\"for just cross entropy part, loss: {float(celoss)}\"\n",
        "            )\n",
        "\n",
        "            print(\"Seen so far: %s samples\" % ((step + 1) * 8))\n",
        "            # record testing rouge scores\n",
        "            # temp_rouge = {\"rouge1\":[], \"rouge2\":[], \"rougeL\":[], \"rougeLsum\":[]}\n",
        "            # for test in tqdm(tf_eval_dataset, total=len(tf_eval_dataset)):\n",
        "            #   input_ids, labels = test[\"input_ids\"], test[\"labels\"]\n",
        "            #   outputs = model(input_ids=input_ids, labels=labels)\n",
        "            #   logits = outputs[\"logits\"]\n",
        "            #   update_rouges(temp_rouge, rouge_scores(labels, logits)) #temp_rouge.update(rouge_scores(labels, logits))\n",
        "            # update_rouges(test_rouges, {k:sum(v)/len(v) for k,v in temp_rouge.items()}) #test_rouges.update({k:sum(v) for k,v in temp_rouge.items()})\n",
        "            # test_rouges[\"epoch\"].append(step /(num_train_epochs*len(tf_train_dataset)))\n",
        "            # print(f\"Testing rouges: { { k:sum(v)/len(v) for k,v in temp_rouge.items()} }\")\n",
        "        step += 1"
      ],
      "metadata": {
        "colab": {
          "base_uri": "https://localhost:8080/",
          "height": 639,
          "referenced_widgets": [
            "8169c7dffc114c2f899c5c5e1a114ea1",
            "6e4769be0b8f457a9b48df224ef83b29",
            "db9b859b4986424aa01a62ba8155f3c9",
            "2a0746685fba464384aa923a5a2bec83",
            "2f438d6803cc4fcba77d1366102f8868",
            "5d9f78ec55b3474e9c0c6202e25b4633",
            "70bc373f7b5e4078bf9fd5d5370374a2",
            "db671e4717924991a9b878d36ccf4ad8",
            "66572e55f0214ecba9595140e188b14c",
            "19ee70521ca34921ae5e7093e9e16c06",
            "12313574e5874232a1c300df03ea1079"
          ]
        },
        "id": "amMipzUxy2nL",
        "outputId": "881d3c4c-8626-45ca-8de8-c40af7b6dbc5"
      },
      "execution_count": null,
      "outputs": [
        {
          "output_type": "stream",
          "name": "stdout",
          "text": [
            "\n",
            "Start of epoch 0\n"
          ]
        },
        {
          "output_type": "display_data",
          "data": {
            "text/plain": [
              "  0%|          | 0/2713 [00:00<?, ?it/s]"
            ],
            "application/vnd.jupyter.widget-view+json": {
              "version_major": 2,
              "version_minor": 0,
              "model_id": "8169c7dffc114c2f899c5c5e1a114ea1"
            }
          },
          "metadata": {}
        },
        {
          "output_type": "stream",
          "name": "stdout",
          "text": [
            "Training loss (for one batch) at step 0: 19.210838317871094\n",
            "for just cross entropy part, loss: 18.720874786376953\n",
            "Seen so far: 8 samples\n"
          ]
        },
        {
          "output_type": "stream",
          "name": "stderr",
          "text": [
            "Exception ignored in: <generator object tqdm.__iter__ at 0x7f6baaf34d50>\n",
            "Traceback (most recent call last):\n",
            "  File \"/usr/local/lib/python3.7/dist-packages/tqdm/std.py\", line 1196, in __iter__\n",
            "    yield obj\n",
            "KeyboardInterrupt: \n"
          ]
        },
        {
          "output_type": "error",
          "ename": "KeyboardInterrupt",
          "evalue": "ignored",
          "traceback": [
            "\u001b[0;31m---------------------------------------------------------------------------\u001b[0m",
            "\u001b[0;31mKeyboardInterrupt\u001b[0m                         Traceback (most recent call last)",
            "\u001b[0;32m<ipython-input-33-2509d6621b5b>\u001b[0m in \u001b[0;36m<module>\u001b[0;34m()\u001b[0m\n\u001b[1;32m     14\u001b[0m         \u001b[0;31m# Open a GradientTape to record the operations run\u001b[0m\u001b[0;34m\u001b[0m\u001b[0;34m\u001b[0m\u001b[0;34m\u001b[0m\u001b[0m\n\u001b[1;32m     15\u001b[0m         \u001b[0;31m# during the forward pass, which enables auto-differentiation.\u001b[0m\u001b[0;34m\u001b[0m\u001b[0;34m\u001b[0m\u001b[0;34m\u001b[0m\u001b[0m\n\u001b[0;32m---> 16\u001b[0;31m         \u001b[0mloss_value\u001b[0m\u001b[0;34m,\u001b[0m \u001b[0mceloss\u001b[0m \u001b[0;34m=\u001b[0m \u001b[0mtrain_step\u001b[0m\u001b[0;34m(\u001b[0m\u001b[0minput_ids\u001b[0m\u001b[0;34m,\u001b[0m \u001b[0mlabels\u001b[0m\u001b[0;34m,\u001b[0m \u001b[0mrouge_type\u001b[0m\u001b[0;34m)\u001b[0m\u001b[0;34m\u001b[0m\u001b[0;34m\u001b[0m\u001b[0m\n\u001b[0m\u001b[1;32m     17\u001b[0m         \u001b[0;31m# loss_value = loss_fn(y_batch_train, logits)\u001b[0m\u001b[0;34m\u001b[0m\u001b[0;34m\u001b[0m\u001b[0;34m\u001b[0m\u001b[0m\n\u001b[1;32m     18\u001b[0m         \u001b[0;31m# Use the gradient tape to automatically retrieve\u001b[0m\u001b[0;34m\u001b[0m\u001b[0;34m\u001b[0m\u001b[0;34m\u001b[0m\u001b[0m\n",
            "\u001b[0;32m<ipython-input-30-326c3202c0a4>\u001b[0m in \u001b[0;36mtrain_step\u001b[0;34m(input_ids, labels, rouge_type)\u001b[0m\n\u001b[1;32m      9\u001b[0m     \u001b[0mceloss\u001b[0m\u001b[0;34m,\u001b[0m \u001b[0mlogits\u001b[0m \u001b[0;34m=\u001b[0m \u001b[0mtf\u001b[0m\u001b[0;34m.\u001b[0m\u001b[0mreduce_mean\u001b[0m\u001b[0;34m(\u001b[0m\u001b[0moutputs\u001b[0m\u001b[0;34m[\u001b[0m\u001b[0;34m\"loss\"\u001b[0m\u001b[0;34m]\u001b[0m\u001b[0;34m)\u001b[0m\u001b[0;34m,\u001b[0m \u001b[0moutputs\u001b[0m\u001b[0;34m[\u001b[0m\u001b[0;34m\"logits\"\u001b[0m\u001b[0;34m]\u001b[0m \u001b[0;31m#model(x_batch_train, training=True)  # Logits for this minibatch\u001b[0m\u001b[0;34m\u001b[0m\u001b[0;34m\u001b[0m\u001b[0m\n\u001b[1;32m     10\u001b[0m     \u001b[0;31m# print(model.predict(input_ids))\u001b[0m\u001b[0;34m\u001b[0m\u001b[0;34m\u001b[0m\u001b[0;34m\u001b[0m\u001b[0m\n\u001b[0;32m---> 11\u001b[0;31m     \u001b[0mrloss\u001b[0m \u001b[0;34m=\u001b[0m \u001b[0mrougeL_loss\u001b[0m\u001b[0;34m(\u001b[0m\u001b[0mlabels\u001b[0m\u001b[0;34m,\u001b[0m \u001b[0mlogits\u001b[0m\u001b[0;34m,\u001b[0m \u001b[0mrouge_type\u001b[0m\u001b[0;34m)\u001b[0m\u001b[0;34m\u001b[0m\u001b[0;34m\u001b[0m\u001b[0m\n\u001b[0m\u001b[1;32m     12\u001b[0m     \u001b[0mloss_value\u001b[0m \u001b[0;34m=\u001b[0m \u001b[0mceloss\u001b[0m \u001b[0;34m+\u001b[0m \u001b[0mrloss\u001b[0m\u001b[0;34m\u001b[0m\u001b[0;34m\u001b[0m\u001b[0m\n\u001b[1;32m     13\u001b[0m \u001b[0;34m\u001b[0m\u001b[0m\n",
            "\u001b[0;32m<ipython-input-29-4d259c1eedea>\u001b[0m in \u001b[0;36mrougeL_loss\u001b[0;34m(labels, logits, rouge_type)\u001b[0m\n\u001b[1;32m     11\u001b[0m   \u001b[0mrouges\u001b[0m \u001b[0;34m=\u001b[0m \u001b[0;34m[\u001b[0m\u001b[0;34m]\u001b[0m\u001b[0;34m\u001b[0m\u001b[0;34m\u001b[0m\u001b[0m\n\u001b[1;32m     12\u001b[0m   \u001b[0;32mfor\u001b[0m \u001b[0mp\u001b[0m\u001b[0;34m,\u001b[0m \u001b[0ml\u001b[0m \u001b[0;32min\u001b[0m \u001b[0mzip\u001b[0m\u001b[0;34m(\u001b[0m\u001b[0mpred_labels\u001b[0m\u001b[0;34m,\u001b[0m \u001b[0mlabels\u001b[0m\u001b[0;34m)\u001b[0m\u001b[0;34m:\u001b[0m\u001b[0;34m\u001b[0m\u001b[0;34m\u001b[0m\u001b[0m\n\u001b[0;32m---> 13\u001b[0;31m     \u001b[0mrouge_result\u001b[0m \u001b[0;34m=\u001b[0m \u001b[0mrouge_score\u001b[0m\u001b[0;34m.\u001b[0m\u001b[0mcompute\u001b[0m\u001b[0;34m(\u001b[0m\u001b[0mpredictions\u001b[0m\u001b[0;34m=\u001b[0m\u001b[0;34m[\u001b[0m\u001b[0mpred_labels\u001b[0m\u001b[0;34m]\u001b[0m\u001b[0;34m,\u001b[0m \u001b[0mreferences\u001b[0m\u001b[0;34m=\u001b[0m\u001b[0;34m[\u001b[0m\u001b[0mlabels\u001b[0m\u001b[0;34m]\u001b[0m\u001b[0;34m)\u001b[0m\u001b[0;34m\u001b[0m\u001b[0;34m\u001b[0m\u001b[0m\n\u001b[0m\u001b[1;32m     14\u001b[0m     \u001b[0mrouge\u001b[0m \u001b[0;34m=\u001b[0m \u001b[0mrouge_result\u001b[0m\u001b[0;34m[\u001b[0m\u001b[0mrouge_type\u001b[0m\u001b[0;34m]\u001b[0m\u001b[0;34m.\u001b[0m\u001b[0mmid\u001b[0m\u001b[0;34m.\u001b[0m\u001b[0mfmeasure\u001b[0m\u001b[0;34m\u001b[0m\u001b[0;34m\u001b[0m\u001b[0m\n\u001b[1;32m     15\u001b[0m     \u001b[0mrouges\u001b[0m\u001b[0;34m.\u001b[0m\u001b[0mappend\u001b[0m\u001b[0;34m(\u001b[0m\u001b[0mrouge\u001b[0m\u001b[0;34m)\u001b[0m\u001b[0;34m\u001b[0m\u001b[0;34m\u001b[0m\u001b[0m\n",
            "\u001b[0;32m/usr/local/lib/python3.7/dist-packages/datasets/metric.py\u001b[0m in \u001b[0;36mcompute\u001b[0;34m(self, predictions, references, **kwargs)\u001b[0m\n\u001b[1;32m    428\u001b[0m             \u001b[0minputs\u001b[0m \u001b[0;34m=\u001b[0m \u001b[0;34m{\u001b[0m\u001b[0minput_name\u001b[0m\u001b[0;34m:\u001b[0m \u001b[0mself\u001b[0m\u001b[0;34m.\u001b[0m\u001b[0mdata\u001b[0m\u001b[0;34m[\u001b[0m\u001b[0minput_name\u001b[0m\u001b[0;34m]\u001b[0m \u001b[0;32mfor\u001b[0m \u001b[0minput_name\u001b[0m \u001b[0;32min\u001b[0m \u001b[0mself\u001b[0m\u001b[0;34m.\u001b[0m\u001b[0mfeatures\u001b[0m\u001b[0;34m}\u001b[0m\u001b[0;34m\u001b[0m\u001b[0;34m\u001b[0m\u001b[0m\n\u001b[1;32m    429\u001b[0m             \u001b[0;32mwith\u001b[0m \u001b[0mtemp_seed\u001b[0m\u001b[0;34m(\u001b[0m\u001b[0mself\u001b[0m\u001b[0;34m.\u001b[0m\u001b[0mseed\u001b[0m\u001b[0;34m)\u001b[0m\u001b[0;34m:\u001b[0m\u001b[0;34m\u001b[0m\u001b[0;34m\u001b[0m\u001b[0m\n\u001b[0;32m--> 430\u001b[0;31m                 \u001b[0moutput\u001b[0m \u001b[0;34m=\u001b[0m \u001b[0mself\u001b[0m\u001b[0;34m.\u001b[0m\u001b[0m_compute\u001b[0m\u001b[0;34m(\u001b[0m\u001b[0;34m**\u001b[0m\u001b[0minputs\u001b[0m\u001b[0;34m,\u001b[0m \u001b[0;34m**\u001b[0m\u001b[0mcompute_kwargs\u001b[0m\u001b[0;34m)\u001b[0m\u001b[0;34m\u001b[0m\u001b[0;34m\u001b[0m\u001b[0m\n\u001b[0m\u001b[1;32m    431\u001b[0m \u001b[0;34m\u001b[0m\u001b[0m\n\u001b[1;32m    432\u001b[0m             \u001b[0;32mif\u001b[0m \u001b[0mself\u001b[0m\u001b[0;34m.\u001b[0m\u001b[0mbuf_writer\u001b[0m \u001b[0;32mis\u001b[0m \u001b[0;32mnot\u001b[0m \u001b[0;32mNone\u001b[0m\u001b[0;34m:\u001b[0m\u001b[0;34m\u001b[0m\u001b[0;34m\u001b[0m\u001b[0m\n",
            "\u001b[0;32m/root/.cache/huggingface/modules/datasets_modules/metrics/rouge/0ffdb60f436bdb8884d5e4d608d53dbe108e82dac4f494a66f80ef3f647c104f/rouge.py\u001b[0m in \u001b[0;36m_compute\u001b[0;34m(self, predictions, references, rouge_types, use_aggregator, use_stemmer)\u001b[0m\n\u001b[1;32m    122\u001b[0m \u001b[0;34m\u001b[0m\u001b[0m\n\u001b[1;32m    123\u001b[0m         \u001b[0;32mif\u001b[0m \u001b[0muse_aggregator\u001b[0m\u001b[0;34m:\u001b[0m\u001b[0;34m\u001b[0m\u001b[0;34m\u001b[0m\u001b[0m\n\u001b[0;32m--> 124\u001b[0;31m             \u001b[0mresult\u001b[0m \u001b[0;34m=\u001b[0m \u001b[0maggregator\u001b[0m\u001b[0;34m.\u001b[0m\u001b[0maggregate\u001b[0m\u001b[0;34m(\u001b[0m\u001b[0;34m)\u001b[0m\u001b[0;34m\u001b[0m\u001b[0;34m\u001b[0m\u001b[0m\n\u001b[0m\u001b[1;32m    125\u001b[0m         \u001b[0;32melse\u001b[0m\u001b[0;34m:\u001b[0m\u001b[0;34m\u001b[0m\u001b[0;34m\u001b[0m\u001b[0m\n\u001b[1;32m    126\u001b[0m             \u001b[0mresult\u001b[0m \u001b[0;34m=\u001b[0m \u001b[0;34m{\u001b[0m\u001b[0;34m}\u001b[0m\u001b[0;34m\u001b[0m\u001b[0;34m\u001b[0m\u001b[0m\n",
            "\u001b[0;32m/usr/local/lib/python3.7/dist-packages/rouge_score/scoring.py\u001b[0m in \u001b[0;36maggregate\u001b[0;34m(self)\u001b[0m\n\u001b[1;32m    123\u001b[0m       \u001b[0mscore_matrix\u001b[0m \u001b[0;34m=\u001b[0m \u001b[0mnp\u001b[0m\u001b[0;34m.\u001b[0m\u001b[0mvstack\u001b[0m\u001b[0;34m(\u001b[0m\u001b[0mtuple\u001b[0m\u001b[0;34m(\u001b[0m\u001b[0mscores\u001b[0m\u001b[0;34m)\u001b[0m\u001b[0;34m)\u001b[0m\u001b[0;34m\u001b[0m\u001b[0;34m\u001b[0m\u001b[0m\n\u001b[1;32m    124\u001b[0m       \u001b[0;31m# Percentiles are returned as (interval, measure).\u001b[0m\u001b[0;34m\u001b[0m\u001b[0;34m\u001b[0m\u001b[0;34m\u001b[0m\u001b[0m\n\u001b[0;32m--> 125\u001b[0;31m       \u001b[0mpercentiles\u001b[0m \u001b[0;34m=\u001b[0m \u001b[0mself\u001b[0m\u001b[0;34m.\u001b[0m\u001b[0m_bootstrap_resample\u001b[0m\u001b[0;34m(\u001b[0m\u001b[0mscore_matrix\u001b[0m\u001b[0;34m)\u001b[0m\u001b[0;34m\u001b[0m\u001b[0;34m\u001b[0m\u001b[0m\n\u001b[0m\u001b[1;32m    126\u001b[0m       \u001b[0;31m# Extract the three intervals (low, mid, high).\u001b[0m\u001b[0;34m\u001b[0m\u001b[0;34m\u001b[0m\u001b[0;34m\u001b[0m\u001b[0m\n\u001b[1;32m    127\u001b[0m       intervals = tuple(\n",
            "\u001b[0;32m/usr/local/lib/python3.7/dist-packages/rouge_score/scoring.py\u001b[0m in \u001b[0;36m_bootstrap_resample\u001b[0;34m(self, matrix)\u001b[0m\n\u001b[1;32m    151\u001b[0m           np.arange(matrix.shape[0]), size=matrix.shape[0])\n\u001b[1;32m    152\u001b[0m       \u001b[0msample\u001b[0m \u001b[0;34m=\u001b[0m \u001b[0mmatrix\u001b[0m\u001b[0;34m[\u001b[0m\u001b[0msample_idx\u001b[0m\u001b[0;34m,\u001b[0m \u001b[0;34m:\u001b[0m\u001b[0;34m]\u001b[0m\u001b[0;34m\u001b[0m\u001b[0;34m\u001b[0m\u001b[0m\n\u001b[0;32m--> 153\u001b[0;31m       \u001b[0msample_mean\u001b[0m\u001b[0;34m[\u001b[0m\u001b[0mi\u001b[0m\u001b[0;34m,\u001b[0m \u001b[0;34m:\u001b[0m\u001b[0;34m]\u001b[0m \u001b[0;34m=\u001b[0m \u001b[0mnp\u001b[0m\u001b[0;34m.\u001b[0m\u001b[0mmean\u001b[0m\u001b[0;34m(\u001b[0m\u001b[0msample\u001b[0m\u001b[0;34m,\u001b[0m \u001b[0maxis\u001b[0m\u001b[0;34m=\u001b[0m\u001b[0;36m0\u001b[0m\u001b[0;34m)\u001b[0m\u001b[0;34m\u001b[0m\u001b[0;34m\u001b[0m\u001b[0m\n\u001b[0m\u001b[1;32m    154\u001b[0m \u001b[0;34m\u001b[0m\u001b[0m\n\u001b[1;32m    155\u001b[0m     \u001b[0;31m# Take percentiles on the estimate of the mean using bootstrap samples.\u001b[0m\u001b[0;34m\u001b[0m\u001b[0;34m\u001b[0m\u001b[0;34m\u001b[0m\u001b[0m\n",
            "\u001b[0;32m<__array_function__ internals>\u001b[0m in \u001b[0;36mmean\u001b[0;34m(*args, **kwargs)\u001b[0m\n",
            "\u001b[0;31mKeyboardInterrupt\u001b[0m: "
          ]
        }
      ]
    },
    {
      "cell_type": "code",
      "source": [
        "# save results and model\n",
        "import pickle\n",
        "\n",
        "\n",
        "train_results = {\"total_loss\":all_loss, \"ce_loss\":ce_loss, \"test_rouges\":test_rouges}\n",
        "with open(root+\"RL/\"+rouge_type+\"_policy_resultes.pkl\", \"wb\") as f:\n",
        "  pickle.dump(train_results, f)\n",
        "\n",
        "model.save_pretrained(root+\"RL/\"+rouge_type)"
      ],
      "metadata": {
        "id": "KbxUKIlwueFA"
      },
      "execution_count": null,
      "outputs": []
    },
    {
      "cell_type": "code",
      "source": [
        "with open(root+\"RL/\"+rouge_type+\"_model.pkl\", \"wb\") as f:\n",
        "  pickle.dump(model, f)"
      ],
      "metadata": {
        "colab": {
          "base_uri": "https://localhost:8080/"
        },
        "id": "2v457pcqNLVI",
        "outputId": "0f5fcf8c-536d-41b2-c9e4-0bf1dcd2829f"
      },
      "execution_count": null,
      "outputs": [
        {
          "output_type": "stream",
          "name": "stderr",
          "text": [
            "WARNING:absl:Found untraced functions such as final_layer_norm_layer_call_fn, final_layer_norm_layer_call_and_return_conditional_losses, dropout_32_layer_call_fn, dropout_32_layer_call_and_return_conditional_losses, final_layer_norm_layer_call_fn while saving (showing 5 of 728). These functions will not be directly callable after loading.\n"
          ]
        }
      ]
    },
    {
      "cell_type": "code",
      "source": [
        "with open(root+\"RL/\"+rouge_type+\"_model.pkl\", \"rb\") as f:\n",
        "  rouge2 = pickle.load(f)"
      ],
      "metadata": {
        "colab": {
          "base_uri": "https://localhost:8080/",
          "height": 191
        },
        "id": "r2tuuLicNa_-",
        "outputId": "22d2e223-cbcb-4d2e-ac50-503dd8c80ab3"
      },
      "execution_count": null,
      "outputs": [
        {
          "output_type": "error",
          "ename": "NameError",
          "evalue": "ignored",
          "traceback": [
            "\u001b[0;31m---------------------------------------------------------------------------\u001b[0m",
            "\u001b[0;31mNameError\u001b[0m                                 Traceback (most recent call last)",
            "\u001b[0;32m<ipython-input-2-244f206706ff>\u001b[0m in \u001b[0;36m<module>\u001b[0;34m()\u001b[0m\n\u001b[0;32m----> 1\u001b[0;31m \u001b[0;32mwith\u001b[0m \u001b[0mopen\u001b[0m\u001b[0;34m(\u001b[0m\u001b[0mroot\u001b[0m\u001b[0;34m+\u001b[0m\u001b[0;34m\"RL/\"\u001b[0m\u001b[0;34m+\u001b[0m\u001b[0mrouge_type\u001b[0m\u001b[0;34m+\u001b[0m\u001b[0;34m\"_model.pkl\"\u001b[0m\u001b[0;34m,\u001b[0m \u001b[0;34m\"rb\"\u001b[0m\u001b[0;34m)\u001b[0m \u001b[0;32mas\u001b[0m \u001b[0mf\u001b[0m\u001b[0;34m:\u001b[0m\u001b[0;34m\u001b[0m\u001b[0;34m\u001b[0m\u001b[0m\n\u001b[0m\u001b[1;32m      2\u001b[0m   \u001b[0mrouge2\u001b[0m \u001b[0;34m=\u001b[0m \u001b[0mpickle\u001b[0m\u001b[0;34m.\u001b[0m\u001b[0mload\u001b[0m\u001b[0;34m(\u001b[0m\u001b[0mf\u001b[0m\u001b[0;34m)\u001b[0m\u001b[0;34m\u001b[0m\u001b[0;34m\u001b[0m\u001b[0m\n",
            "\u001b[0;31mNameError\u001b[0m: name 'root' is not defined"
          ]
        }
      ]
    },
    {
      "cell_type": "code",
      "source": [
        "pred_ids = []\n",
        "for test in tqdm(tf_eval_dataset, total=len(tf_eval_dataset)):\n",
        "  input_ids, labels = test[\"input_ids\"], test[\"labels\"]\n",
        "  pred_ids.append(np.argmax(model(input_ids=input_ids, labels=labels)[\"logits\"], axis=-1))\n",
        "# like [np.array(), np.array(),...]"
      ],
      "metadata": {
        "id": "kPww1CJCvc0Y",
        "colab": {
          "base_uri": "https://localhost:8080/",
          "height": 443,
          "referenced_widgets": [
            "3f46ec38473f402ba6061b109a57a97f",
            "4b1c77eeaf5741f3b58d1e53a481afc5",
            "674a519bfde44809a807f94150e39551",
            "d2ee1842ce734b639418cebd7a77719a",
            "b21e459f901f4383bac18e02ff737430",
            "408a2254954e48dab5e7623f14f682d0",
            "b4e10fcfc9d84c3daaa2e8618a9f3cb3",
            "cb8476473ff841c4ba0707c4640dd76c",
            "9ec63015e90d4535aa2fecc8d46adf3d",
            "8028864ca1e4406c883fb329ef029e86",
            "88bcab58bec14d19b1cf521c475622ef"
          ]
        },
        "outputId": "d5172893-b9c6-4a3a-f264-197a91e8d5e6"
      },
      "execution_count": null,
      "outputs": [
        {
          "output_type": "display_data",
          "data": {
            "text/plain": [
              "  0%|          | 0/1374 [00:00<?, ?it/s]"
            ],
            "application/vnd.jupyter.widget-view+json": {
              "version_major": 2,
              "version_minor": 0,
              "model_id": "3f46ec38473f402ba6061b109a57a97f"
            }
          },
          "metadata": {}
        },
        {
          "output_type": "error",
          "ename": "KeyboardInterrupt",
          "evalue": "ignored",
          "traceback": [
            "\u001b[0;31m---------------------------------------------------------------------------\u001b[0m",
            "\u001b[0;31mKeyboardInterrupt\u001b[0m                         Traceback (most recent call last)",
            "\u001b[0;32m<ipython-input-38-7a693e325330>\u001b[0m in \u001b[0;36m<module>\u001b[0;34m()\u001b[0m\n\u001b[1;32m      2\u001b[0m \u001b[0;32mfor\u001b[0m \u001b[0mtest\u001b[0m \u001b[0;32min\u001b[0m \u001b[0mtqdm\u001b[0m\u001b[0;34m(\u001b[0m\u001b[0mtf_eval_dataset\u001b[0m\u001b[0;34m,\u001b[0m \u001b[0mtotal\u001b[0m\u001b[0;34m=\u001b[0m\u001b[0mlen\u001b[0m\u001b[0;34m(\u001b[0m\u001b[0mtf_eval_dataset\u001b[0m\u001b[0;34m)\u001b[0m\u001b[0;34m)\u001b[0m\u001b[0;34m:\u001b[0m\u001b[0;34m\u001b[0m\u001b[0;34m\u001b[0m\u001b[0m\n\u001b[1;32m      3\u001b[0m   \u001b[0minput_ids\u001b[0m\u001b[0;34m,\u001b[0m \u001b[0mlabels\u001b[0m \u001b[0;34m=\u001b[0m \u001b[0mtest\u001b[0m\u001b[0;34m[\u001b[0m\u001b[0;34m\"input_ids\"\u001b[0m\u001b[0;34m]\u001b[0m\u001b[0;34m,\u001b[0m \u001b[0mtest\u001b[0m\u001b[0;34m[\u001b[0m\u001b[0;34m\"labels\"\u001b[0m\u001b[0;34m]\u001b[0m\u001b[0;34m\u001b[0m\u001b[0;34m\u001b[0m\u001b[0m\n\u001b[0;32m----> 4\u001b[0;31m   \u001b[0mpred_ids\u001b[0m\u001b[0;34m.\u001b[0m\u001b[0mappend\u001b[0m\u001b[0;34m(\u001b[0m\u001b[0mnp\u001b[0m\u001b[0;34m.\u001b[0m\u001b[0margmax\u001b[0m\u001b[0;34m(\u001b[0m\u001b[0mmodel\u001b[0m\u001b[0;34m(\u001b[0m\u001b[0minput_ids\u001b[0m\u001b[0;34m=\u001b[0m\u001b[0minput_ids\u001b[0m\u001b[0;34m,\u001b[0m \u001b[0mlabels\u001b[0m\u001b[0;34m=\u001b[0m\u001b[0mlabels\u001b[0m\u001b[0;34m)\u001b[0m\u001b[0;34m[\u001b[0m\u001b[0;34m\"logits\"\u001b[0m\u001b[0;34m]\u001b[0m\u001b[0;34m,\u001b[0m \u001b[0maxis\u001b[0m\u001b[0;34m=\u001b[0m\u001b[0;34m-\u001b[0m\u001b[0;36m1\u001b[0m\u001b[0;34m)\u001b[0m\u001b[0;34m)\u001b[0m\u001b[0;34m\u001b[0m\u001b[0;34m\u001b[0m\u001b[0m\n\u001b[0m\u001b[1;32m      5\u001b[0m \u001b[0;31m# like [np.array(), np.array(),...]\u001b[0m\u001b[0;34m\u001b[0m\u001b[0;34m\u001b[0m\u001b[0;34m\u001b[0m\u001b[0m\n",
            "\u001b[0;32m<__array_function__ internals>\u001b[0m in \u001b[0;36margmax\u001b[0;34m(*args, **kwargs)\u001b[0m\n",
            "\u001b[0;32m/usr/local/lib/python3.7/dist-packages/numpy/core/fromnumeric.py\u001b[0m in \u001b[0;36margmax\u001b[0;34m(a, axis, out)\u001b[0m\n\u001b[1;32m   1193\u001b[0m \u001b[0;34m\u001b[0m\u001b[0m\n\u001b[1;32m   1194\u001b[0m     \"\"\"\n\u001b[0;32m-> 1195\u001b[0;31m     \u001b[0;32mreturn\u001b[0m \u001b[0m_wrapfunc\u001b[0m\u001b[0;34m(\u001b[0m\u001b[0ma\u001b[0m\u001b[0;34m,\u001b[0m \u001b[0;34m'argmax'\u001b[0m\u001b[0;34m,\u001b[0m \u001b[0maxis\u001b[0m\u001b[0;34m=\u001b[0m\u001b[0maxis\u001b[0m\u001b[0;34m,\u001b[0m \u001b[0mout\u001b[0m\u001b[0;34m=\u001b[0m\u001b[0mout\u001b[0m\u001b[0;34m)\u001b[0m\u001b[0;34m\u001b[0m\u001b[0;34m\u001b[0m\u001b[0m\n\u001b[0m\u001b[1;32m   1196\u001b[0m \u001b[0;34m\u001b[0m\u001b[0m\n\u001b[1;32m   1197\u001b[0m \u001b[0;34m\u001b[0m\u001b[0m\n",
            "\u001b[0;32m/usr/local/lib/python3.7/dist-packages/numpy/core/fromnumeric.py\u001b[0m in \u001b[0;36m_wrapfunc\u001b[0;34m(obj, method, *args, **kwds)\u001b[0m\n\u001b[1;32m     52\u001b[0m     \u001b[0mbound\u001b[0m \u001b[0;34m=\u001b[0m \u001b[0mgetattr\u001b[0m\u001b[0;34m(\u001b[0m\u001b[0mobj\u001b[0m\u001b[0;34m,\u001b[0m \u001b[0mmethod\u001b[0m\u001b[0;34m,\u001b[0m \u001b[0;32mNone\u001b[0m\u001b[0;34m)\u001b[0m\u001b[0;34m\u001b[0m\u001b[0;34m\u001b[0m\u001b[0m\n\u001b[1;32m     53\u001b[0m     \u001b[0;32mif\u001b[0m \u001b[0mbound\u001b[0m \u001b[0;32mis\u001b[0m \u001b[0;32mNone\u001b[0m\u001b[0;34m:\u001b[0m\u001b[0;34m\u001b[0m\u001b[0;34m\u001b[0m\u001b[0m\n\u001b[0;32m---> 54\u001b[0;31m         \u001b[0;32mreturn\u001b[0m \u001b[0m_wrapit\u001b[0m\u001b[0;34m(\u001b[0m\u001b[0mobj\u001b[0m\u001b[0;34m,\u001b[0m \u001b[0mmethod\u001b[0m\u001b[0;34m,\u001b[0m \u001b[0;34m*\u001b[0m\u001b[0margs\u001b[0m\u001b[0;34m,\u001b[0m \u001b[0;34m**\u001b[0m\u001b[0mkwds\u001b[0m\u001b[0;34m)\u001b[0m\u001b[0;34m\u001b[0m\u001b[0;34m\u001b[0m\u001b[0m\n\u001b[0m\u001b[1;32m     55\u001b[0m \u001b[0;34m\u001b[0m\u001b[0m\n\u001b[1;32m     56\u001b[0m     \u001b[0;32mtry\u001b[0m\u001b[0;34m:\u001b[0m\u001b[0;34m\u001b[0m\u001b[0;34m\u001b[0m\u001b[0m\n",
            "\u001b[0;32m/usr/local/lib/python3.7/dist-packages/numpy/core/fromnumeric.py\u001b[0m in \u001b[0;36m_wrapit\u001b[0;34m(obj, method, *args, **kwds)\u001b[0m\n\u001b[1;32m     41\u001b[0m     \u001b[0;32mexcept\u001b[0m \u001b[0mAttributeError\u001b[0m\u001b[0;34m:\u001b[0m\u001b[0;34m\u001b[0m\u001b[0;34m\u001b[0m\u001b[0m\n\u001b[1;32m     42\u001b[0m         \u001b[0mwrap\u001b[0m \u001b[0;34m=\u001b[0m \u001b[0;32mNone\u001b[0m\u001b[0;34m\u001b[0m\u001b[0;34m\u001b[0m\u001b[0m\n\u001b[0;32m---> 43\u001b[0;31m     \u001b[0mresult\u001b[0m \u001b[0;34m=\u001b[0m \u001b[0mgetattr\u001b[0m\u001b[0;34m(\u001b[0m\u001b[0masarray\u001b[0m\u001b[0;34m(\u001b[0m\u001b[0mobj\u001b[0m\u001b[0;34m)\u001b[0m\u001b[0;34m,\u001b[0m \u001b[0mmethod\u001b[0m\u001b[0;34m)\u001b[0m\u001b[0;34m(\u001b[0m\u001b[0;34m*\u001b[0m\u001b[0margs\u001b[0m\u001b[0;34m,\u001b[0m \u001b[0;34m**\u001b[0m\u001b[0mkwds\u001b[0m\u001b[0;34m)\u001b[0m\u001b[0;34m\u001b[0m\u001b[0;34m\u001b[0m\u001b[0m\n\u001b[0m\u001b[1;32m     44\u001b[0m     \u001b[0;32mif\u001b[0m \u001b[0mwrap\u001b[0m\u001b[0;34m:\u001b[0m\u001b[0;34m\u001b[0m\u001b[0;34m\u001b[0m\u001b[0m\n\u001b[1;32m     45\u001b[0m         \u001b[0;32mif\u001b[0m \u001b[0;32mnot\u001b[0m \u001b[0misinstance\u001b[0m\u001b[0;34m(\u001b[0m\u001b[0mresult\u001b[0m\u001b[0;34m,\u001b[0m \u001b[0mmu\u001b[0m\u001b[0;34m.\u001b[0m\u001b[0mndarray\u001b[0m\u001b[0;34m)\u001b[0m\u001b[0;34m:\u001b[0m\u001b[0;34m\u001b[0m\u001b[0;34m\u001b[0m\u001b[0m\n",
            "\u001b[0;31mKeyboardInterrupt\u001b[0m: "
          ]
        }
      ]
    },
    {
      "cell_type": "code",
      "source": [
        "temp = []\n",
        "for pred_id in tqdm(pred_ids):\n",
        "  for p in pred_id:\n",
        "    temp.append(list(p))\n",
        "pred_ids = temp"
      ],
      "metadata": {
        "id": "11PNPM8l8RlW"
      },
      "execution_count": null,
      "outputs": []
    },
    {
      "cell_type": "code",
      "source": [
        "len(pred_ids)"
      ],
      "metadata": {
        "id": "U8HuAigk8_Y6"
      },
      "execution_count": null,
      "outputs": []
    },
    {
      "cell_type": "code",
      "source": [
        "preds = []\n",
        "for id in pred_ids:\n",
        "  preds.append(tokenizer.convert_ids_to_tokens(id))"
      ],
      "metadata": {
        "id": "Kl_w7jtC5zQp"
      },
      "execution_count": null,
      "outputs": []
    },
    {
      "cell_type": "code",
      "source": [
        "preds = [\"\".join(pred) for pred in preds]"
      ],
      "metadata": {
        "id": "SNrh1J2L9Pq8"
      },
      "execution_count": null,
      "outputs": []
    },
    {
      "cell_type": "code",
      "source": [
        "# preds"
      ],
      "metadata": {
        "id": "9rUMtw509Q8i"
      },
      "execution_count": null,
      "outputs": []
    },
    {
      "cell_type": "code",
      "source": [
        "preds = [pred[1:] for pred in preds]\n",
        "preds = [pred.replace(\"▁<extra_id_0>\", \"\") for pred in preds]\n",
        "preds = [pred.replace(\"</s>\", \"\") for pred in preds]\n",
        "preds = [pred.replace(\"▁▁\", \"\") for pred in preds]\n",
        "preds = [pred.replace(\"▁\", \"\") for pred in preds]"
      ],
      "metadata": {
        "id": "b7cTBbNq9cZ9"
      },
      "execution_count": null,
      "outputs": []
    },
    {
      "cell_type": "code",
      "source": [
        "# preds"
      ],
      "metadata": {
        "id": "PwMiXv95-uuQ"
      },
      "execution_count": null,
      "outputs": []
    },
    {
      "cell_type": "code",
      "source": [
        "import json\n",
        "test_jsonl = []\n",
        "with open(root+\"data/public.jsonl\", \"r\") as file_list:\n",
        "  for j in file_list:\n",
        "    test_jsonl.append(json.loads(j))"
      ],
      "metadata": {
        "id": "BxjU2Hll_yzW"
      },
      "execution_count": null,
      "outputs": []
    },
    {
      "cell_type": "code",
      "source": [
        "test_id = [t[\"id\"] for t in test_jsonl]"
      ],
      "metadata": {
        "id": "U6LOrV1fAZwm"
      },
      "execution_count": null,
      "outputs": []
    },
    {
      "cell_type": "code",
      "source": [
        "import json\n",
        "with open(root+\"output/RL_test_\"+rouge_type+\".jsonl\", 'w') as f:\n",
        "  for id, p in zip(test_id, preds):\n",
        "    f.write(json.dumps({\"id\":id, \"title\":p}) + \"\\n\")"
      ],
      "metadata": {
        "id": "Em_zePgl-vQV"
      },
      "execution_count": null,
      "outputs": []
    },
    {
      "cell_type": "code",
      "source": [
        ""
      ],
      "metadata": {
        "id": "e72xPxlnBa4G"
      },
      "execution_count": null,
      "outputs": []
    },
    {
      "cell_type": "markdown",
      "source": [
        "rougeL : \n",
        "{\n",
        "  \"rouge-1\": {\n",
        "    \"r\": 0.24346591669294257,\n",
        "    \"p\": 0.2881311910753316,\n",
        "    \"f\": 0.26189572090120455\n",
        "  },\n",
        "  \"rouge-2\": {\n",
        "    \"r\": 0.0866767221620477,\n",
        "    \"p\": 0.09591283951209828,\n",
        "    \"f\": 0.09036334413900743\n",
        "  },\n",
        "  \"rouge-l\": {\n",
        "    \"r\": 0.23317436563826172,\n",
        "    \"p\": 0.27547083968807873,\n",
        "    \"f\": 0.25062248122568465\n",
        "  }\n",
        "}"
      ],
      "metadata": {
        "id": "odxpIctOJ3hN"
      }
    },
    {
      "cell_type": "markdown",
      "source": [
        "rouge1:"
      ],
      "metadata": {
        "id": "8xezzKTFJ74Y"
      }
    },
    {
      "cell_type": "markdown",
      "source": [
        "rouge2:"
      ],
      "metadata": {
        "id": "723mMkSlJ9_z"
      }
    },
    {
      "cell_type": "code",
      "source": [
        "rouge_types = [\"rouge1\", \"rouge2\", \"rougeL\"]\n"
      ],
      "metadata": {
        "id": "YhzPQ9gBwXMA"
      },
      "execution_count": null,
      "outputs": []
    }
  ]
}